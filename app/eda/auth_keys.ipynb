{
 "cells": [
  {
   "cell_type": "code",
   "execution_count": 1,
   "id": "06eb6f7f",
   "metadata": {},
   "outputs": [],
   "source": [
    "import pandas as pd\n",
    "pd.set_option(\"display.max_column\", None)\n"
   ]
  },
  {
   "cell_type": "code",
   "execution_count": null,
   "id": "73e02d1e",
   "metadata": {},
   "outputs": [
    {
     "data": {
      "text/html": [
       "<div>\n",
       "<style scoped>\n",
       "    .dataframe tbody tr th:only-of-type {\n",
       "        vertical-align: middle;\n",
       "    }\n",
       "\n",
       "    .dataframe tbody tr th {\n",
       "        vertical-align: top;\n",
       "    }\n",
       "\n",
       "    .dataframe thead th {\n",
       "        text-align: right;\n",
       "    }\n",
       "</style>\n",
       "<table border=\"1\" class=\"dataframe\">\n",
       "  <thead>\n",
       "    <tr style=\"text-align: right;\">\n",
       "      <th></th>\n",
       "      <th>_id</th>\n",
       "      <th>api_key_encrypted</th>\n",
       "      <th>company_id</th>\n",
       "      <th>created_at</th>\n",
       "      <th>updated_at</th>\n",
       "      <th>type</th>\n",
       "      <th>name</th>\n",
       "      <th>description</th>\n",
       "      <th>user_id</th>\n",
       "      <th>key_length</th>\n",
       "      <th>is_active</th>\n",
       "      <th>revoked_at</th>\n",
       "    </tr>\n",
       "  </thead>\n",
       "  <tbody>\n",
       "    <tr>\n",
       "      <th>23</th>\n",
       "      <td>684092c320ea20e4aca311a7</td>\n",
       "      <td>vjQjH3GJ3UT8pGlZrQ2YXdw/+XXZHlaomWu17lZ2bMOyQS...</td>\n",
       "      <td>684092c320ea20e4aca311a5</td>\n",
       "      <td>2025-06-04 18:38:59.845</td>\n",
       "      <td>2025-06-04 18:38:59.845</td>\n",
       "      <td>company_external</td>\n",
       "      <td>NaN</td>\n",
       "      <td>NaN</td>\n",
       "      <td>NaN</td>\n",
       "      <td>NaN</td>\n",
       "      <td>NaN</td>\n",
       "      <td>NaN</td>\n",
       "    </tr>\n",
       "    <tr>\n",
       "      <th>8</th>\n",
       "      <td>682475961b85c2b6f71a5bac</td>\n",
       "      <td>0yiS1n45lQe4NOdVg/n5P8KQojHhE1FenOmjEALHPxcSPq...</td>\n",
       "      <td>682475961b85c2b6f71a5baa</td>\n",
       "      <td>2025-05-14 10:51:02.955</td>\n",
       "      <td>2025-05-14 10:51:02.955</td>\n",
       "      <td>NaN</td>\n",
       "      <td>NaN</td>\n",
       "      <td>NaN</td>\n",
       "      <td>NaN</td>\n",
       "      <td>NaN</td>\n",
       "      <td>NaN</td>\n",
       "      <td>NaN</td>\n",
       "    </tr>\n",
       "  </tbody>\n",
       "</table>\n",
       "</div>"
      ],
      "text/plain": [
       "                         _id  \\\n",
       "23  684092c320ea20e4aca311a7   \n",
       "8   682475961b85c2b6f71a5bac   \n",
       "\n",
       "                                    api_key_encrypted  \\\n",
       "23  vjQjH3GJ3UT8pGlZrQ2YXdw/+XXZHlaomWu17lZ2bMOyQS...   \n",
       "8   0yiS1n45lQe4NOdVg/n5P8KQojHhE1FenOmjEALHPxcSPq...   \n",
       "\n",
       "                  company_id               created_at  \\\n",
       "23  684092c320ea20e4aca311a5  2025-06-04 18:38:59.845   \n",
       "8   682475961b85c2b6f71a5baa  2025-05-14 10:51:02.955   \n",
       "\n",
       "                 updated_at              type name description user_id  \\\n",
       "23  2025-06-04 18:38:59.845  company_external  NaN         NaN     NaN   \n",
       "8   2025-05-14 10:51:02.955               NaN  NaN         NaN     NaN   \n",
       "\n",
       "    key_length is_active revoked_at  \n",
       "23         NaN       NaN        NaN  \n",
       "8          NaN       NaN        NaN  "
      ]
     },
     "execution_count": 2,
     "metadata": {},
     "output_type": "execute_result"
    }
   ],
   "source": [
    "df = pd.read_csv(\"../../production_data/raw_data_dump/auth_keys.csv\")\n",
    "df.sample(2)\n"
   ]
  },
  {
   "cell_type": "code",
   "execution_count": null,
   "id": "ef45a158",
   "metadata": {},
   "outputs": [
    {
     "name": "stdout",
     "output_type": "stream",
     "text": [
      "shape:  (41, 12)\n",
      "Columns:  Index(['_id', 'api_key_encrypted', 'company_id', 'created_at', 'updated_at',\n",
      "       'type', 'name', 'description', 'user_id', 'key_length', 'is_active',\n",
      "       'revoked_at'],\n",
      "      dtype='object')\n"
     ]
    }
   ],
   "source": [
    "print(\"shape: \", df.shape)\n",
    "print(\"Columns: \", df.columns)\n"
   ]
  },
  {
   "cell_type": "code",
   "execution_count": null,
   "id": "f15c5cd3",
   "metadata": {},
   "outputs": [
    {
     "name": "stdout",
     "output_type": "stream",
     "text": [
      "<class 'pandas.core.frame.DataFrame'>\n",
      "RangeIndex: 41 entries, 0 to 40\n",
      "Data columns (total 12 columns):\n",
      " #   Column             Non-Null Count  Dtype  \n",
      "---  ------             --------------  -----  \n",
      " 0   _id                41 non-null     object \n",
      " 1   api_key_encrypted  41 non-null     object \n",
      " 2   company_id         41 non-null     object \n",
      " 3   created_at         41 non-null     object \n",
      " 4   updated_at         41 non-null     object \n",
      " 5   type               30 non-null     object \n",
      " 6   name               14 non-null     object \n",
      " 7   description        8 non-null      object \n",
      " 8   user_id            14 non-null     object \n",
      " 9   key_length         8 non-null      float64\n",
      " 10  is_active          8 non-null      object \n",
      " 11  revoked_at         3 non-null      object \n",
      "dtypes: float64(1), object(11)\n",
      "memory usage: 4.0+ KB\n"
     ]
    }
   ],
   "source": [
    "df.info()\n"
   ]
  },
  {
   "cell_type": "code",
   "execution_count": null,
   "id": "afe83422",
   "metadata": {},
   "outputs": [],
   "source": []
  }
 ],
 "metadata": {
  "kernelspec": {
   "display_name": "base",
   "language": "python",
   "name": "python3"
  },
  "language_info": {
   "codemirror_mode": {
    "name": "ipython",
    "version": 3
   },
   "file_extension": ".py",
   "mimetype": "text/x-python",
   "name": "python",
   "nbconvert_exporter": "python",
   "pygments_lexer": "ipython3",
   "version": "3.12.7"
  }
 },
 "nbformat": 4,
 "nbformat_minor": 5
}
