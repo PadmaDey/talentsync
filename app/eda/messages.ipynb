{
 "cells": [
  {
   "cell_type": "code",
   "execution_count": 4,
   "id": "3393f19f",
   "metadata": {},
   "outputs": [],
   "source": [
    "import pandas as pd\n",
    "pd.set_option(\"display.max_column\", None)\n"
   ]
  },
  {
   "cell_type": "code",
   "execution_count": 5,
   "id": "e38e8707",
   "metadata": {},
   "outputs": [
    {
     "data": {
      "text/html": [
       "<div>\n",
       "<style scoped>\n",
       "    .dataframe tbody tr th:only-of-type {\n",
       "        vertical-align: middle;\n",
       "    }\n",
       "\n",
       "    .dataframe tbody tr th {\n",
       "        vertical-align: top;\n",
       "    }\n",
       "\n",
       "    .dataframe thead th {\n",
       "        text-align: right;\n",
       "    }\n",
       "</style>\n",
       "<table border=\"1\" class=\"dataframe\">\n",
       "  <thead>\n",
       "    <tr style=\"text-align: right;\">\n",
       "      <th></th>\n",
       "      <th>_id</th>\n",
       "      <th>content</th>\n",
       "      <th>message_type</th>\n",
       "      <th>sender_id</th>\n",
       "      <th>recipient_id</th>\n",
       "      <th>company_id</th>\n",
       "      <th>created_at</th>\n",
       "      <th>status</th>\n",
       "      <th>read</th>\n",
       "      <th>metadata.type</th>\n",
       "      <th>metadata.batch.id</th>\n",
       "      <th>metadata.batch.name</th>\n",
       "      <th>metadata.job.id</th>\n",
       "      <th>metadata.job.title</th>\n",
       "      <th>metadata.timestamp</th>\n",
       "    </tr>\n",
       "  </thead>\n",
       "  <tbody>\n",
       "    <tr>\n",
       "      <th>2</th>\n",
       "      <td>684bf9b6c939b52e8b71abde</td>\n",
       "      <td>Batch '121' has been processed successfully.</td>\n",
       "      <td>notification</td>\n",
       "      <td>684bf129c939b52e8b71abd6</td>\n",
       "      <td>NaN</td>\n",
       "      <td>681c861b1cf44d32fe03095e</td>\n",
       "      <td>2025-06-13 10:13:10.171</td>\n",
       "      <td>sent</td>\n",
       "      <td>False</td>\n",
       "      <td>batch_processing_complete</td>\n",
       "      <td>426a07d1-97be-5f05-a333-2e80cc661218</td>\n",
       "      <td>121</td>\n",
       "      <td>68493685eabd1dae68df08ac</td>\n",
       "      <td>Front Desk Executive</td>\n",
       "      <td>2025-06-13T10:13:10.171378+00:00</td>\n",
       "    </tr>\n",
       "    <tr>\n",
       "      <th>8</th>\n",
       "      <td>684fedf9c939b52e8b71accc</td>\n",
       "      <td>Batch '250' has been processed successfully.</td>\n",
       "      <td>notification</td>\n",
       "      <td>684bf09bc939b52e8b71abd4</td>\n",
       "      <td>NaN</td>\n",
       "      <td>681c861b1cf44d32fe03095e</td>\n",
       "      <td>2025-06-16 10:12:09.731</td>\n",
       "      <td>sent</td>\n",
       "      <td>False</td>\n",
       "      <td>batch_processing_complete</td>\n",
       "      <td>68cd7b3c-a90b-55b3-aab9-59b385ef2231</td>\n",
       "      <td>250</td>\n",
       "      <td>6849372ceabd1dae68df08ad</td>\n",
       "      <td>NodeJS Developer</td>\n",
       "      <td>2025-06-16T10:12:09.731446+00:00</td>\n",
       "    </tr>\n",
       "  </tbody>\n",
       "</table>\n",
       "</div>"
      ],
      "text/plain": [
       "                        _id                                       content  \\\n",
       "2  684bf9b6c939b52e8b71abde  Batch '121' has been processed successfully.   \n",
       "8  684fedf9c939b52e8b71accc  Batch '250' has been processed successfully.   \n",
       "\n",
       "   message_type                 sender_id  recipient_id  \\\n",
       "2  notification  684bf129c939b52e8b71abd6           NaN   \n",
       "8  notification  684bf09bc939b52e8b71abd4           NaN   \n",
       "\n",
       "                 company_id               created_at status   read  \\\n",
       "2  681c861b1cf44d32fe03095e  2025-06-13 10:13:10.171   sent  False   \n",
       "8  681c861b1cf44d32fe03095e  2025-06-16 10:12:09.731   sent  False   \n",
       "\n",
       "               metadata.type                     metadata.batch.id  \\\n",
       "2  batch_processing_complete  426a07d1-97be-5f05-a333-2e80cc661218   \n",
       "8  batch_processing_complete  68cd7b3c-a90b-55b3-aab9-59b385ef2231   \n",
       "\n",
       "  metadata.batch.name           metadata.job.id    metadata.job.title  \\\n",
       "2                 121  68493685eabd1dae68df08ac  Front Desk Executive   \n",
       "8                 250  6849372ceabd1dae68df08ad      NodeJS Developer   \n",
       "\n",
       "                 metadata.timestamp  \n",
       "2  2025-06-13T10:13:10.171378+00:00  \n",
       "8  2025-06-16T10:12:09.731446+00:00  "
      ]
     },
     "execution_count": 5,
     "metadata": {},
     "output_type": "execute_result"
    }
   ],
   "source": [
    "df = pd.read_csv(\"../../production_data/raw_data_dump/messages.csv\")\n",
    "df.sample(2)\n"
   ]
  },
  {
   "cell_type": "code",
   "execution_count": 6,
   "id": "25c984e0",
   "metadata": {},
   "outputs": [
    {
     "name": "stdout",
     "output_type": "stream",
     "text": [
      "shape:  (42, 15)\n",
      "Columns:  Index(['_id', 'content', 'message_type', 'sender_id', 'recipient_id',\n",
      "       'company_id', 'created_at', 'status', 'read', 'metadata.type',\n",
      "       'metadata.batch.id', 'metadata.batch.name', 'metadata.job.id',\n",
      "       'metadata.job.title', 'metadata.timestamp'],\n",
      "      dtype='object')\n"
     ]
    }
   ],
   "source": [
    "print(\"shape: \", df.shape)\n",
    "print(\"Columns: \", df.columns)\n"
   ]
  },
  {
   "cell_type": "code",
   "execution_count": null,
   "id": "af8389a9",
   "metadata": {},
   "outputs": [
    {
     "name": "stdout",
     "output_type": "stream",
     "text": [
      "<class 'pandas.core.frame.DataFrame'>\n",
      "RangeIndex: 42 entries, 0 to 41\n",
      "Data columns (total 15 columns):\n",
      " #   Column               Non-Null Count  Dtype  \n",
      "---  ------               --------------  -----  \n",
      " 0   _id                  42 non-null     object \n",
      " 1   content              42 non-null     object \n",
      " 2   message_type         42 non-null     object \n",
      " 3   sender_id            42 non-null     object \n",
      " 4   recipient_id         0 non-null      float64\n",
      " 5   company_id           42 non-null     object \n",
      " 6   created_at           42 non-null     object \n",
      " 7   status               42 non-null     object \n",
      " 8   read                 42 non-null     bool   \n",
      " 9   metadata.type        42 non-null     object \n",
      " 10  metadata.batch.id    42 non-null     object \n",
      " 11  metadata.batch.name  42 non-null     object \n",
      " 12  metadata.job.id      42 non-null     object \n",
      " 13  metadata.job.title   42 non-null     object \n",
      " 14  metadata.timestamp   42 non-null     object \n",
      "dtypes: bool(1), float64(1), object(13)\n",
      "memory usage: 4.8+ KB\n"
     ]
    }
   ],
   "source": [
    "df.info()\n"
   ]
  },
  {
   "cell_type": "code",
   "execution_count": null,
   "id": "bfb8d544",
   "metadata": {},
   "outputs": [],
   "source": []
  }
 ],
 "metadata": {
  "kernelspec": {
   "display_name": "base",
   "language": "python",
   "name": "python3"
  },
  "language_info": {
   "codemirror_mode": {
    "name": "ipython",
    "version": 3
   },
   "file_extension": ".py",
   "mimetype": "text/x-python",
   "name": "python",
   "nbconvert_exporter": "python",
   "pygments_lexer": "ipython3",
   "version": "3.12.7"
  }
 },
 "nbformat": 4,
 "nbformat_minor": 5
}
