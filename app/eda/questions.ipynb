{
 "cells": [
  {
   "cell_type": "code",
   "execution_count": 4,
   "id": "b06cbf9d",
   "metadata": {},
   "outputs": [],
   "source": [
    "import pandas as pd\n",
    "pd.set_option(\"display.max_column\", None)\n"
   ]
  },
  {
   "cell_type": "code",
   "execution_count": 5,
   "id": "0db95e5f",
   "metadata": {},
   "outputs": [
    {
     "data": {
      "text/html": [
       "<div>\n",
       "<style scoped>\n",
       "    .dataframe tbody tr th:only-of-type {\n",
       "        vertical-align: middle;\n",
       "    }\n",
       "\n",
       "    .dataframe tbody tr th {\n",
       "        vertical-align: top;\n",
       "    }\n",
       "\n",
       "    .dataframe thead th {\n",
       "        text-align: right;\n",
       "    }\n",
       "</style>\n",
       "<table border=\"1\" class=\"dataframe\">\n",
       "  <thead>\n",
       "    <tr style=\"text-align: right;\">\n",
       "      <th></th>\n",
       "      <th>_id</th>\n",
       "      <th>priority</th>\n",
       "      <th>job_id</th>\n",
       "      <th>company_id</th>\n",
       "      <th>question</th>\n",
       "      <th>follow_up_count</th>\n",
       "      <th>created_at</th>\n",
       "      <th>updated_at</th>\n",
       "      <th>position</th>\n",
       "      <th>question.question</th>\n",
       "      <th>question_type</th>\n",
       "      <th>questions</th>\n",
       "    </tr>\n",
       "  </thead>\n",
       "  <tbody>\n",
       "    <tr>\n",
       "      <th>446</th>\n",
       "      <td>684ea958c939b52e8b71ac3f</td>\n",
       "      <td>NaN</td>\n",
       "      <td>NaN</td>\n",
       "      <td>684ea957c939b52e8b71ac3c</td>\n",
       "      <td>NaN</td>\n",
       "      <td>NaN</td>\n",
       "      <td>2025-06-15 11:07:04.153</td>\n",
       "      <td>2025-06-15 11:07:04.153</td>\n",
       "      <td>2.0</td>\n",
       "      <td>NaN</td>\n",
       "      <td>Fresher</td>\n",
       "      <td>['Are you currently receiving a stipend?', 'Wh...</td>\n",
       "    </tr>\n",
       "    <tr>\n",
       "      <th>471</th>\n",
       "      <td>684eaba2c939b52e8b71ac5a</td>\n",
       "      <td>NaN</td>\n",
       "      <td>684eab62c939b52e8b71ac41</td>\n",
       "      <td>684ea957c939b52e8b71ac3c</td>\n",
       "      <td>What is your experience with integrating third...</td>\n",
       "      <td>1.0</td>\n",
       "      <td>2025-06-15 11:16:50.708</td>\n",
       "      <td>2025-06-15 11:17:01.104</td>\n",
       "      <td>25.0</td>\n",
       "      <td>NaN</td>\n",
       "      <td>Technical</td>\n",
       "      <td>NaN</td>\n",
       "    </tr>\n",
       "  </tbody>\n",
       "</table>\n",
       "</div>"
      ],
      "text/plain": [
       "                          _id  priority                    job_id  \\\n",
       "446  684ea958c939b52e8b71ac3f       NaN                       NaN   \n",
       "471  684eaba2c939b52e8b71ac5a       NaN  684eab62c939b52e8b71ac41   \n",
       "\n",
       "                   company_id  \\\n",
       "446  684ea957c939b52e8b71ac3c   \n",
       "471  684ea957c939b52e8b71ac3c   \n",
       "\n",
       "                                              question  follow_up_count  \\\n",
       "446                                                NaN              NaN   \n",
       "471  What is your experience with integrating third...              1.0   \n",
       "\n",
       "                  created_at               updated_at  position  \\\n",
       "446  2025-06-15 11:07:04.153  2025-06-15 11:07:04.153       2.0   \n",
       "471  2025-06-15 11:16:50.708  2025-06-15 11:17:01.104      25.0   \n",
       "\n",
       "    question.question question_type  \\\n",
       "446               NaN       Fresher   \n",
       "471               NaN     Technical   \n",
       "\n",
       "                                             questions  \n",
       "446  ['Are you currently receiving a stipend?', 'Wh...  \n",
       "471                                                NaN  "
      ]
     },
     "execution_count": 5,
     "metadata": {},
     "output_type": "execute_result"
    }
   ],
   "source": [
    "df = pd.read_csv(\"../../production_data/raw_data_dump/questions.csv\")\n",
    "df.sample(2)\n"
   ]
  },
  {
   "cell_type": "code",
   "execution_count": 6,
   "id": "87000622",
   "metadata": {},
   "outputs": [
    {
     "name": "stdout",
     "output_type": "stream",
     "text": [
      "shape:  (548, 12)\n",
      "Columns:  Index(['_id', 'priority', 'job_id', 'company_id', 'question',\n",
      "       'follow_up_count', 'created_at', 'updated_at', 'position',\n",
      "       'question.question', 'question_type', 'questions'],\n",
      "      dtype='object')\n"
     ]
    }
   ],
   "source": [
    "print(\"shape: \", df.shape)\n",
    "print(\"Columns: \", df.columns)\n"
   ]
  },
  {
   "cell_type": "code",
   "execution_count": 7,
   "id": "d3ee0a32",
   "metadata": {},
   "outputs": [
    {
     "name": "stdout",
     "output_type": "stream",
     "text": [
      "<class 'pandas.core.frame.DataFrame'>\n",
      "RangeIndex: 548 entries, 0 to 547\n",
      "Data columns (total 12 columns):\n",
      " #   Column             Non-Null Count  Dtype  \n",
      "---  ------             --------------  -----  \n",
      " 0   _id                548 non-null    object \n",
      " 1   priority           283 non-null    float64\n",
      " 2   job_id             482 non-null    object \n",
      " 3   company_id         548 non-null    object \n",
      " 4   question           479 non-null    object \n",
      " 5   follow_up_count    482 non-null    float64\n",
      " 6   created_at         548 non-null    object \n",
      " 7   updated_at         548 non-null    object \n",
      " 8   position           547 non-null    float64\n",
      " 9   question.question  3 non-null      object \n",
      " 10  question_type      363 non-null    object \n",
      " 11  questions          66 non-null     object \n",
      "dtypes: float64(3), object(9)\n",
      "memory usage: 51.5+ KB\n"
     ]
    }
   ],
   "source": [
    "df.info()\n"
   ]
  },
  {
   "cell_type": "code",
   "execution_count": null,
   "id": "c56f8d0a",
   "metadata": {},
   "outputs": [],
   "source": []
  }
 ],
 "metadata": {
  "kernelspec": {
   "display_name": "base",
   "language": "python",
   "name": "python3"
  },
  "language_info": {
   "codemirror_mode": {
    "name": "ipython",
    "version": 3
   },
   "file_extension": ".py",
   "mimetype": "text/x-python",
   "name": "python",
   "nbconvert_exporter": "python",
   "pygments_lexer": "ipython3",
   "version": "3.12.7"
  }
 },
 "nbformat": 4,
 "nbformat_minor": 5
}
