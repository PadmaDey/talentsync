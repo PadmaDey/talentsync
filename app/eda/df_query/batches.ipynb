{
 "cells": [
  {
   "cell_type": "markdown",
   "id": "11535281",
   "metadata": {},
   "source": [
    "#### Import required packages"
   ]
  },
  {
   "cell_type": "code",
   "execution_count": 1,
   "id": "d7945de6",
   "metadata": {},
   "outputs": [],
   "source": [
    "import pandas as pd\n",
    "pd.set_option(\"display.max_column\", None)\n"
   ]
  },
  {
   "cell_type": "markdown",
   "id": "157c465e",
   "metadata": {},
   "source": [
    "#### Read the collection sample as a dataframe/table"
   ]
  },
  {
   "cell_type": "code",
   "execution_count": 2,
   "id": "cdd250a5",
   "metadata": {},
   "outputs": [
    {
     "data": {
      "text/html": [
       "<div>\n",
       "<style scoped>\n",
       "    .dataframe tbody tr th:only-of-type {\n",
       "        vertical-align: middle;\n",
       "    }\n",
       "\n",
       "    .dataframe tbody tr th {\n",
       "        vertical-align: top;\n",
       "    }\n",
       "\n",
       "    .dataframe thead th {\n",
       "        text-align: right;\n",
       "    }\n",
       "</style>\n",
       "<table border=\"1\" class=\"dataframe\">\n",
       "  <thead>\n",
       "    <tr style=\"text-align: right;\">\n",
       "      <th></th>\n",
       "      <th>_id</th>\n",
       "      <th>uploaded_by</th>\n",
       "      <th>company_id</th>\n",
       "      <th>batch_id</th>\n",
       "      <th>batch_name</th>\n",
       "      <th>upload_count</th>\n",
       "      <th>job_id</th>\n",
       "      <th>status</th>\n",
       "      <th>start_time</th>\n",
       "      <th>end_time</th>\n",
       "      <th>type</th>\n",
       "    </tr>\n",
       "  </thead>\n",
       "  <tbody>\n",
       "    <tr>\n",
       "      <th>43</th>\n",
       "      <td>68400c1bb72469b8444e433d</td>\n",
       "      <td>684002c6b72469b8444e4339</td>\n",
       "      <td>683ffda7b72469b8444e4328</td>\n",
       "      <td>b'\\xa3\\xc4\\x7fsy\\x05W\\xe4\\xb2B5ycK+\\xb9'</td>\n",
       "      <td>Batch.1</td>\n",
       "      <td>1.0</td>\n",
       "      <td>683fff3ab72469b8444e4332</td>\n",
       "      <td>completed</td>\n",
       "      <td>2025-06-04 09:04:27.871</td>\n",
       "      <td>2025-06-04 09:04:57.356</td>\n",
       "      <td>bulk</td>\n",
       "    </tr>\n",
       "    <tr>\n",
       "      <th>50</th>\n",
       "      <td>6840951a20ea20e4aca311af</td>\n",
       "      <td>6840927ce3518a909c34f02a</td>\n",
       "      <td>684092c320ea20e4aca311a5</td>\n",
       "      <td>b'\\xc2vW\\xd2\\x8f\\xf2Q@\\x93\\x1b\\xa3=L\\x8c\\x7fd'</td>\n",
       "      <td>w</td>\n",
       "      <td>1.0</td>\n",
       "      <td>684092f220ea20e4aca311a8</td>\n",
       "      <td>completed</td>\n",
       "      <td>2025-06-04 18:48:58.156</td>\n",
       "      <td>2025-06-04 18:49:15.286</td>\n",
       "      <td>bulk</td>\n",
       "    </tr>\n",
       "  </tbody>\n",
       "</table>\n",
       "</div>"
      ],
      "text/plain": [
       "                         _id               uploaded_by  \\\n",
       "43  68400c1bb72469b8444e433d  684002c6b72469b8444e4339   \n",
       "50  6840951a20ea20e4aca311af  6840927ce3518a909c34f02a   \n",
       "\n",
       "                  company_id                                        batch_id  \\\n",
       "43  683ffda7b72469b8444e4328        b'\\xa3\\xc4\\x7fsy\\x05W\\xe4\\xb2B5ycK+\\xb9'   \n",
       "50  684092c320ea20e4aca311a5  b'\\xc2vW\\xd2\\x8f\\xf2Q@\\x93\\x1b\\xa3=L\\x8c\\x7fd'   \n",
       "\n",
       "   batch_name  upload_count                    job_id     status  \\\n",
       "43    Batch.1           1.0  683fff3ab72469b8444e4332  completed   \n",
       "50          w           1.0  684092f220ea20e4aca311a8  completed   \n",
       "\n",
       "                 start_time                 end_time  type  \n",
       "43  2025-06-04 09:04:27.871  2025-06-04 09:04:57.356  bulk  \n",
       "50  2025-06-04 18:48:58.156  2025-06-04 18:49:15.286  bulk  "
      ]
     },
     "execution_count": 2,
     "metadata": {},
     "output_type": "execute_result"
    }
   ],
   "source": [
    "df = pd.read_csv(\"../../../production_data/raw_data_dump/batches.csv\")\n",
    "df.sample(2)\n"
   ]
  },
  {
   "cell_type": "markdown",
   "id": "be208477",
   "metadata": {},
   "source": [
    "#### Inspect the shape and columns"
   ]
  },
  {
   "cell_type": "code",
   "execution_count": 3,
   "id": "65599558",
   "metadata": {},
   "outputs": [
    {
     "name": "stdout",
     "output_type": "stream",
     "text": [
      "shape:  (196, 11)\n",
      "Columns:  Index(['_id', 'uploaded_by', 'company_id', 'batch_id', 'batch_name',\n",
      "       'upload_count', 'job_id', 'status', 'start_time', 'end_time', 'type'],\n",
      "      dtype='object')\n"
     ]
    }
   ],
   "source": [
    "print(\"shape: \", df.shape)\n",
    "print(\"Columns: \", df.columns)\n"
   ]
  },
  {
   "cell_type": "markdown",
   "id": "30fd6815",
   "metadata": {},
   "source": [
    "#### Inspect the detail collection info"
   ]
  },
  {
   "cell_type": "code",
   "execution_count": 4,
   "id": "b77a0a67",
   "metadata": {},
   "outputs": [
    {
     "name": "stdout",
     "output_type": "stream",
     "text": [
      "<class 'pandas.core.frame.DataFrame'>\n",
      "RangeIndex: 196 entries, 0 to 195\n",
      "Data columns (total 11 columns):\n",
      " #   Column        Non-Null Count  Dtype  \n",
      "---  ------        --------------  -----  \n",
      " 0   _id           196 non-null    object \n",
      " 1   uploaded_by   196 non-null    object \n",
      " 2   company_id    196 non-null    object \n",
      " 3   batch_id      196 non-null    object \n",
      " 4   batch_name    158 non-null    object \n",
      " 5   upload_count  117 non-null    float64\n",
      " 6   job_id        196 non-null    object \n",
      " 7   status        196 non-null    object \n",
      " 8   start_time    196 non-null    object \n",
      " 9   end_time      190 non-null    object \n",
      " 10  type          159 non-null    object \n",
      "dtypes: float64(1), object(10)\n",
      "memory usage: 17.0+ KB\n"
     ]
    }
   ],
   "source": [
    "df.info()\n"
   ]
  },
  {
   "cell_type": "markdown",
   "id": "de8f2f68",
   "metadata": {},
   "source": [
    "#### Find out upload counts"
   ]
  },
  {
   "cell_type": "code",
   "execution_count": 6,
   "id": "209589b8",
   "metadata": {},
   "outputs": [
    {
     "data": {
      "text/plain": [
       "upload_count\n",
       "1.0      107\n",
       "180.0      4\n",
       "3.0        2\n",
       "2.0        2\n",
       "10.0       1\n",
       "5.0        1\n",
       "Name: count, dtype: int64"
      ]
     },
     "execution_count": 6,
     "metadata": {},
     "output_type": "execute_result"
    }
   ],
   "source": [
    "df['upload_count'].value_counts()\n"
   ]
  },
  {
   "cell_type": "markdown",
   "id": "0ca59647",
   "metadata": {},
   "source": [
    "#### Find out type counts"
   ]
  },
  {
   "cell_type": "code",
   "execution_count": 7,
   "id": "727562ae",
   "metadata": {},
   "outputs": [
    {
     "data": {
      "text/plain": [
       "type\n",
       "bulk      80\n",
       "single    79\n",
       "Name: count, dtype: int64"
      ]
     },
     "execution_count": 7,
     "metadata": {},
     "output_type": "execute_result"
    }
   ],
   "source": [
    "df['type'].value_counts()\n"
   ]
  },
  {
   "cell_type": "markdown",
   "id": "ac5d60e3",
   "metadata": {},
   "source": [
    "#### Find out status counts"
   ]
  },
  {
   "cell_type": "code",
   "execution_count": 21,
   "id": "8076c5cb",
   "metadata": {},
   "outputs": [
    {
     "data": {
      "text/plain": [
       "status\n",
       "completed     190\n",
       "processing      6\n",
       "Name: count, dtype: int64"
      ]
     },
     "execution_count": 21,
     "metadata": {},
     "output_type": "execute_result"
    }
   ],
   "source": [
    "df['status'].value_counts()\n"
   ]
  },
  {
   "cell_type": "markdown",
   "id": "459fa6b0",
   "metadata": {},
   "source": [
    "#### Inspect 'batch_name','upload_count', 'type', 'status' together"
   ]
  },
  {
   "cell_type": "code",
   "execution_count": null,
   "id": "66624aab",
   "metadata": {},
   "outputs": [],
   "source": [
    "# pd.set_option(\"display.max_rows\", None)\n"
   ]
  },
  {
   "cell_type": "code",
   "execution_count": 16,
   "id": "9d54a3e9",
   "metadata": {},
   "outputs": [
    {
     "data": {
      "text/html": [
       "<div>\n",
       "<style scoped>\n",
       "    .dataframe tbody tr th:only-of-type {\n",
       "        vertical-align: middle;\n",
       "    }\n",
       "\n",
       "    .dataframe tbody tr th {\n",
       "        vertical-align: top;\n",
       "    }\n",
       "\n",
       "    .dataframe thead th {\n",
       "        text-align: right;\n",
       "    }\n",
       "</style>\n",
       "<table border=\"1\" class=\"dataframe\">\n",
       "  <thead>\n",
       "    <tr style=\"text-align: right;\">\n",
       "      <th></th>\n",
       "      <th>batch_name</th>\n",
       "      <th>upload_count</th>\n",
       "      <th>type</th>\n",
       "      <th>status</th>\n",
       "    </tr>\n",
       "  </thead>\n",
       "  <tbody>\n",
       "    <tr>\n",
       "      <th>27</th>\n",
       "      <td>Pinion batch 1</td>\n",
       "      <td>180.0</td>\n",
       "      <td>NaN</td>\n",
       "      <td>completed</td>\n",
       "    </tr>\n",
       "    <tr>\n",
       "      <th>34</th>\n",
       "      <td>3</td>\n",
       "      <td>1.0</td>\n",
       "      <td>NaN</td>\n",
       "      <td>completed</td>\n",
       "    </tr>\n",
       "    <tr>\n",
       "      <th>63</th>\n",
       "      <td>Wp-Careers</td>\n",
       "      <td>NaN</td>\n",
       "      <td>single</td>\n",
       "      <td>completed</td>\n",
       "    </tr>\n",
       "    <tr>\n",
       "      <th>95</th>\n",
       "      <td>300</td>\n",
       "      <td>1.0</td>\n",
       "      <td>bulk</td>\n",
       "      <td>completed</td>\n",
       "    </tr>\n",
       "    <tr>\n",
       "      <th>56</th>\n",
       "      <td>awe</td>\n",
       "      <td>1.0</td>\n",
       "      <td>bulk</td>\n",
       "      <td>completed</td>\n",
       "    </tr>\n",
       "  </tbody>\n",
       "</table>\n",
       "</div>"
      ],
      "text/plain": [
       "        batch_name  upload_count    type     status\n",
       "27  Pinion batch 1         180.0     NaN  completed\n",
       "34               3           1.0     NaN  completed\n",
       "63      Wp-Careers           NaN  single  completed\n",
       "95             300           1.0    bulk  completed\n",
       "56             awe           1.0    bulk  completed"
      ]
     },
     "execution_count": 16,
     "metadata": {},
     "output_type": "execute_result"
    }
   ],
   "source": [
    "df_result = df[['batch_name','upload_count', 'type', 'status']].sort_values(by=['status','type', 'upload_count'], ascending=True)\n",
    "df_result.sample(5)\n"
   ]
  },
  {
   "cell_type": "markdown",
   "id": "2b583c7f",
   "metadata": {},
   "source": [
    "#### Replace upload_count = NaN with 1.0 where batch_name = \"Wp-Careers\""
   ]
  },
  {
   "cell_type": "code",
   "execution_count": 23,
   "id": "053cfabb",
   "metadata": {},
   "outputs": [
    {
     "data": {
      "text/html": [
       "<div>\n",
       "<style scoped>\n",
       "    .dataframe tbody tr th:only-of-type {\n",
       "        vertical-align: middle;\n",
       "    }\n",
       "\n",
       "    .dataframe tbody tr th {\n",
       "        vertical-align: top;\n",
       "    }\n",
       "\n",
       "    .dataframe thead th {\n",
       "        text-align: right;\n",
       "    }\n",
       "</style>\n",
       "<table border=\"1\" class=\"dataframe\">\n",
       "  <thead>\n",
       "    <tr style=\"text-align: right;\">\n",
       "      <th></th>\n",
       "      <th>batch_name</th>\n",
       "      <th>upload_count</th>\n",
       "      <th>type</th>\n",
       "      <th>status</th>\n",
       "    </tr>\n",
       "  </thead>\n",
       "  <tbody>\n",
       "    <tr>\n",
       "      <th>69</th>\n",
       "      <td>Wp-Careers</td>\n",
       "      <td>1.0</td>\n",
       "      <td>single</td>\n",
       "      <td>completed</td>\n",
       "    </tr>\n",
       "    <tr>\n",
       "      <th>145</th>\n",
       "      <td>Wp-Careers</td>\n",
       "      <td>1.0</td>\n",
       "      <td>single</td>\n",
       "      <td>completed</td>\n",
       "    </tr>\n",
       "    <tr>\n",
       "      <th>76</th>\n",
       "      <td>Wp-Careers</td>\n",
       "      <td>1.0</td>\n",
       "      <td>single</td>\n",
       "      <td>completed</td>\n",
       "    </tr>\n",
       "    <tr>\n",
       "      <th>65</th>\n",
       "      <td>Wp-Careers</td>\n",
       "      <td>1.0</td>\n",
       "      <td>single</td>\n",
       "      <td>completed</td>\n",
       "    </tr>\n",
       "    <tr>\n",
       "      <th>117</th>\n",
       "      <td>Wp-Careers</td>\n",
       "      <td>1.0</td>\n",
       "      <td>single</td>\n",
       "      <td>completed</td>\n",
       "    </tr>\n",
       "  </tbody>\n",
       "</table>\n",
       "</div>"
      ],
      "text/plain": [
       "     batch_name  upload_count    type     status\n",
       "69   Wp-Careers           1.0  single  completed\n",
       "145  Wp-Careers           1.0  single  completed\n",
       "76   Wp-Careers           1.0  single  completed\n",
       "65   Wp-Careers           1.0  single  completed\n",
       "117  Wp-Careers           1.0  single  completed"
      ]
     },
     "execution_count": 23,
     "metadata": {},
     "output_type": "execute_result"
    }
   ],
   "source": [
    "import numpy as np\n",
    "df_copy = df.copy()\n",
    "\n",
    "df_copy.loc[\n",
    "    (df['batch_name'] == \"Wp-Careers\") & (df['upload_count'].isna()),\n",
    "    'upload_count'\n",
    "] = 1.0\n",
    "\n",
    "df_copy = df_copy[df_copy['batch_name'] == \"Wp-Careers\"]\n",
    "df_copy[['batch_name','upload_count', 'type', 'status']].sample(5)\n"
   ]
  },
  {
   "cell_type": "code",
   "execution_count": null,
   "id": "10177327",
   "metadata": {},
   "outputs": [],
   "source": []
  }
 ],
 "metadata": {
  "kernelspec": {
   "display_name": "base",
   "language": "python",
   "name": "python3"
  },
  "language_info": {
   "codemirror_mode": {
    "name": "ipython",
    "version": 3
   },
   "file_extension": ".py",
   "mimetype": "text/x-python",
   "name": "python",
   "nbconvert_exporter": "python",
   "pygments_lexer": "ipython3",
   "version": "3.12.7"
  }
 },
 "nbformat": 4,
 "nbformat_minor": 5
}
