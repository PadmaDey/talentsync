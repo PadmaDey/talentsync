{
 "cells": [
  {
   "cell_type": "code",
   "execution_count": 1,
   "id": "d7945de6",
   "metadata": {},
   "outputs": [],
   "source": [
    "import pandas as pd\n",
    "pd.set_option(\"display.max_column\", None)\n"
   ]
  },
  {
   "cell_type": "code",
   "execution_count": null,
   "id": "cdd250a5",
   "metadata": {},
   "outputs": [
    {
     "data": {
      "text/html": [
       "<div>\n",
       "<style scoped>\n",
       "    .dataframe tbody tr th:only-of-type {\n",
       "        vertical-align: middle;\n",
       "    }\n",
       "\n",
       "    .dataframe tbody tr th {\n",
       "        vertical-align: top;\n",
       "    }\n",
       "\n",
       "    .dataframe thead th {\n",
       "        text-align: right;\n",
       "    }\n",
       "</style>\n",
       "<table border=\"1\" class=\"dataframe\">\n",
       "  <thead>\n",
       "    <tr style=\"text-align: right;\">\n",
       "      <th></th>\n",
       "      <th>_id</th>\n",
       "      <th>uploaded_by</th>\n",
       "      <th>company_id</th>\n",
       "      <th>batch_id</th>\n",
       "      <th>batch_name</th>\n",
       "      <th>upload_count</th>\n",
       "      <th>job_id</th>\n",
       "      <th>status</th>\n",
       "      <th>start_time</th>\n",
       "      <th>end_time</th>\n",
       "      <th>type</th>\n",
       "    </tr>\n",
       "  </thead>\n",
       "  <tbody>\n",
       "    <tr>\n",
       "      <th>25</th>\n",
       "      <td>68357acbde4f05c873948b1a</td>\n",
       "      <td>68307b2d0582447f62edadd5</td>\n",
       "      <td>68307b590582447f62edadd8</td>\n",
       "      <td>b'^[[+\\x98\\xe6]v\\x93\\xb1\\xd1aTf\\x1bL'</td>\n",
       "      <td>test data 2</td>\n",
       "      <td>1.0</td>\n",
       "      <td>683539efde4f05c873948af9</td>\n",
       "      <td>completed</td>\n",
       "      <td>2025-05-27 08:41:47.497</td>\n",
       "      <td>2025-05-27 08:42:14.361</td>\n",
       "      <td>NaN</td>\n",
       "    </tr>\n",
       "    <tr>\n",
       "      <th>36</th>\n",
       "      <td>683d7116c165a9e593e1ec92</td>\n",
       "      <td>6836cd97c165a9e593e1ec52</td>\n",
       "      <td>6835e66bc165a9e593e1ebb1</td>\n",
       "      <td>b'j\\rN\\x80\\x95y\\\\q\\x96\\xcfp\\x95\\xe2\\x80\\t\\xb1'</td>\n",
       "      <td>batch.2</td>\n",
       "      <td>1.0</td>\n",
       "      <td>6836cb0ac165a9e593e1ec4e</td>\n",
       "      <td>processing</td>\n",
       "      <td>2025-06-02 09:38:30.606</td>\n",
       "      <td>NaN</td>\n",
       "      <td>NaN</td>\n",
       "    </tr>\n",
       "  </tbody>\n",
       "</table>\n",
       "</div>"
      ],
      "text/plain": [
       "                         _id               uploaded_by  \\\n",
       "25  68357acbde4f05c873948b1a  68307b2d0582447f62edadd5   \n",
       "36  683d7116c165a9e593e1ec92  6836cd97c165a9e593e1ec52   \n",
       "\n",
       "                  company_id                                        batch_id  \\\n",
       "25  68307b590582447f62edadd8           b'^[[+\\x98\\xe6]v\\x93\\xb1\\xd1aTf\\x1bL'   \n",
       "36  6835e66bc165a9e593e1ebb1  b'j\\rN\\x80\\x95y\\\\q\\x96\\xcfp\\x95\\xe2\\x80\\t\\xb1'   \n",
       "\n",
       "     batch_name  upload_count                    job_id      status  \\\n",
       "25  test data 2           1.0  683539efde4f05c873948af9   completed   \n",
       "36      batch.2           1.0  6836cb0ac165a9e593e1ec4e  processing   \n",
       "\n",
       "                 start_time                 end_time type  \n",
       "25  2025-05-27 08:41:47.497  2025-05-27 08:42:14.361  NaN  \n",
       "36  2025-06-02 09:38:30.606                      NaN  NaN  "
      ]
     },
     "execution_count": 2,
     "metadata": {},
     "output_type": "execute_result"
    }
   ],
   "source": [
    "df = pd.read_csv(\"../../production_data/raw_data_dump/batches.csv\")\n",
    "df.sample(2)\n"
   ]
  },
  {
   "cell_type": "code",
   "execution_count": null,
   "id": "65599558",
   "metadata": {},
   "outputs": [
    {
     "name": "stdout",
     "output_type": "stream",
     "text": [
      "shape:  (137, 11)\n",
      "Columns:  Index(['_id', 'uploaded_by', 'company_id', 'batch_id', 'batch_name',\n",
      "       'upload_count', 'job_id', 'status', 'start_time', 'end_time', 'type'],\n",
      "      dtype='object')\n"
     ]
    }
   ],
   "source": [
    "print(\"shape: \", df.shape)\n",
    "print(\"Columns: \", df.columns)\n"
   ]
  },
  {
   "cell_type": "code",
   "execution_count": null,
   "id": "b77a0a67",
   "metadata": {},
   "outputs": [
    {
     "name": "stdout",
     "output_type": "stream",
     "text": [
      "<class 'pandas.core.frame.DataFrame'>\n",
      "RangeIndex: 137 entries, 0 to 136\n",
      "Data columns (total 11 columns):\n",
      " #   Column        Non-Null Count  Dtype  \n",
      "---  ------        --------------  -----  \n",
      " 0   _id           137 non-null    object \n",
      " 1   uploaded_by   137 non-null    object \n",
      " 2   company_id    137 non-null    object \n",
      " 3   batch_id      137 non-null    object \n",
      " 4   batch_name    101 non-null    object \n",
      " 5   upload_count  101 non-null    float64\n",
      " 6   job_id        137 non-null    object \n",
      " 7   status        137 non-null    object \n",
      " 8   start_time    137 non-null    object \n",
      " 9   end_time      131 non-null    object \n",
      " 10  type          100 non-null    object \n",
      "dtypes: float64(1), object(10)\n",
      "memory usage: 11.9+ KB\n"
     ]
    }
   ],
   "source": [
    "df.info()\n"
   ]
  },
  {
   "cell_type": "code",
   "execution_count": null,
   "id": "209589b8",
   "metadata": {},
   "outputs": [],
   "source": []
  }
 ],
 "metadata": {
  "kernelspec": {
   "display_name": "base",
   "language": "python",
   "name": "python3"
  },
  "language_info": {
   "codemirror_mode": {
    "name": "ipython",
    "version": 3
   },
   "file_extension": ".py",
   "mimetype": "text/x-python",
   "name": "python",
   "nbconvert_exporter": "python",
   "pygments_lexer": "ipython3",
   "version": "3.12.7"
  }
 },
 "nbformat": 4,
 "nbformat_minor": 5
}
