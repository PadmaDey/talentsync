{
 "cells": [
  {
   "cell_type": "markdown",
   "id": "2ec38243",
   "metadata": {},
   "source": [
    "#### Import required package"
   ]
  },
  {
   "cell_type": "code",
   "execution_count": 1,
   "id": "efe790e1",
   "metadata": {},
   "outputs": [],
   "source": [
    "import pandas as pd\n",
    "pd.set_option(\"display.max_column\", None)\n"
   ]
  },
  {
   "cell_type": "markdown",
   "id": "4889005a",
   "metadata": {},
   "source": [
    "#### View the collection"
   ]
  },
  {
   "cell_type": "code",
   "execution_count": 3,
   "id": "384ec772",
   "metadata": {},
   "outputs": [
    {
     "data": {
      "text/html": [
       "<div>\n",
       "<style scoped>\n",
       "    .dataframe tbody tr th:only-of-type {\n",
       "        vertical-align: middle;\n",
       "    }\n",
       "\n",
       "    .dataframe tbody tr th {\n",
       "        vertical-align: top;\n",
       "    }\n",
       "\n",
       "    .dataframe thead th {\n",
       "        text-align: right;\n",
       "    }\n",
       "</style>\n",
       "<table border=\"1\" class=\"dataframe\">\n",
       "  <thead>\n",
       "    <tr style=\"text-align: right;\">\n",
       "      <th></th>\n",
       "      <th>_id</th>\n",
       "      <th>candidate_id</th>\n",
       "      <th>questions</th>\n",
       "      <th>created_at</th>\n",
       "      <th>updated_at</th>\n",
       "    </tr>\n",
       "  </thead>\n",
       "  <tbody>\n",
       "    <tr>\n",
       "      <th>219</th>\n",
       "      <td>6841040b20ea20e4aca31236</td>\n",
       "      <td>68410282f7609e0553b83709</td>\n",
       "      <td>['Given your extensive experience in talent ac...</td>\n",
       "      <td>2025-06-05 02:37:53.024</td>\n",
       "      <td>2025-06-05 02:37:53.024</td>\n",
       "    </tr>\n",
       "    <tr>\n",
       "      <th>12</th>\n",
       "      <td>6822f7b96342bdaa11723a27</td>\n",
       "      <td>6822f72e3d9e6a158140922c</td>\n",
       "      <td>['Can you describe a specific instance where y...</td>\n",
       "      <td>2025-05-13 07:40:30.911</td>\n",
       "      <td>2025-05-13 07:40:30.911</td>\n",
       "    </tr>\n",
       "  </tbody>\n",
       "</table>\n",
       "</div>"
      ],
      "text/plain": [
       "                          _id              candidate_id  \\\n",
       "219  6841040b20ea20e4aca31236  68410282f7609e0553b83709   \n",
       "12   6822f7b96342bdaa11723a27  6822f72e3d9e6a158140922c   \n",
       "\n",
       "                                             questions  \\\n",
       "219  ['Given your extensive experience in talent ac...   \n",
       "12   ['Can you describe a specific instance where y...   \n",
       "\n",
       "                  created_at               updated_at  \n",
       "219  2025-06-05 02:37:53.024  2025-06-05 02:37:53.024  \n",
       "12   2025-05-13 07:40:30.911  2025-05-13 07:40:30.911  "
      ]
     },
     "execution_count": 3,
     "metadata": {},
     "output_type": "execute_result"
    }
   ],
   "source": [
    "df = pd.read_csv(\"../../../production_data/raw_data_dump/candidate_questions.csv\")\n",
    "df.sample(2)\n"
   ]
  },
  {
   "cell_type": "markdown",
   "id": "9d315d1b",
   "metadata": {},
   "source": [
    "#### Inspect the shape and columns in the collection"
   ]
  },
  {
   "cell_type": "code",
   "execution_count": 4,
   "id": "c0dddad3",
   "metadata": {},
   "outputs": [
    {
     "name": "stdout",
     "output_type": "stream",
     "text": [
      "shape:  (386, 5)\n",
      "Columns:  Index(['_id', 'candidate_id', 'questions', 'created_at', 'updated_at'], dtype='object')\n"
     ]
    }
   ],
   "source": [
    "print(\"shape: \", df.shape)\n",
    "print(\"Columns: \", df.columns)\n"
   ]
  },
  {
   "cell_type": "markdown",
   "id": "9f428f56",
   "metadata": {},
   "source": [
    "#### Get a detail info about the documents in the collection"
   ]
  },
  {
   "cell_type": "code",
   "execution_count": 5,
   "id": "bb09e697",
   "metadata": {},
   "outputs": [
    {
     "name": "stdout",
     "output_type": "stream",
     "text": [
      "<class 'pandas.core.frame.DataFrame'>\n",
      "RangeIndex: 386 entries, 0 to 385\n",
      "Data columns (total 5 columns):\n",
      " #   Column        Non-Null Count  Dtype \n",
      "---  ------        --------------  ----- \n",
      " 0   _id           386 non-null    object\n",
      " 1   candidate_id  386 non-null    object\n",
      " 2   questions     386 non-null    object\n",
      " 3   created_at    386 non-null    object\n",
      " 4   updated_at    386 non-null    object\n",
      "dtypes: object(5)\n",
      "memory usage: 15.2+ KB\n"
     ]
    }
   ],
   "source": [
    "df.info()\n"
   ]
  },
  {
   "cell_type": "markdown",
   "id": "726453a4",
   "metadata": {},
   "source": [
    "#### Check the questions in the collection"
   ]
  },
  {
   "cell_type": "code",
   "execution_count": 6,
   "id": "223f3685",
   "metadata": {},
   "outputs": [
    {
     "data": {
      "text/html": [
       "<div>\n",
       "<style scoped>\n",
       "    .dataframe tbody tr th:only-of-type {\n",
       "        vertical-align: middle;\n",
       "    }\n",
       "\n",
       "    .dataframe tbody tr th {\n",
       "        vertical-align: top;\n",
       "    }\n",
       "\n",
       "    .dataframe thead th {\n",
       "        text-align: right;\n",
       "    }\n",
       "</style>\n",
       "<table border=\"1\" class=\"dataframe\">\n",
       "  <thead>\n",
       "    <tr style=\"text-align: right;\">\n",
       "      <th></th>\n",
       "      <th>questions</th>\n",
       "    </tr>\n",
       "  </thead>\n",
       "  <tbody>\n",
       "    <tr>\n",
       "      <th>0</th>\n",
       "      <td>['Given your extensive experience in human res...</td>\n",
       "    </tr>\n",
       "    <tr>\n",
       "      <th>1</th>\n",
       "      <td>['Can you describe any experience you have wit...</td>\n",
       "    </tr>\n",
       "    <tr>\n",
       "      <th>2</th>\n",
       "      <td>['Given your extensive experience in human res...</td>\n",
       "    </tr>\n",
       "    <tr>\n",
       "      <th>3</th>\n",
       "      <td>['Can you describe a project where you had to ...</td>\n",
       "    </tr>\n",
       "    <tr>\n",
       "      <th>4</th>\n",
       "      <td>['Can you describe a project where you utilize...</td>\n",
       "    </tr>\n",
       "    <tr>\n",
       "      <th>...</th>\n",
       "      <td>...</td>\n",
       "    </tr>\n",
       "    <tr>\n",
       "      <th>381</th>\n",
       "      <td>['Can you describe a specific project where yo...</td>\n",
       "    </tr>\n",
       "    <tr>\n",
       "      <th>382</th>\n",
       "      <td>['Can you describe a specific lesson plan you ...</td>\n",
       "    </tr>\n",
       "    <tr>\n",
       "      <th>383</th>\n",
       "      <td>['Can you describe your experience developing ...</td>\n",
       "    </tr>\n",
       "    <tr>\n",
       "      <th>384</th>\n",
       "      <td>['Can you describe a specific lesson plan you ...</td>\n",
       "    </tr>\n",
       "    <tr>\n",
       "      <th>385</th>\n",
       "      <td>['Can you describe a specific lesson plan you ...</td>\n",
       "    </tr>\n",
       "  </tbody>\n",
       "</table>\n",
       "<p>386 rows × 1 columns</p>\n",
       "</div>"
      ],
      "text/plain": [
       "                                             questions\n",
       "0    ['Given your extensive experience in human res...\n",
       "1    ['Can you describe any experience you have wit...\n",
       "2    ['Given your extensive experience in human res...\n",
       "3    ['Can you describe a project where you had to ...\n",
       "4    ['Can you describe a project where you utilize...\n",
       "..                                                 ...\n",
       "381  ['Can you describe a specific project where yo...\n",
       "382  ['Can you describe a specific lesson plan you ...\n",
       "383  ['Can you describe your experience developing ...\n",
       "384  ['Can you describe a specific lesson plan you ...\n",
       "385  ['Can you describe a specific lesson plan you ...\n",
       "\n",
       "[386 rows x 1 columns]"
      ]
     },
     "execution_count": 6,
     "metadata": {},
     "output_type": "execute_result"
    }
   ],
   "source": [
    "df[['questions']]\n"
   ]
  },
  {
   "cell_type": "markdown",
   "id": "ff433978",
   "metadata": {},
   "source": [
    "#### Read the very first question"
   ]
  },
  {
   "cell_type": "code",
   "execution_count": 8,
   "id": "0b04690d",
   "metadata": {},
   "outputs": [
    {
     "data": {
      "text/plain": [
       "'[\\'Given your extensive experience in human resources, can you describe a project where you utilized Python to automate HR processes or data analysis? What was the outcome?\\', \\'How have you applied your understanding of object-oriented programming principles in any programming projects, and can you provide a specific example of how this improved your code quality?\\', \"In your previous roles, how did you collaborate with technical teams to implement software solutions, and can you share an instance where your input significantly influenced the project\\'s direction?\", \\'Can you discuss a time when you had to debug a complex issue in a software application? What approach did you take, and what tools did you use to resolve it?\\', \\'As you transition from HR to a technical role, what steps have you taken to enhance your Python skills and understanding of frameworks like Django or Flask?\\']'"
      ]
     },
     "execution_count": 8,
     "metadata": {},
     "output_type": "execute_result"
    }
   ],
   "source": [
    "df['questions'][0]\n"
   ]
  },
  {
   "cell_type": "code",
   "execution_count": 16,
   "id": "93b8dc33",
   "metadata": {},
   "outputs": [
    {
     "name": "stdout",
     "output_type": "stream",
     "text": [
      "Given your extensive experience in human resources, can you describe a project where you utilized Python to automate HR processes or data analysis? What was the outcome?\n",
      "\n",
      "How have you applied your understanding of object-oriented programming principles in any programming projects, and can you provide a specific example of how this improved your code quality?\n",
      "\n",
      "In your previous roles, how did you collaborate with technical teams to implement software solutions, and can you share an instance where your input significantly influenced the project's direction?\n",
      "\n",
      "Can you discuss a time when you had to debug a complex issue in a software application? What approach did you take, and what tools did you use to resolve it?\n",
      "\n",
      "As you transition from HR to a technical role, what steps have you taken to enhance your Python skills and understanding of frameworks like Django or Flask?\n",
      "\n"
     ]
    }
   ],
   "source": [
    "import ast\n",
    "\n",
    "# Convert the string representation of a list to an actual Python list\n",
    "questions_str = df['questions'][0]\n",
    "questions_list = ast.literal_eval(questions_str)\n",
    "\n",
    "# Print each question on a new line\n",
    "for q in questions_list:\n",
    "    print(q, end='\\n\\n')\n"
   ]
  },
  {
   "cell_type": "markdown",
   "id": "adbe305c",
   "metadata": {},
   "source": [
    "#### Read the last added question in the collection"
   ]
  },
  {
   "cell_type": "code",
   "execution_count": 14,
   "id": "79e3a654",
   "metadata": {},
   "outputs": [
    {
     "data": {
      "text/plain": [
       "\"['Can you describe a specific lesson plan you developed for adult learners at Cambly, and how you tailored it to meet their individual needs? (Evaluating your ability to customize instruction for diverse learners.)', 'What strategies did you use to track student progress and provide feedback during your time at 51Talk, and how did you measure their success? (Assessing your methods for monitoring and enhancing student performance.)', 'In your experience as a Trial Lesson Teacher at Bubulearn, what challenges did you face in creating an engaging virtual classroom, and how did you overcome them? (Understanding your problem-solving skills and adaptability in a remote teaching environment.)', 'Can you share an example of how your communication and interpersonal skills helped you build rapport with adult learners in your previous roles? (Evaluating your soft skills and their impact on student engagement.)', 'How have you continued to develop your teaching skills or knowledge in English language instruction over your 14.67 years of experience? (Exploring your commitment to professional growth and skill enhancement.)']\""
      ]
     },
     "execution_count": 14,
     "metadata": {},
     "output_type": "execute_result"
    }
   ],
   "source": [
    "df['questions'].iloc[-1]\n"
   ]
  },
  {
   "cell_type": "code",
   "execution_count": 17,
   "id": "dbdd6e64",
   "metadata": {},
   "outputs": [
    {
     "name": "stdout",
     "output_type": "stream",
     "text": [
      "Can you describe a specific lesson plan you developed for adult learners at Cambly, and how you tailored it to meet their individual needs? (Evaluating your ability to customize instruction for diverse learners.)\n",
      "\n",
      "What strategies did you use to track student progress and provide feedback during your time at 51Talk, and how did you measure their success? (Assessing your methods for monitoring and enhancing student performance.)\n",
      "\n",
      "In your experience as a Trial Lesson Teacher at Bubulearn, what challenges did you face in creating an engaging virtual classroom, and how did you overcome them? (Understanding your problem-solving skills and adaptability in a remote teaching environment.)\n",
      "\n",
      "Can you share an example of how your communication and interpersonal skills helped you build rapport with adult learners in your previous roles? (Evaluating your soft skills and their impact on student engagement.)\n",
      "\n",
      "How have you continued to develop your teaching skills or knowledge in English language instruction over your 14.67 years of experience? (Exploring your commitment to professional growth and skill enhancement.)\n",
      "\n"
     ]
    }
   ],
   "source": [
    "import ast\n",
    "\n",
    "# Convert the string representation of a list to an actual Python list\n",
    "questions_str = df['questions'].iloc[-1]\n",
    "questions_list = ast.literal_eval(questions_str)\n",
    "\n",
    "# Print each question on a new line\n",
    "for q in questions_list:\n",
    "    print(q, end='\\n\\n')\n"
   ]
  },
  {
   "cell_type": "code",
   "execution_count": null,
   "id": "35b144af",
   "metadata": {},
   "outputs": [],
   "source": []
  }
 ],
 "metadata": {
  "kernelspec": {
   "display_name": "base",
   "language": "python",
   "name": "python3"
  },
  "language_info": {
   "codemirror_mode": {
    "name": "ipython",
    "version": 3
   },
   "file_extension": ".py",
   "mimetype": "text/x-python",
   "name": "python",
   "nbconvert_exporter": "python",
   "pygments_lexer": "ipython3",
   "version": "3.12.7"
  }
 },
 "nbformat": 4,
 "nbformat_minor": 5
}
