{
 "cells": [
  {
   "cell_type": "code",
   "execution_count": 5,
   "id": "efe790e1",
   "metadata": {},
   "outputs": [],
   "source": [
    "import pandas as pd\n",
    "pd.set_option(\"display.max_column\", None)\n"
   ]
  },
  {
   "cell_type": "code",
   "execution_count": 6,
   "id": "384ec772",
   "metadata": {},
   "outputs": [
    {
     "data": {
      "text/html": [
       "<div>\n",
       "<style scoped>\n",
       "    .dataframe tbody tr th:only-of-type {\n",
       "        vertical-align: middle;\n",
       "    }\n",
       "\n",
       "    .dataframe tbody tr th {\n",
       "        vertical-align: top;\n",
       "    }\n",
       "\n",
       "    .dataframe thead th {\n",
       "        text-align: right;\n",
       "    }\n",
       "</style>\n",
       "<table border=\"1\" class=\"dataframe\">\n",
       "  <thead>\n",
       "    <tr style=\"text-align: right;\">\n",
       "      <th></th>\n",
       "      <th>_id</th>\n",
       "      <th>candidate_id</th>\n",
       "      <th>questions</th>\n",
       "      <th>created_at</th>\n",
       "      <th>updated_at</th>\n",
       "    </tr>\n",
       "  </thead>\n",
       "  <tbody>\n",
       "    <tr>\n",
       "      <th>99</th>\n",
       "      <td>683d9b20b72469b8444e42d5</td>\n",
       "      <td>683d9b1c6514282978881ca5</td>\n",
       "      <td>['Given your extensive experience in customer ...</td>\n",
       "      <td>2025-06-02 12:37:52.777</td>\n",
       "      <td>2025-06-02 12:37:52.777</td>\n",
       "    </tr>\n",
       "    <tr>\n",
       "      <th>298</th>\n",
       "      <td>684c0a71c939b52e8b71ac02</td>\n",
       "      <td>684c0a6a6f49c875e3fa0510</td>\n",
       "      <td>[\"Can you describe a specific situation at Asi...</td>\n",
       "      <td>2025-06-13 11:24:33.651</td>\n",
       "      <td>2025-06-13 11:24:33.651</td>\n",
       "    </tr>\n",
       "  </tbody>\n",
       "</table>\n",
       "</div>"
      ],
      "text/plain": [
       "                          _id              candidate_id  \\\n",
       "99   683d9b20b72469b8444e42d5  683d9b1c6514282978881ca5   \n",
       "298  684c0a71c939b52e8b71ac02  684c0a6a6f49c875e3fa0510   \n",
       "\n",
       "                                             questions  \\\n",
       "99   ['Given your extensive experience in customer ...   \n",
       "298  [\"Can you describe a specific situation at Asi...   \n",
       "\n",
       "                  created_at               updated_at  \n",
       "99   2025-06-02 12:37:52.777  2025-06-02 12:37:52.777  \n",
       "298  2025-06-13 11:24:33.651  2025-06-13 11:24:33.651  "
      ]
     },
     "execution_count": 6,
     "metadata": {},
     "output_type": "execute_result"
    }
   ],
   "source": [
    "df = pd.read_csv(\"../../production_data/raw_data_dump/candidate_questions.csv\")\n",
    "df.sample(2)\n"
   ]
  },
  {
   "cell_type": "code",
   "execution_count": 7,
   "id": "c0dddad3",
   "metadata": {},
   "outputs": [
    {
     "name": "stdout",
     "output_type": "stream",
     "text": [
      "shape:  (339, 5)\n",
      "Columns:  Index(['_id', 'candidate_id', 'questions', 'created_at', 'updated_at'], dtype='object')\n"
     ]
    }
   ],
   "source": [
    "print(\"shape: \", df.shape)\n",
    "print(\"Columns: \", df.columns)\n"
   ]
  },
  {
   "cell_type": "code",
   "execution_count": 8,
   "id": "bb09e697",
   "metadata": {},
   "outputs": [
    {
     "name": "stdout",
     "output_type": "stream",
     "text": [
      "<class 'pandas.core.frame.DataFrame'>\n",
      "RangeIndex: 339 entries, 0 to 338\n",
      "Data columns (total 5 columns):\n",
      " #   Column        Non-Null Count  Dtype \n",
      "---  ------        --------------  ----- \n",
      " 0   _id           339 non-null    object\n",
      " 1   candidate_id  339 non-null    object\n",
      " 2   questions     339 non-null    object\n",
      " 3   created_at    339 non-null    object\n",
      " 4   updated_at    339 non-null    object\n",
      "dtypes: object(5)\n",
      "memory usage: 13.4+ KB\n"
     ]
    }
   ],
   "source": [
    "df.info()\n"
   ]
  },
  {
   "cell_type": "code",
   "execution_count": null,
   "id": "223f3685",
   "metadata": {},
   "outputs": [],
   "source": []
  }
 ],
 "metadata": {
  "kernelspec": {
   "display_name": "base",
   "language": "python",
   "name": "python3"
  },
  "language_info": {
   "codemirror_mode": {
    "name": "ipython",
    "version": 3
   },
   "file_extension": ".py",
   "mimetype": "text/x-python",
   "name": "python",
   "nbconvert_exporter": "python",
   "pygments_lexer": "ipython3",
   "version": "3.12.7"
  }
 },
 "nbformat": 4,
 "nbformat_minor": 5
}
