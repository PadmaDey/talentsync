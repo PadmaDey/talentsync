{
 "cells": [
  {
   "cell_type": "code",
   "execution_count": 3,
   "id": "63aa82e5",
   "metadata": {},
   "outputs": [],
   "source": [
    "import pandas as pd\n",
    "pd.set_option(\"display.max_column\", None)\n"
   ]
  },
  {
   "cell_type": "code",
   "execution_count": 5,
   "id": "e154da2c",
   "metadata": {},
   "outputs": [
    {
     "data": {
      "text/html": [
       "<div>\n",
       "<style scoped>\n",
       "    .dataframe tbody tr th:only-of-type {\n",
       "        vertical-align: middle;\n",
       "    }\n",
       "\n",
       "    .dataframe tbody tr th {\n",
       "        vertical-align: top;\n",
       "    }\n",
       "\n",
       "    .dataframe thead th {\n",
       "        text-align: right;\n",
       "    }\n",
       "</style>\n",
       "<table border=\"1\" class=\"dataframe\">\n",
       "  <thead>\n",
       "    <tr style=\"text-align: right;\">\n",
       "      <th></th>\n",
       "      <th>_id</th>\n",
       "      <th>name</th>\n",
       "      <th>organization_size</th>\n",
       "      <th>company_type</th>\n",
       "      <th>created_at</th>\n",
       "      <th>updated_at</th>\n",
       "      <th>is_deleted</th>\n",
       "    </tr>\n",
       "  </thead>\n",
       "  <tbody>\n",
       "    <tr>\n",
       "      <th>13</th>\n",
       "      <td>683ee19fb72469b8444e42f8</td>\n",
       "      <td>F comany</td>\n",
       "      <td>51-200</td>\n",
       "      <td>enterprise</td>\n",
       "      <td>2025-06-03 11:50:55.490</td>\n",
       "      <td>2025-06-03 11:50:55.490</td>\n",
       "      <td>False</td>\n",
       "    </tr>\n",
       "    <tr>\n",
       "      <th>32</th>\n",
       "      <td>68513789c939b52e8b71ad05</td>\n",
       "      <td>internal-company</td>\n",
       "      <td>1-10</td>\n",
       "      <td>small-business</td>\n",
       "      <td>2025-06-17 09:38:17.624</td>\n",
       "      <td>2025-06-17 09:38:17.624</td>\n",
       "      <td>False</td>\n",
       "    </tr>\n",
       "  </tbody>\n",
       "</table>\n",
       "</div>"
      ],
      "text/plain": [
       "                         _id              name organization_size  \\\n",
       "13  683ee19fb72469b8444e42f8          F comany            51-200   \n",
       "32  68513789c939b52e8b71ad05  internal-company              1-10   \n",
       "\n",
       "      company_type               created_at               updated_at  \\\n",
       "13      enterprise  2025-06-03 11:50:55.490  2025-06-03 11:50:55.490   \n",
       "32  small-business  2025-06-17 09:38:17.624  2025-06-17 09:38:17.624   \n",
       "\n",
       "    is_deleted  \n",
       "13       False  \n",
       "32       False  "
      ]
     },
     "execution_count": 5,
     "metadata": {},
     "output_type": "execute_result"
    }
   ],
   "source": [
    "df = pd.read_csv(\"../../../production_data/raw_data_dump/companies.csv\")\n",
    "df.sample(2)\n"
   ]
  },
  {
   "cell_type": "code",
   "execution_count": 6,
   "id": "2a542841",
   "metadata": {},
   "outputs": [
    {
     "name": "stdout",
     "output_type": "stream",
     "text": [
      "shape:  (33, 7)\n",
      "Columns:  Index(['_id', 'name', 'organization_size', 'company_type', 'created_at',\n",
      "       'updated_at', 'is_deleted'],\n",
      "      dtype='object')\n"
     ]
    }
   ],
   "source": [
    "print(\"shape: \", df.shape)\n",
    "print(\"Columns: \", df.columns)\n"
   ]
  },
  {
   "cell_type": "code",
   "execution_count": 7,
   "id": "a922763f",
   "metadata": {},
   "outputs": [
    {
     "name": "stdout",
     "output_type": "stream",
     "text": [
      "<class 'pandas.core.frame.DataFrame'>\n",
      "RangeIndex: 33 entries, 0 to 32\n",
      "Data columns (total 7 columns):\n",
      " #   Column             Non-Null Count  Dtype \n",
      "---  ------             --------------  ----- \n",
      " 0   _id                33 non-null     object\n",
      " 1   name               33 non-null     object\n",
      " 2   organization_size  33 non-null     object\n",
      " 3   company_type       33 non-null     object\n",
      " 4   created_at         33 non-null     object\n",
      " 5   updated_at         33 non-null     object\n",
      " 6   is_deleted         33 non-null     bool  \n",
      "dtypes: bool(1), object(6)\n",
      "memory usage: 1.7+ KB\n"
     ]
    }
   ],
   "source": [
    "df.info()\n"
   ]
  },
  {
   "cell_type": "code",
   "execution_count": 8,
   "id": "1ab5bf8f",
   "metadata": {},
   "outputs": [
    {
     "data": {
      "text/plain": [
       "is_deleted\n",
       "False    33\n",
       "Name: count, dtype: int64"
      ]
     },
     "execution_count": 8,
     "metadata": {},
     "output_type": "execute_result"
    }
   ],
   "source": [
    "df['is_deleted'].value_counts()\n"
   ]
  },
  {
   "cell_type": "code",
   "execution_count": 12,
   "id": "ecea3060",
   "metadata": {},
   "outputs": [
    {
     "data": {
      "text/plain": [
       "organization_size\n",
       "200+      11\n",
       "51-200     9\n",
       "1-10       7\n",
       "11-50      6\n",
       "Name: count, dtype: int64"
      ]
     },
     "execution_count": 12,
     "metadata": {},
     "output_type": "execute_result"
    }
   ],
   "source": [
    "df['organization_size'].value_counts()\n"
   ]
  },
  {
   "cell_type": "code",
   "execution_count": 13,
   "id": "4bcfe79b",
   "metadata": {},
   "outputs": [
    {
     "data": {
      "text/plain": [
       "company_type\n",
       "corporation       9\n",
       "startup           6\n",
       "manufacturing     5\n",
       "enterprise        5\n",
       "small-business    4\n",
       "ecommerce         1\n",
       "consulting        1\n",
       "freelance         1\n",
       "non-profit        1\n",
       "Name: count, dtype: int64"
      ]
     },
     "execution_count": 13,
     "metadata": {},
     "output_type": "execute_result"
    }
   ],
   "source": [
    "df['company_type'].value_counts()\n"
   ]
  },
  {
   "cell_type": "code",
   "execution_count": 9,
   "id": "1812fe70",
   "metadata": {},
   "outputs": [
    {
     "data": {
      "text/plain": [
       "name    33\n",
       "dtype: int64"
      ]
     },
     "execution_count": 9,
     "metadata": {},
     "output_type": "execute_result"
    }
   ],
   "source": [
    "df[['name']].count()\n"
   ]
  },
  {
   "cell_type": "code",
   "execution_count": null,
   "id": "5646ae75",
   "metadata": {},
   "outputs": [],
   "source": [
    "df[['name']]\n"
   ]
  },
  {
   "cell_type": "code",
   "execution_count": null,
   "id": "00cce0d9",
   "metadata": {},
   "outputs": [
    {
     "data": {
      "text/html": [
       "<div>\n",
       "<style scoped>\n",
       "    .dataframe tbody tr th:only-of-type {\n",
       "        vertical-align: middle;\n",
       "    }\n",
       "\n",
       "    .dataframe tbody tr th {\n",
       "        vertical-align: top;\n",
       "    }\n",
       "\n",
       "    .dataframe thead th {\n",
       "        text-align: right;\n",
       "    }\n",
       "</style>\n",
       "<table border=\"1\" class=\"dataframe\">\n",
       "  <thead>\n",
       "    <tr style=\"text-align: right;\">\n",
       "      <th></th>\n",
       "      <th>name</th>\n",
       "    </tr>\n",
       "  </thead>\n",
       "  <tbody>\n",
       "    <tr>\n",
       "      <th>0</th>\n",
       "      <td>Klizo Solutions</td>\n",
       "    </tr>\n",
       "    <tr>\n",
       "      <th>7</th>\n",
       "      <td>Demo Company</td>\n",
       "    </tr>\n",
       "    <tr>\n",
       "      <th>16</th>\n",
       "      <td>Demo Company 2</td>\n",
       "    </tr>\n",
       "    <tr>\n",
       "      <th>21</th>\n",
       "      <td>Ad officia sed velit</td>\n",
       "    </tr>\n",
       "    <tr>\n",
       "      <th>24</th>\n",
       "      <td>New Company Names</td>\n",
       "    </tr>\n",
       "    <tr>\n",
       "      <th>31</th>\n",
       "      <td>Veniam at illum vo</td>\n",
       "    </tr>\n",
       "  </tbody>\n",
       "</table>\n",
       "</div>"
      ],
      "text/plain": [
       "                    name\n",
       "0        Klizo Solutions\n",
       "7           Demo Company\n",
       "16        Demo Company 2\n",
       "21  Ad officia sed velit\n",
       "24     New Company Names\n",
       "31    Veniam at illum vo"
      ]
     },
     "execution_count": 15,
     "metadata": {},
     "output_type": "execute_result"
    }
   ],
   "source": [
    "filtered_df = df[df['organization_size'] == '11-50'][['name']]\n",
    "filtered_df\n"
   ]
  },
  {
   "cell_type": "code",
   "execution_count": 16,
   "id": "ce38c61a",
   "metadata": {},
   "outputs": [
    {
     "data": {
      "text/html": [
       "<div>\n",
       "<style scoped>\n",
       "    .dataframe tbody tr th:only-of-type {\n",
       "        vertical-align: middle;\n",
       "    }\n",
       "\n",
       "    .dataframe tbody tr th {\n",
       "        vertical-align: top;\n",
       "    }\n",
       "\n",
       "    .dataframe thead th {\n",
       "        text-align: right;\n",
       "    }\n",
       "</style>\n",
       "<table border=\"1\" class=\"dataframe\">\n",
       "  <thead>\n",
       "    <tr style=\"text-align: right;\">\n",
       "      <th></th>\n",
       "      <th>name</th>\n",
       "      <th>company_type</th>\n",
       "    </tr>\n",
       "  </thead>\n",
       "  <tbody>\n",
       "    <tr>\n",
       "      <th>0</th>\n",
       "      <td>Klizo Solutions</td>\n",
       "      <td>corporation</td>\n",
       "    </tr>\n",
       "    <tr>\n",
       "      <th>7</th>\n",
       "      <td>Demo Company</td>\n",
       "      <td>small-business</td>\n",
       "    </tr>\n",
       "    <tr>\n",
       "      <th>16</th>\n",
       "      <td>Demo Company 2</td>\n",
       "      <td>corporation</td>\n",
       "    </tr>\n",
       "    <tr>\n",
       "      <th>21</th>\n",
       "      <td>Ad officia sed velit</td>\n",
       "      <td>corporation</td>\n",
       "    </tr>\n",
       "    <tr>\n",
       "      <th>24</th>\n",
       "      <td>New Company Names</td>\n",
       "      <td>enterprise</td>\n",
       "    </tr>\n",
       "    <tr>\n",
       "      <th>31</th>\n",
       "      <td>Veniam at illum vo</td>\n",
       "      <td>manufacturing</td>\n",
       "    </tr>\n",
       "  </tbody>\n",
       "</table>\n",
       "</div>"
      ],
      "text/plain": [
       "                    name    company_type\n",
       "0        Klizo Solutions     corporation\n",
       "7           Demo Company  small-business\n",
       "16        Demo Company 2     corporation\n",
       "21  Ad officia sed velit     corporation\n",
       "24     New Company Names      enterprise\n",
       "31    Veniam at illum vo   manufacturing"
      ]
     },
     "execution_count": 16,
     "metadata": {},
     "output_type": "execute_result"
    }
   ],
   "source": [
    "filtered_df = df[df['organization_size'] == '11-50'][['name', 'company_type']]\n",
    "filtered_df\n"
   ]
  },
  {
   "cell_type": "markdown",
   "id": "ecb7e03c",
   "metadata": {},
   "source": [
    "SELECT organization_size, name FROM df GROUP BY organization_size ORDER BY name DESC\n"
   ]
  },
  {
   "cell_type": "code",
   "execution_count": null,
   "id": "f1b6430a",
   "metadata": {},
   "outputs": [],
   "source": [
    "df_sorted = df.sort_values(by='name', ascending=False)\n",
    "df_sorted\n"
   ]
  },
  {
   "cell_type": "code",
   "execution_count": 18,
   "id": "2b919505",
   "metadata": {},
   "outputs": [
    {
     "data": {
      "text/html": [
       "<div>\n",
       "<style scoped>\n",
       "    .dataframe tbody tr th:only-of-type {\n",
       "        vertical-align: middle;\n",
       "    }\n",
       "\n",
       "    .dataframe tbody tr th {\n",
       "        vertical-align: top;\n",
       "    }\n",
       "\n",
       "    .dataframe thead th {\n",
       "        text-align: right;\n",
       "    }\n",
       "</style>\n",
       "<table border=\"1\" class=\"dataframe\">\n",
       "  <thead>\n",
       "    <tr style=\"text-align: right;\">\n",
       "      <th></th>\n",
       "      <th>organization_size</th>\n",
       "      <th>_id</th>\n",
       "      <th>name</th>\n",
       "      <th>company_type</th>\n",
       "      <th>created_at</th>\n",
       "      <th>updated_at</th>\n",
       "      <th>is_deleted</th>\n",
       "    </tr>\n",
       "  </thead>\n",
       "  <tbody>\n",
       "    <tr>\n",
       "      <th>0</th>\n",
       "      <td>1-10</td>\n",
       "      <td>68513789c939b52e8b71ad05</td>\n",
       "      <td>internal-company</td>\n",
       "      <td>small-business</td>\n",
       "      <td>2025-06-17 09:38:17.624</td>\n",
       "      <td>2025-06-17 09:38:17.624</td>\n",
       "      <td>False</td>\n",
       "    </tr>\n",
       "    <tr>\n",
       "      <th>1</th>\n",
       "      <td>11-50</td>\n",
       "      <td>684ea957c939b52e8b71ac3c</td>\n",
       "      <td>Veniam at illum vo</td>\n",
       "      <td>manufacturing</td>\n",
       "      <td>2025-06-15 11:07:03.616</td>\n",
       "      <td>2025-06-15 11:07:03.616</td>\n",
       "      <td>False</td>\n",
       "    </tr>\n",
       "    <tr>\n",
       "      <th>2</th>\n",
       "      <td>200+</td>\n",
       "      <td>681c86b51cf44d32fe030963</td>\n",
       "      <td>Vietnam Australia International School</td>\n",
       "      <td>corporation</td>\n",
       "      <td>2025-05-08 10:25:57.981</td>\n",
       "      <td>2025-05-08 10:25:57.981</td>\n",
       "      <td>False</td>\n",
       "    </tr>\n",
       "    <tr>\n",
       "      <th>3</th>\n",
       "      <td>51-200</td>\n",
       "      <td>6840858aa060d5257c9c3d6d</td>\n",
       "      <td>Quality Analyst Company</td>\n",
       "      <td>startup</td>\n",
       "      <td>2025-06-04 17:42:34.068</td>\n",
       "      <td>2025-06-04 17:42:34.068</td>\n",
       "      <td>False</td>\n",
       "    </tr>\n",
       "  </tbody>\n",
       "</table>\n",
       "</div>"
      ],
      "text/plain": [
       "  organization_size                       _id  \\\n",
       "0              1-10  68513789c939b52e8b71ad05   \n",
       "1             11-50  684ea957c939b52e8b71ac3c   \n",
       "2              200+  681c86b51cf44d32fe030963   \n",
       "3            51-200  6840858aa060d5257c9c3d6d   \n",
       "\n",
       "                                     name    company_type  \\\n",
       "0                        internal-company  small-business   \n",
       "1                      Veniam at illum vo   manufacturing   \n",
       "2  Vietnam Australia International School     corporation   \n",
       "3                 Quality Analyst Company         startup   \n",
       "\n",
       "                created_at               updated_at  is_deleted  \n",
       "0  2025-06-17 09:38:17.624  2025-06-17 09:38:17.624       False  \n",
       "1  2025-06-15 11:07:03.616  2025-06-15 11:07:03.616       False  \n",
       "2  2025-05-08 10:25:57.981  2025-05-08 10:25:57.981       False  \n",
       "3  2025-06-04 17:42:34.068  2025-06-04 17:42:34.068       False  "
      ]
     },
     "execution_count": 18,
     "metadata": {},
     "output_type": "execute_result"
    }
   ],
   "source": [
    "df_grouped = df_sorted.groupby('organization_size').first().reset_index()\n",
    "df_grouped\n"
   ]
  },
  {
   "cell_type": "code",
   "execution_count": 19,
   "id": "60048d65",
   "metadata": {},
   "outputs": [
    {
     "data": {
      "text/html": [
       "<div>\n",
       "<style scoped>\n",
       "    .dataframe tbody tr th:only-of-type {\n",
       "        vertical-align: middle;\n",
       "    }\n",
       "\n",
       "    .dataframe tbody tr th {\n",
       "        vertical-align: top;\n",
       "    }\n",
       "\n",
       "    .dataframe thead th {\n",
       "        text-align: right;\n",
       "    }\n",
       "</style>\n",
       "<table border=\"1\" class=\"dataframe\">\n",
       "  <thead>\n",
       "    <tr style=\"text-align: right;\">\n",
       "      <th></th>\n",
       "      <th>organization_size</th>\n",
       "      <th>name</th>\n",
       "    </tr>\n",
       "  </thead>\n",
       "  <tbody>\n",
       "    <tr>\n",
       "      <th>0</th>\n",
       "      <td>1-10</td>\n",
       "      <td>internal-company</td>\n",
       "    </tr>\n",
       "    <tr>\n",
       "      <th>1</th>\n",
       "      <td>11-50</td>\n",
       "      <td>Veniam at illum vo</td>\n",
       "    </tr>\n",
       "    <tr>\n",
       "      <th>2</th>\n",
       "      <td>200+</td>\n",
       "      <td>Vietnam Australia International School</td>\n",
       "    </tr>\n",
       "    <tr>\n",
       "      <th>3</th>\n",
       "      <td>51-200</td>\n",
       "      <td>Quality Analyst Company</td>\n",
       "    </tr>\n",
       "  </tbody>\n",
       "</table>\n",
       "</div>"
      ],
      "text/plain": [
       "  organization_size                                    name\n",
       "0              1-10                        internal-company\n",
       "1             11-50                      Veniam at illum vo\n",
       "2              200+  Vietnam Australia International School\n",
       "3            51-200                 Quality Analyst Company"
      ]
     },
     "execution_count": 19,
     "metadata": {},
     "output_type": "execute_result"
    }
   ],
   "source": [
    "df_result = df_grouped[['organization_size', 'name']]\n",
    "df_result\n"
   ]
  },
  {
   "cell_type": "code",
   "execution_count": 23,
   "id": "fd590790",
   "metadata": {},
   "outputs": [
    {
     "data": {
      "text/html": [
       "<div>\n",
       "<style scoped>\n",
       "    .dataframe tbody tr th:only-of-type {\n",
       "        vertical-align: middle;\n",
       "    }\n",
       "\n",
       "    .dataframe tbody tr th {\n",
       "        vertical-align: top;\n",
       "    }\n",
       "\n",
       "    .dataframe thead th {\n",
       "        text-align: right;\n",
       "    }\n",
       "</style>\n",
       "<table border=\"1\" class=\"dataframe\">\n",
       "  <thead>\n",
       "    <tr style=\"text-align: right;\">\n",
       "      <th></th>\n",
       "      <th>organization_size</th>\n",
       "      <th>name</th>\n",
       "    </tr>\n",
       "  </thead>\n",
       "  <tbody>\n",
       "    <tr>\n",
       "      <th>11</th>\n",
       "      <td>51-200</td>\n",
       "      <td>ESCO Beach Vietnam</td>\n",
       "    </tr>\n",
       "    <tr>\n",
       "      <th>2</th>\n",
       "      <td>51-200</td>\n",
       "      <td>Esco Beach</td>\n",
       "    </tr>\n",
       "    <tr>\n",
       "      <th>26</th>\n",
       "      <td>51-200</td>\n",
       "      <td>Klizo Solutions2</td>\n",
       "    </tr>\n",
       "    <tr>\n",
       "      <th>6</th>\n",
       "      <td>51-200</td>\n",
       "      <td>Production Company</td>\n",
       "    </tr>\n",
       "    <tr>\n",
       "      <th>18</th>\n",
       "      <td>51-200</td>\n",
       "      <td>In magna dolore temp</td>\n",
       "    </tr>\n",
       "    <tr>\n",
       "      <th>8</th>\n",
       "      <td>51-200</td>\n",
       "      <td>QA_Company</td>\n",
       "    </tr>\n",
       "    <tr>\n",
       "      <th>17</th>\n",
       "      <td>51-200</td>\n",
       "      <td>Quality Analyst Company</td>\n",
       "    </tr>\n",
       "    <tr>\n",
       "      <th>10</th>\n",
       "      <td>51-200</td>\n",
       "      <td>Klizo QA</td>\n",
       "    </tr>\n",
       "    <tr>\n",
       "      <th>13</th>\n",
       "      <td>51-200</td>\n",
       "      <td>F comany</td>\n",
       "    </tr>\n",
       "    <tr>\n",
       "      <th>14</th>\n",
       "      <td>200+</td>\n",
       "      <td>Test</td>\n",
       "    </tr>\n",
       "    <tr>\n",
       "      <th>28</th>\n",
       "      <td>200+</td>\n",
       "      <td>Test Company</td>\n",
       "    </tr>\n",
       "    <tr>\n",
       "      <th>29</th>\n",
       "      <td>200+</td>\n",
       "      <td>Testing</td>\n",
       "    </tr>\n",
       "    <tr>\n",
       "      <th>1</th>\n",
       "      <td>200+</td>\n",
       "      <td>Vietnam Australia International School</td>\n",
       "    </tr>\n",
       "    <tr>\n",
       "      <th>15</th>\n",
       "      <td>200+</td>\n",
       "      <td>Apollo English Vietnam</td>\n",
       "    </tr>\n",
       "    <tr>\n",
       "      <th>25</th>\n",
       "      <td>200+</td>\n",
       "      <td>Testuikji87k6j7i</td>\n",
       "    </tr>\n",
       "    <tr>\n",
       "      <th>12</th>\n",
       "      <td>200+</td>\n",
       "      <td>Show Me</td>\n",
       "    </tr>\n",
       "    <tr>\n",
       "      <th>30</th>\n",
       "      <td>200+</td>\n",
       "      <td>Rooj's Company</td>\n",
       "    </tr>\n",
       "    <tr>\n",
       "      <th>5</th>\n",
       "      <td>200+</td>\n",
       "      <td>Singapore Internation School</td>\n",
       "    </tr>\n",
       "    <tr>\n",
       "      <th>4</th>\n",
       "      <td>200+</td>\n",
       "      <td>Furama Resort Da Nang</td>\n",
       "    </tr>\n",
       "    <tr>\n",
       "      <th>3</th>\n",
       "      <td>200+</td>\n",
       "      <td>Furarma Resort Danang</td>\n",
       "    </tr>\n",
       "    <tr>\n",
       "      <th>24</th>\n",
       "      <td>11-50</td>\n",
       "      <td>New Company Names</td>\n",
       "    </tr>\n",
       "    <tr>\n",
       "      <th>31</th>\n",
       "      <td>11-50</td>\n",
       "      <td>Veniam at illum vo</td>\n",
       "    </tr>\n",
       "    <tr>\n",
       "      <th>0</th>\n",
       "      <td>11-50</td>\n",
       "      <td>Klizo Solutions</td>\n",
       "    </tr>\n",
       "    <tr>\n",
       "      <th>16</th>\n",
       "      <td>11-50</td>\n",
       "      <td>Demo Company 2</td>\n",
       "    </tr>\n",
       "    <tr>\n",
       "      <th>21</th>\n",
       "      <td>11-50</td>\n",
       "      <td>Ad officia sed velit</td>\n",
       "    </tr>\n",
       "    <tr>\n",
       "      <th>7</th>\n",
       "      <td>11-50</td>\n",
       "      <td>Demo Company</td>\n",
       "    </tr>\n",
       "    <tr>\n",
       "      <th>23</th>\n",
       "      <td>1-10</td>\n",
       "      <td>Demo Company Kolkata</td>\n",
       "    </tr>\n",
       "    <tr>\n",
       "      <th>22</th>\n",
       "      <td>1-10</td>\n",
       "      <td>Einstein Tech</td>\n",
       "    </tr>\n",
       "    <tr>\n",
       "      <th>27</th>\n",
       "      <td>1-10</td>\n",
       "      <td>Klizo</td>\n",
       "    </tr>\n",
       "    <tr>\n",
       "      <th>20</th>\n",
       "      <td>1-10</td>\n",
       "      <td>Demo Company 4</td>\n",
       "    </tr>\n",
       "    <tr>\n",
       "      <th>19</th>\n",
       "      <td>1-10</td>\n",
       "      <td>Demo Company 3</td>\n",
       "    </tr>\n",
       "    <tr>\n",
       "      <th>9</th>\n",
       "      <td>1-10</td>\n",
       "      <td>Bunny House</td>\n",
       "    </tr>\n",
       "    <tr>\n",
       "      <th>32</th>\n",
       "      <td>1-10</td>\n",
       "      <td>internal-company</td>\n",
       "    </tr>\n",
       "  </tbody>\n",
       "</table>\n",
       "</div>"
      ],
      "text/plain": [
       "   organization_size                                    name\n",
       "11            51-200                      ESCO Beach Vietnam\n",
       "2             51-200                              Esco Beach\n",
       "26            51-200                        Klizo Solutions2\n",
       "6             51-200                      Production Company\n",
       "18            51-200                    In magna dolore temp\n",
       "8             51-200                              QA_Company\n",
       "17            51-200                 Quality Analyst Company\n",
       "10            51-200                                Klizo QA\n",
       "13            51-200                                F comany\n",
       "14              200+                                    Test\n",
       "28              200+                            Test Company\n",
       "29              200+                                 Testing\n",
       "1               200+  Vietnam Australia International School\n",
       "15              200+                  Apollo English Vietnam\n",
       "25              200+                        Testuikji87k6j7i\n",
       "12              200+                                 Show Me\n",
       "30              200+                          Rooj's Company\n",
       "5               200+            Singapore Internation School\n",
       "4               200+                   Furama Resort Da Nang\n",
       "3               200+                   Furarma Resort Danang\n",
       "24             11-50                       New Company Names\n",
       "31             11-50                      Veniam at illum vo\n",
       "0              11-50                         Klizo Solutions\n",
       "16             11-50                          Demo Company 2\n",
       "21             11-50                    Ad officia sed velit\n",
       "7              11-50                            Demo Company\n",
       "23              1-10                    Demo Company Kolkata\n",
       "22              1-10                           Einstein Tech\n",
       "27              1-10                                   Klizo\n",
       "20              1-10                          Demo Company 4\n",
       "19              1-10                          Demo Company 3\n",
       "9               1-10                             Bunny House\n",
       "32              1-10                        internal-company"
      ]
     },
     "execution_count": 23,
     "metadata": {},
     "output_type": "execute_result"
    }
   ],
   "source": [
    "df_result = df[['organization_size', 'name']].sort_values(by='organization_size', ascending=False)\n",
    "df_result\n"
   ]
  },
  {
   "cell_type": "code",
   "execution_count": null,
   "id": "65315c36",
   "metadata": {},
   "outputs": [],
   "source": []
  }
 ],
 "metadata": {
  "kernelspec": {
   "display_name": "base",
   "language": "python",
   "name": "python3"
  },
  "language_info": {
   "codemirror_mode": {
    "name": "ipython",
    "version": 3
   },
   "file_extension": ".py",
   "mimetype": "text/x-python",
   "name": "python",
   "nbconvert_exporter": "python",
   "pygments_lexer": "ipython3",
   "version": "3.12.7"
  }
 },
 "nbformat": 4,
 "nbformat_minor": 5
}
