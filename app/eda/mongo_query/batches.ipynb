{
 "cells": [
  {
   "cell_type": "markdown",
   "id": "130fe4af",
   "metadata": {},
   "source": [
    "#### Installed required packages"
   ]
  },
  {
   "cell_type": "code",
   "execution_count": 1,
   "id": "8a0a96ac",
   "metadata": {},
   "outputs": [],
   "source": [
    "# pip install pymongo\n"
   ]
  },
  {
   "cell_type": "code",
   "execution_count": null,
   "id": "2c4c7bc8",
   "metadata": {},
   "outputs": [],
   "source": [
    "\n"
   ]
  },
  {
   "cell_type": "markdown",
   "id": "a319477e",
   "metadata": {},
   "source": [
    "#### Created pymongo connection string"
   ]
  },
  {
   "cell_type": "code",
   "execution_count": 2,
   "id": "551566e2",
   "metadata": {},
   "outputs": [
    {
     "name": "stdout",
     "output_type": "stream",
     "text": [
      "Python-MongoDB connection created succesfully -\n",
      " MongoClient(host=['3.146.176.180:27017'], document_class=dict, tz_aware=False, connect=True)\n"
     ]
    }
   ],
   "source": [
    "import os\n",
    "import pandas as pd\n",
    "pd.set_option(\"display.max_column\", None)\n",
    "\n",
    "from pymongo import MongoClient\n",
    "from bson import json_util\n",
    "import json\n",
    "\n",
    "mongo_url = input(\"Enter the Mongo connection string: \")\n",
    "client = MongoClient(mongo_url)\n",
    "print(\"Python-MongoDB connection created succesfully -\\n\", client)\n"
   ]
  },
  {
   "cell_type": "markdown",
   "id": "b98d7e87",
   "metadata": {},
   "source": [
    "#### List of collections present in the database"
   ]
  },
  {
   "cell_type": "code",
   "execution_count": 3,
   "id": "9b5c2ac6",
   "metadata": {},
   "outputs": [
    {
     "name": "stdout",
     "output_type": "stream",
     "text": [
      "['candidate_questions', 'job_hr_questions', 'candidates', 'auth_keys', 'jobs', 'audit_logs', 'job_hr_settings', 'batches', 'questions', 'candidates_errors', 'users', 'companies', 'messages', 'auth_tokens']\n"
     ]
    }
   ],
   "source": [
    "db = client['talentsync-backend-production']\n",
    "collection_names = db.list_collection_names()\n",
    "print(collection_names)\n"
   ]
  },
  {
   "cell_type": "markdown",
   "id": "06f736f4",
   "metadata": {},
   "source": [
    "#### Finding out all the documents present in the 'batches' collection"
   ]
  },
  {
   "cell_type": "code",
   "execution_count": 4,
   "id": "2cd2f2b9",
   "metadata": {},
   "outputs": [
    {
     "name": "stdout",
     "output_type": "stream",
     "text": [
      "<pymongo.synchronous.cursor.Cursor object at 0x000002746946A420>\n"
     ]
    }
   ],
   "source": [
    "collection = db['batches']\n",
    "results = collection.find()\n",
    "print(results)\n"
   ]
  },
  {
   "cell_type": "code",
   "execution_count": 5,
   "id": "aa126ba9",
   "metadata": {},
   "outputs": [
    {
     "name": "stdout",
     "output_type": "stream",
     "text": [
      "{'_id': ObjectId('6822eb6f6342bdaa117239be'), 'uploaded_by': ObjectId('6822e2f56342bdaa117239b8'), 'company_id': ObjectId('6822e3346342bdaa117239ba'), 'batch_id': Binary(b'm\\x18]v\\xf2>Rv\\x867C\\x03\\xf9I\\xb7\\xa8', 4), 'batch_name': 'Batch - SIS 1', 'upload_count': 10, 'job_id': ObjectId('6822eaf56342bdaa117239bd'), 'status': 'completed', 'start_time': datetime.datetime(2025, 5, 13, 6, 49, 19, 226000), 'end_time': datetime.datetime(2025, 5, 13, 6, 52, 0, 161000)}\n",
      "\n",
      "{'_id': ObjectId('6822f3e46342bdaa117239c7'), 'uploaded_by': ObjectId('6822e2f56342bdaa117239b8'), 'company_id': ObjectId('6822e3346342bdaa117239ba'), 'batch_id': Binary(b'\\xc9\\xe1\\x1e\\x13W\\x95Ud\\x89\\x00\\xdf\\xd2\\x01\\x01Y\\xc6', 4), 'batch_name': 'Batch - 2', 'upload_count': 1, 'job_id': ObjectId('6822eaf56342bdaa117239bd'), 'status': 'completed', 'start_time': datetime.datetime(2025, 5, 13, 7, 25, 24, 299000), 'end_time': datetime.datetime(2025, 5, 13, 7, 25, 43, 542000)}\n",
      "\n",
      "{'_id': ObjectId('6822f5d26342bdaa117239ca'), 'uploaded_by': ObjectId('6822e2f56342bdaa117239b8'), 'company_id': ObjectId('6822e3346342bdaa117239ba'), 'batch_id': Binary(b'Wy\\xb4\\x07\\xf3\\x0fX.\\xa6x\\xd2\\r\\x98\\xd5\\x1e\\x81', 4), 'batch_name': 'batch - emily pdf', 'upload_count': 1, 'job_id': ObjectId('6822eaf56342bdaa117239bd'), 'status': 'completed', 'start_time': datetime.datetime(2025, 5, 13, 7, 33, 38, 953000), 'end_time': datetime.datetime(2025, 5, 13, 7, 33, 55, 368000)}\n",
      "\n",
      "{'_id': ObjectId('6822f6896342bdaa117239cb'), 'uploaded_by': ObjectId('6822e2f56342bdaa117239b8'), 'company_id': ObjectId('6822e3346342bdaa117239ba'), 'batch_id': Binary(b'.\\x95\\xe2\\x8f(W^\\xd6\\xb7dM\\xd3bs\\x04\\xd2', 4), 'batch_name': 'batch - hr', 'upload_count': 180, 'job_id': ObjectId('6822eaf56342bdaa117239bd'), 'status': 'completed', 'start_time': datetime.datetime(2025, 5, 13, 7, 36, 41, 261000), 'end_time': datetime.datetime(2025, 5, 13, 7, 40, 23, 431000)}\n",
      "\n",
      "{'_id': ObjectId('682361636342bdaa11723a48'), 'uploaded_by': ObjectId('6818f9601ec8f4553059c40e'), 'company_id': ObjectId('681c861b1cf44d32fe03095e'), 'batch_id': Binary(b'u\\x9f\\xae\\x00HTQa\\xb0\\\\\\t\\xba\\x114\\xaf\\x0b', 4), 'batch_name': 'resume_product', 'upload_count': 5, 'job_id': ObjectId('68235fcc6342bdaa11723a47'), 'status': 'completed', 'start_time': datetime.datetime(2025, 5, 13, 15, 12, 35, 65000), 'end_time': datetime.datetime(2025, 5, 13, 15, 13, 38, 58000)}\n",
      "\n",
      "{'_id': ObjectId('6824417a6342bdaa11723a61'), 'uploaded_by': ObjectId('68243ae56342bdaa11723a5b'), 'company_id': ObjectId('68243b106342bdaa11723a5d'), 'batch_id': Binary(b'6\\xbc\\xff\\x11\\x9b\\x9c[\\xab\\xb40\\x99T_n\\xecw', 4), 'batch_name': 'Test Production', 'upload_count': 1, 'job_id': ObjectId('68243fdd6342bdaa11723a60'), 'status': 'completed', 'start_time': datetime.datetime(2025, 5, 14, 7, 8, 42, 173000), 'end_time': datetime.datetime(2025, 5, 14, 7, 9, 3, 384000)}\n",
      "\n",
      "{'_id': ObjectId('682443666342bdaa11723a62'), 'uploaded_by': ObjectId('68243ae56342bdaa11723a5b'), 'company_id': ObjectId('68243b106342bdaa11723a5d'), 'batch_id': Binary(b'\\x02\\xf7\\xb036=XD\\x98b\\xed\\x03\\xd1\\x133\\xfd', 4), 'batch_name': 'TEstee', 'upload_count': 1, 'job_id': ObjectId('68243fdd6342bdaa11723a60'), 'status': 'completed', 'start_time': datetime.datetime(2025, 5, 14, 7, 16, 54, 919000), 'end_time': datetime.datetime(2025, 5, 14, 7, 17, 15, 242000)}\n",
      "\n",
      "{'_id': ObjectId('682443ba6342bdaa11723a63'), 'uploaded_by': ObjectId('68243ae56342bdaa11723a5b'), 'company_id': ObjectId('68243b106342bdaa11723a5d'), 'batch_id': Binary(b'wm\\xf9\\xddQ=V\\xd9\\x8bE\\xd8\\xab)\\x1f\\x1e%', 4), 'batch_name': 'tsegs', 'upload_count': 1, 'job_id': ObjectId('68243fdd6342bdaa11723a60'), 'status': 'completed', 'start_time': datetime.datetime(2025, 5, 14, 7, 18, 18, 892000), 'end_time': datetime.datetime(2025, 5, 14, 7, 18, 40, 909000)}\n",
      "\n",
      "{'_id': ObjectId('68249dfb1b85c2b6f71a5bb5'), 'uploaded_by': ObjectId('6818f9811ec8f4553059c410'), 'company_id': ObjectId('681c861b1cf44d32fe03095e'), 'batch_id': Binary(b' \\xaf\\xa9\\xcb\\x8b\\x85^\\xbd\\xa7\\xfcg\\x11\\xa6\\xda\\xda\\xda', 4), 'batch_name': 'Teacher 1', 'upload_count': 3, 'job_id': ObjectId('68249d021b85c2b6f71a5bb4'), 'status': 'completed', 'start_time': datetime.datetime(2025, 5, 14, 13, 43, 23, 808000), 'end_time': datetime.datetime(2025, 5, 14, 13, 44, 32, 449000)}\n",
      "\n",
      "{'_id': ObjectId('68249e3d1b85c2b6f71a5bb6'), 'uploaded_by': ObjectId('6818f9811ec8f4553059c410'), 'company_id': ObjectId('681c861b1cf44d32fe03095e'), 'batch_id': Binary(b'u\\xd7\\xf8\\xeb\\xe2a^\\xd7\\x84\\xc1\\x9b|\\x8e\\x0b\\xb4\\x04', 4), 'batch_name': 'teacher 2', 'upload_count': 1, 'job_id': ObjectId('68249d021b85c2b6f71a5bb4'), 'status': 'completed', 'start_time': datetime.datetime(2025, 5, 14, 13, 44, 29, 359000), 'end_time': datetime.datetime(2025, 5, 14, 13, 44, 59, 696000)}\n",
      "\n",
      "{'_id': ObjectId('68249e731b85c2b6f71a5bb8'), 'uploaded_by': ObjectId('6818f9811ec8f4553059c410'), 'company_id': ObjectId('681c861b1cf44d32fe03095e'), 'batch_id': Binary(b\"\\xe7\\xb8\\t'\\xdc\\xf7_\\xa2\\xb2\\x89\\x98I\\xff\\xba!\\x03\", 4), 'batch_name': 'batch 3', 'upload_count': 1, 'job_id': ObjectId('68249d021b85c2b6f71a5bb4'), 'status': 'completed', 'start_time': datetime.datetime(2025, 5, 14, 13, 45, 23, 785000), 'end_time': datetime.datetime(2025, 5, 14, 13, 45, 51, 68000)}\n",
      "\n",
      "{'_id': ObjectId('682501421b85c2b6f71a5bd3'), 'uploaded_by': ObjectId('6818f9811ec8f4553059c410'), 'company_id': ObjectId('681c861b1cf44d32fe03095e'), 'batch_id': Binary(b'qc\\xb0v5\\xd7[\\x7f\\x9c4\\x95t\\xd9\\xf1\\\\@', 4), 'batch_name': 'test', 'upload_count': 1, 'job_id': ObjectId('68249d021b85c2b6f71a5bb4'), 'status': 'completed', 'start_time': datetime.datetime(2025, 5, 14, 20, 46, 58, 521000), 'end_time': datetime.datetime(2025, 5, 14, 20, 47, 30, 705000)}\n",
      "\n",
      "{'_id': ObjectId('6825f8d41b85c2b6f71a5bec'), 'uploaded_by': ObjectId('6818f9601ec8f4553059c40e'), 'company_id': ObjectId('681c861b1cf44d32fe03095e'), 'batch_id': Binary(b'\\x87\\x12\\xe1\\xb2\\xb0\\xc8Y!\\x8e\\x17\\xf3\\x10^OC-', 4), 'batch_name': 'Web Layout Designer', 'upload_count': 1, 'job_id': ObjectId('6825f8751b85c2b6f71a5beb'), 'status': 'completed', 'start_time': datetime.datetime(2025, 5, 15, 14, 23, 16, 557000), 'end_time': datetime.datetime(2025, 5, 15, 14, 23, 58, 990000)}\n",
      "\n",
      "{'_id': ObjectId('682b0bf51b85c2b6f71a5c0c'), 'uploaded_by': ObjectId('6818f9811ec8f4553059c410'), 'company_id': ObjectId('681c861b1cf44d32fe03095e'), 'batch_id': Binary(b'd\\x93\\x88&\\nlYi\\x90=\\x86J\\xf4X\\xafr', 4), 'batch_name': 'SportJam', 'upload_count': 1, 'job_id': ObjectId('682b0ba61b85c2b6f71a5c0b'), 'status': 'completed', 'start_time': datetime.datetime(2025, 5, 19, 10, 46, 13, 677000), 'end_time': datetime.datetime(2025, 5, 19, 10, 46, 30, 729000)}\n",
      "\n",
      "{'_id': ObjectId('682b0c1e1b85c2b6f71a5c0d'), 'uploaded_by': ObjectId('6818f9811ec8f4553059c410'), 'company_id': ObjectId('681c861b1cf44d32fe03095e'), 'batch_id': Binary(b':\\xdb\\x1b\\xebu\\xadV\\xf5\\x81O\\xbb_\\xd3\\x16\\x84\\xf0', 4), 'batch_name': 'SportsJam.2', 'upload_count': 1, 'job_id': ObjectId('682b0ba61b85c2b6f71a5c0b'), 'status': 'completed', 'start_time': datetime.datetime(2025, 5, 19, 10, 46, 54, 643000), 'end_time': datetime.datetime(2025, 5, 19, 10, 47, 26, 855000)}\n",
      "\n",
      "{'_id': ObjectId('682c8e4bd3f3678d7835b714'), 'uploaded_by': ObjectId('6818f9601ec8f4553059c40e'), 'company_id': ObjectId('681c861b1cf44d32fe03095e'), 'batch_id': Binary(b'\\xa1\\xf7\\xf7?+5R\\x1d\\xa4n\\xe3Q!:3\\x81', 4), 'batch_name': 'Pradyuma', 'upload_count': 1, 'job_id': ObjectId('6825f8751b85c2b6f71a5beb'), 'status': 'completed', 'start_time': datetime.datetime(2025, 5, 20, 14, 14, 35, 958000), 'end_time': datetime.datetime(2025, 5, 20, 14, 14, 59, 514000)}\n",
      "\n",
      "{'_id': ObjectId('682d5a14d3f3678d7835b73c'), 'uploaded_by': ObjectId('6819eab551179958a604199f'), 'company_id': ObjectId('681c861b1cf44d32fe03095e'), 'batch_id': Binary(b'$[B\\x85\\xfb\\x1eRM\\x96\\x17z]\\x9e\\x90+\\xbb', 4), 'batch_name': 'React js ', 'upload_count': 1, 'job_id': ObjectId('682c77eb1b85c2b6f71a5c3b'), 'status': 'completed', 'start_time': datetime.datetime(2025, 5, 21, 4, 44, 4, 464000), 'end_time': datetime.datetime(2025, 5, 21, 4, 44, 55, 923000)}\n",
      "\n",
      "{'_id': ObjectId('682d6686d3f3678d7835b741'), 'uploaded_by': ObjectId('6819eab551179958a604199f'), 'company_id': ObjectId('681c861b1cf44d32fe03095e'), 'batch_id': Binary(b'\\xdcp\\xd4\\x90\\\\&PB\\x94\\xda\\xa2\\x895\\xfd\\rE', 4), 'batch_name': 'React js 2', 'upload_count': 1, 'job_id': ObjectId('682c77eb1b85c2b6f71a5c3b'), 'status': 'completed', 'start_time': datetime.datetime(2025, 5, 21, 5, 37, 10, 551000), 'end_time': datetime.datetime(2025, 5, 21, 5, 37, 50, 550000)}\n",
      "\n",
      "{'_id': ObjectId('682d6d68d3f3678d7835b744'), 'uploaded_by': ObjectId('6819eab551179958a604199f'), 'company_id': ObjectId('681c861b1cf44d32fe03095e'), 'batch_id': Binary(b'8_\\xdc\\x0b\\x9bA\\\\1\\x83Ek\\xd1+\\n\\x02\\x82', 4), 'batch_name': 'React 3', 'upload_count': 1, 'job_id': ObjectId('682c77eb1b85c2b6f71a5c3b'), 'status': 'completed', 'start_time': datetime.datetime(2025, 5, 21, 6, 6, 32, 982000), 'end_time': datetime.datetime(2025, 5, 21, 6, 7, 0, 366000)}\n",
      "\n",
      "{'_id': ObjectId('682d7626d3f3678d7835b747'), 'uploaded_by': ObjectId('6819eab551179958a604199f'), 'company_id': ObjectId('681c861b1cf44d32fe03095e'), 'batch_id': Binary(b'\\xdf\\x0b\\xbb\\xc3\\x8d/T\\xa8\\x99B\\xb1\\x82\\x03\\xcf<\\x95', 4), 'batch_name': 'React 4', 'upload_count': 1, 'job_id': ObjectId('682c77eb1b85c2b6f71a5c3b'), 'status': 'completed', 'start_time': datetime.datetime(2025, 5, 21, 6, 43, 50, 133000), 'end_time': datetime.datetime(2025, 5, 21, 6, 44, 12, 649000)}\n",
      "\n",
      "{'_id': ObjectId('682d90afd3f3678d7835b754'), 'uploaded_by': ObjectId('6819eab551179958a604199f'), 'company_id': ObjectId('681c861b1cf44d32fe03095e'), 'batch_id': Binary(b\"\\ra6'\\xeb\\x12U\\xc2\\x9c\\xa3\\x1a\\xa3 \\x86\\xec\\xa0\", 4), 'batch_name': 'React 5', 'upload_count': 1, 'job_id': ObjectId('682c77eb1b85c2b6f71a5c3b'), 'status': 'completed', 'start_time': datetime.datetime(2025, 5, 21, 8, 37, 3, 950000), 'end_time': datetime.datetime(2025, 5, 21, 8, 37, 35, 253000)}\n",
      "\n",
      "{'_id': ObjectId('682d90e4d3f3678d7835b757'), 'uploaded_by': ObjectId('6819eab551179958a604199f'), 'company_id': ObjectId('681c861b1cf44d32fe03095e'), 'batch_id': Binary(b'\\x18\\xe3\\xae\\x01T\\x98]-\\x97\\x16\\xfb\\xa3H\\xef\\x93Q', 4), 'batch_name': 'React 6', 'upload_count': 1, 'job_id': ObjectId('682c77eb1b85c2b6f71a5c3b'), 'status': 'completed', 'start_time': datetime.datetime(2025, 5, 21, 8, 37, 56, 524000), 'end_time': datetime.datetime(2025, 5, 21, 8, 38, 49, 207000)}\n",
      "\n",
      "{'_id': ObjectId('682dc8d9d3f3678d7835b76a'), 'uploaded_by': ObjectId('6819eab551179958a604199f'), 'company_id': ObjectId('681c861b1cf44d32fe03095e'), 'batch_id': Binary(b'#\\xb5\\xb1}W\\x9fR\\xe4\\x940,WUG\\xd0\\x99', 4), 'batch_name': 'Rabindranath Mishra', 'upload_count': 1, 'job_id': ObjectId('6825f8751b85c2b6f71a5beb'), 'status': 'completed', 'start_time': datetime.datetime(2025, 5, 21, 12, 36, 41, 539000), 'end_time': datetime.datetime(2025, 5, 21, 12, 37, 8, 551000)}\n",
      "\n",
      "{'_id': ObjectId('682f31f30582447f62edadc3'), 'uploaded_by': ObjectId('6818f9601ec8f4553059c40e'), 'company_id': ObjectId('681c861b1cf44d32fe03095e'), 'batch_id': Binary(b'\\xe2b8\\nQ\\xa2R\\x92\\x8c\\x1c>\\x0e\\xd8</4', 4), 'batch_name': 'Autem assumenda exce', 'upload_count': 1, 'job_id': ObjectId('682f2d960582447f62edadb6'), 'status': 'completed', 'start_time': datetime.datetime(2025, 5, 22, 14, 17, 23, 332000), 'end_time': datetime.datetime(2025, 5, 22, 14, 17, 42, 849000)}\n",
      "\n",
      "{'_id': ObjectId('68357aa8de4f05c873948b18'), 'uploaded_by': ObjectId('68307b2d0582447f62edadd5'), 'company_id': ObjectId('68307b590582447f62edadd8'), 'batch_id': Binary(b'\\x1ay\\x80\\xbe\\x08\\xe1ZN\\x89\\xf2\\x88\\x06qC\\x8dn', 4), 'batch_name': 'Test data', 'upload_count': 1, 'job_id': ObjectId('683539efde4f05c873948af9'), 'status': 'completed', 'start_time': datetime.datetime(2025, 5, 27, 8, 41, 12, 201000), 'end_time': datetime.datetime(2025, 5, 27, 8, 41, 37, 678000)}\n",
      "\n",
      "{'_id': ObjectId('68357acbde4f05c873948b1a'), 'uploaded_by': ObjectId('68307b2d0582447f62edadd5'), 'company_id': ObjectId('68307b590582447f62edadd8'), 'batch_id': Binary(b'^[[+\\x98\\xe6]v\\x93\\xb1\\xd1aTf\\x1bL', 4), 'batch_name': 'test data 2', 'upload_count': 1, 'job_id': ObjectId('683539efde4f05c873948af9'), 'status': 'completed', 'start_time': datetime.datetime(2025, 5, 27, 8, 41, 47, 497000), 'end_time': datetime.datetime(2025, 5, 27, 8, 42, 14, 361000)}\n",
      "\n",
      "{'_id': ObjectId('6835e6bdc165a9e593e1ebb4'), 'uploaded_by': ObjectId('6818f9601ec8f4553059c40e'), 'company_id': ObjectId('681c861b1cf44d32fe03095e'), 'batch_id': Binary(b\"\\x98\\x83\\x9c\\xb47'[[\\xae\\xe4\\x94+\\xfb\\xbb=\\x02\", 4), 'batch_name': 'supp', 'upload_count': 1, 'job_id': ObjectId('6825f8751b85c2b6f71a5beb'), 'status': 'processing', 'start_time': datetime.datetime(2025, 5, 27, 16, 22, 21, 597000)}\n",
      "\n",
      "{'_id': ObjectId('6836af42c165a9e593e1ebc1'), 'uploaded_by': ObjectId('6818f9811ec8f4553059c410'), 'company_id': ObjectId('681c861b1cf44d32fe03095e'), 'batch_id': Binary(b'D\\xf0\\x14\\x18\\xc1&PX\\x99\\x03D\\xda\\xb3\\xff\\xb5\\x87', 4), 'batch_name': 'Pinion batch 1', 'upload_count': 180, 'job_id': ObjectId('6836aec2c165a9e593e1ebc0'), 'status': 'completed', 'start_time': datetime.datetime(2025, 5, 28, 6, 37, 54, 221000), 'end_time': datetime.datetime(2025, 5, 28, 6, 41, 29, 345000)}\n",
      "\n",
      "{'_id': ObjectId('683731c5c165a9e593e1ec5a'), 'uploaded_by': ObjectId('6818f9601ec8f4553059c40e'), 'company_id': ObjectId('681c861b1cf44d32fe03095e'), 'batch_id': Binary(b'\\x11W\\x14~\\x809Q\\xeb\\xa8T\",4b\\xae\\x7f', 4), 'batch_name': 'lk', 'upload_count': 1, 'job_id': ObjectId('682c6e541b85c2b6f71a5c32'), 'status': 'completed', 'start_time': datetime.datetime(2025, 5, 28, 15, 54, 45, 669000), 'end_time': datetime.datetime(2025, 5, 28, 15, 55, 7, 6000)}\n",
      "\n",
      "{'_id': ObjectId('683734a8c165a9e593e1ec5b'), 'uploaded_by': ObjectId('6818f9601ec8f4553059c40e'), 'company_id': ObjectId('681c861b1cf44d32fe03095e'), 'batch_id': Binary(b'\\x1f\\xf4K\\x99\\xacX_1\\x8e\\xc4)\\xee\\xd6\\x8a\\x14\\xf8', 4), 'batch_name': 'rt', 'upload_count': 1, 'job_id': ObjectId('682c6e541b85c2b6f71a5c32'), 'status': 'completed', 'start_time': datetime.datetime(2025, 5, 28, 16, 7, 4, 418000), 'end_time': datetime.datetime(2025, 5, 28, 16, 7, 23, 741000)}\n",
      "\n",
      "{'_id': ObjectId('683879a7c165a9e593e1ec7b'), 'uploaded_by': ObjectId('682475691b85c2b6f71a5ba8'), 'company_id': ObjectId('682475961b85c2b6f71a5baa'), 'batch_id': Binary(b'\\xda\\x9c\\x0c@\\xb3\\x96Q\\xcb\\xbb\\xc6mF\\x14z\\x0b\\xaf', 4), 'batch_name': 'rahul', 'upload_count': 1, 'job_id': ObjectId('682c284a1b85c2b6f71a5c21'), 'status': 'completed', 'start_time': datetime.datetime(2025, 5, 29, 15, 13, 43, 67000), 'end_time': datetime.datetime(2025, 5, 29, 15, 14, 4, 134000)}\n",
      "\n",
      "{'_id': ObjectId('68397046c165a9e593e1ec7e'), 'uploaded_by': ObjectId('6836cd97c165a9e593e1ec52'), 'company_id': ObjectId('6835e66bc165a9e593e1ebb1'), 'batch_id': Binary(b'\\x1fZ\\xa4\\x1c\\x19\\x04T\\xae\\xa5du\\x05}\\x17r\\x94', 4), 'batch_name': 'Bar Manager', 'upload_count': 3, 'job_id': ObjectId('6836cb7dc165a9e593e1ec4f'), 'status': 'completed', 'start_time': datetime.datetime(2025, 5, 30, 8, 45, 58, 136000), 'end_time': datetime.datetime(2025, 5, 30, 8, 46, 45, 351000)}\n",
      "\n",
      "{'_id': ObjectId('6839812cc165a9e593e1ec83'), 'uploaded_by': ObjectId('6818f9811ec8f4553059c410'), 'company_id': ObjectId('681c861b1cf44d32fe03095e'), 'batch_id': Binary(b'\\xb8z?\\xcae\\xf6W.\\x8dU\\xcaZ\\x9e\\xbe\\xdbz', 4), 'batch_name': 'HCMC - HR', 'upload_count': 1, 'job_id': ObjectId('683980a8c165a9e593e1ec82'), 'status': 'completed', 'start_time': datetime.datetime(2025, 5, 30, 9, 58, 4, 278000), 'end_time': datetime.datetime(2025, 5, 30, 9, 58, 37, 816000)}\n",
      "\n",
      "{'_id': ObjectId('6839815bc165a9e593e1ec84'), 'uploaded_by': ObjectId('6818f9811ec8f4553059c410'), 'company_id': ObjectId('681c861b1cf44d32fe03095e'), 'batch_id': Binary(b'\\x12o\\x90\\xde.\\x99U9\\xa2up\\x05\\x11\\xdb\\xb77', 4), 'batch_name': '2', 'upload_count': 1, 'job_id': ObjectId('683980a8c165a9e593e1ec82'), 'status': 'completed', 'start_time': datetime.datetime(2025, 5, 30, 9, 58, 51, 836000), 'end_time': datetime.datetime(2025, 5, 30, 9, 59, 21, 930000)}\n",
      "\n",
      "{'_id': ObjectId('6839817ec165a9e593e1ec85'), 'uploaded_by': ObjectId('6818f9811ec8f4553059c410'), 'company_id': ObjectId('681c861b1cf44d32fe03095e'), 'batch_id': Binary(b'\\xf5\"\\xd0\\x85\\xc2\\xa9R\\xf7\\xaeo\\xbao1\\xc68 ', 4), 'batch_name': '3', 'upload_count': 1, 'job_id': ObjectId('683980a8c165a9e593e1ec82'), 'status': 'completed', 'start_time': datetime.datetime(2025, 5, 30, 9, 59, 26, 919000), 'end_time': datetime.datetime(2025, 5, 30, 10, 0, 1, 244000)}\n",
      "\n",
      "{'_id': ObjectId('683d5b30c165a9e593e1ec91'), 'uploaded_by': ObjectId('6836cd97c165a9e593e1ec52'), 'company_id': ObjectId('6835e66bc165a9e593e1ebb1'), 'batch_id': Binary(b'\\x88\\x99\\xe3\\xc0\\xb5\\xa3P\\x8b\\x82\\xa4\\x9b\\xc0\\xb8\\x18\\xc3\\xc2', 4), 'batch_name': 'Service staff.1', 'upload_count': 2, 'job_id': ObjectId('6836cb0ac165a9e593e1ec4e'), 'status': 'processing', 'start_time': datetime.datetime(2025, 6, 2, 8, 5, 4, 763000)}\n",
      "\n",
      "{'_id': ObjectId('683d7116c165a9e593e1ec92'), 'uploaded_by': ObjectId('6836cd97c165a9e593e1ec52'), 'company_id': ObjectId('6835e66bc165a9e593e1ebb1'), 'batch_id': Binary(b'j\\rN\\x80\\x95y\\\\q\\x96\\xcfp\\x95\\xe2\\x80\\t\\xb1', 4), 'batch_name': 'batch.2', 'upload_count': 1, 'job_id': ObjectId('6836cb0ac165a9e593e1ec4e'), 'status': 'processing', 'start_time': datetime.datetime(2025, 6, 2, 9, 38, 30, 606000)}\n",
      "\n",
      "{'_id': ObjectId('683d9b09b72469b8444e42d4'), 'uploaded_by': ObjectId('682475691b85c2b6f71a5ba8'), 'company_id': ObjectId('682475961b85c2b6f71a5baa'), 'batch_id': Binary(b'Z\\x12:w\\x18YX\\xa2\\xb0s\\xeb>4\\xab\\xf0\\xa9', 4), 'batch_name': 'a1', 'type': 'bulk', 'upload_count': 1, 'job_id': ObjectId('682c284a1b85c2b6f71a5c21'), 'status': 'completed', 'start_time': datetime.datetime(2025, 6, 2, 12, 37, 29, 414000), 'end_time': datetime.datetime(2025, 6, 2, 12, 37, 48, 650000)}\n",
      "\n",
      "{'_id': ObjectId('683d9b51b72469b8444e42d6'), 'uploaded_by': ObjectId('682475691b85c2b6f71a5ba8'), 'company_id': ObjectId('682475961b85c2b6f71a5baa'), 'batch_id': Binary(b'\\x9f\\xcd\"\\x03\\xffzXe\\xb6\\xfc\\x06\\x8c<+\\x9e\\x8a', 4), 'batch_name': 'a12', 'type': 'bulk', 'upload_count': 1, 'job_id': ObjectId('682c284a1b85c2b6f71a5c21'), 'status': 'completed', 'start_time': datetime.datetime(2025, 6, 2, 12, 38, 41, 555000), 'end_time': datetime.datetime(2025, 6, 2, 12, 38, 41, 894000)}\n",
      "\n",
      "{'_id': ObjectId('683d9b69b72469b8444e42d8'), 'uploaded_by': ObjectId('682475691b85c2b6f71a5ba8'), 'company_id': ObjectId('682475961b85c2b6f71a5baa'), 'batch_id': Binary(b']2j\\xe8\\xfd\\xaaS1\\xbc\\xacR\\xc7\\x99\\xbe\\xa5*', 4), 'batch_name': 'a3', 'type': 'bulk', 'upload_count': 1, 'job_id': ObjectId('682c284a1b85c2b6f71a5c21'), 'status': 'completed', 'start_time': datetime.datetime(2025, 6, 2, 12, 39, 5, 751000), 'end_time': datetime.datetime(2025, 6, 2, 12, 39, 5, 996000)}\n",
      "\n",
      "{'_id': ObjectId('683d9c53b72469b8444e42db'), 'uploaded_by': ObjectId('682475691b85c2b6f71a5ba8'), 'company_id': ObjectId('682475961b85c2b6f71a5baa'), 'batch_id': Binary(b'\\x18.[\\x00\\x85\\x17W\\xac\\x90\\x80\\xd3\\x80\\x93\\xbb\\x040', 4), 'batch_name': 'a11', 'type': 'bulk', 'upload_count': 1, 'job_id': ObjectId('683d9c31b72469b8444e42da'), 'status': 'completed', 'start_time': datetime.datetime(2025, 6, 2, 12, 42, 59, 593000), 'end_time': datetime.datetime(2025, 6, 2, 12, 43, 20, 596000)}\n",
      "\n",
      "{'_id': ObjectId('683dc466b72469b8444e42e9'), 'uploaded_by': ObjectId('683dc250b72469b8444e42dd'), 'company_id': ObjectId('683dc273b72469b8444e42e0'), 'batch_id': Binary(b'\\xf7\\xfb{\\xba\\xd2\\xa5]\\xf0\\xb4\\xdc$\\xa2{>m!', 4), 'batch_name': '#GenerativeAI', 'type': 'bulk', 'upload_count': 1, 'job_id': ObjectId('683dc3b5b72469b8444e42e3'), 'status': 'completed', 'start_time': datetime.datetime(2025, 6, 2, 15, 33, 58, 697000), 'end_time': datetime.datetime(2025, 6, 2, 15, 34, 21, 653000)}\n",
      "\n",
      "{'_id': ObjectId('683dc6dfb72469b8444e42eb'), 'uploaded_by': ObjectId('683dc250b72469b8444e42dd'), 'company_id': ObjectId('683dc273b72469b8444e42e0'), 'batch_id': Binary(b'%%\\x07\\xab\\x8bQX.\\x8d\\xa8z5T\\xc0\\xc7>', 4), 'batch_name': 'demo', 'type': 'bulk', 'upload_count': 1, 'job_id': ObjectId('683dc3b5b72469b8444e42e3'), 'status': 'completed', 'start_time': datetime.datetime(2025, 6, 2, 15, 44, 31, 208000), 'end_time': datetime.datetime(2025, 6, 2, 15, 44, 49, 514000)}\n",
      "\n",
      "{'_id': ObjectId('68400c1bb72469b8444e433d'), 'uploaded_by': ObjectId('684002c6b72469b8444e4339'), 'company_id': ObjectId('683ffda7b72469b8444e4328'), 'batch_id': Binary(b'\\xa3\\xc4\\x7fsy\\x05W\\xe4\\xb2B5ycK+\\xb9', 4), 'batch_name': 'Batch.1', 'type': 'bulk', 'upload_count': 1, 'job_id': ObjectId('683fff3ab72469b8444e4332'), 'status': 'completed', 'start_time': datetime.datetime(2025, 6, 4, 9, 4, 27, 871000), 'end_time': datetime.datetime(2025, 6, 4, 9, 4, 57, 356000)}\n",
      "\n",
      "{'_id': ObjectId('68400d07b72469b8444e433f'), 'uploaded_by': ObjectId('684002c6b72469b8444e4339'), 'company_id': ObjectId('683ffda7b72469b8444e4328'), 'batch_id': Binary(b'G\\x7f\\x9a\\xd8| ^\\x8f\\x84\\xc3\\x93\\x96\\xf8L\\xc87', 4), 'batch_name': 'Apollo batch.2', 'type': 'bulk', 'upload_count': 180, 'job_id': ObjectId('683fff3ab72469b8444e4332'), 'status': 'completed', 'start_time': datetime.datetime(2025, 6, 4, 9, 8, 23, 978000), 'end_time': datetime.datetime(2025, 6, 4, 9, 11, 57, 617000)}\n",
      "\n",
      "{'_id': ObjectId('68408785a060d5257c9c3d71'), 'uploaded_by': ObjectId('6840845da060d5257c9c3d5f'), 'company_id': ObjectId('6840848da060d5257c9c3d62'), 'batch_id': Binary(b'\\xa2A]\\x9f\\xdd[X^\\xbfZN\\x02H\\xfbE:', 4), 'batch_name': 'ka', 'type': 'bulk', 'upload_count': 1, 'job_id': ObjectId('684084b1a060d5257c9c3d65'), 'status': 'completed', 'start_time': datetime.datetime(2025, 6, 4, 17, 51, 1, 273000), 'end_time': datetime.datetime(2025, 6, 4, 17, 51, 25, 101000)}\n",
      "\n",
      "{'_id': ObjectId('68408b2fa060d5257c9c3d93'), 'uploaded_by': ObjectId('684088a6a060d5257c9c3d85'), 'company_id': ObjectId('684088d2a060d5257c9c3d88'), 'batch_id': Binary(b'j\\xad(\\xab\\xb9s\\\\\\xbd\\x948ih\\xcap\\x7f\\xa8', 4), 'batch_name': 'op', 'type': 'bulk', 'upload_count': 1, 'job_id': ObjectId('68408986a060d5257c9c3d8e'), 'status': 'completed', 'start_time': datetime.datetime(2025, 6, 4, 18, 6, 39, 574000), 'end_time': datetime.datetime(2025, 6, 4, 18, 7, 0, 771000)}\n",
      "\n",
      "{'_id': ObjectId('68408e78c36b23952e9f122e'), 'uploaded_by': ObjectId('684087fda060d5257c9c3d78'), 'company_id': ObjectId('68408808a060d5257c9c3d7b'), 'batch_id': Binary(b'Hv\\xee\\x00\\xde\\x1b[\\x1e\\x9c\\xd4\\x8c\\xdb\\x019I\\xff', 4), 'batch_name': 'NEW BATCH', 'type': 'bulk', 'upload_count': 1, 'job_id': ObjectId('68408844a060d5257c9c3d7e'), 'status': 'completed', 'start_time': datetime.datetime(2025, 6, 4, 18, 20, 40, 807000), 'end_time': datetime.datetime(2025, 6, 4, 18, 21, 6, 214000)}\n",
      "\n",
      "{'_id': ObjectId('684090a2c36b23952e9f1231'), 'uploaded_by': ObjectId('6819eab551179958a604199f'), 'company_id': ObjectId('681c861b1cf44d32fe03095e'), 'batch_id': Binary(b\"\\x02\\xd3\\xc1\\x06-!R\\xa8\\xb5\\x1fIR\\xcc\\xc3\\xc8'\", 4), 'batch_name': 'TS_batch_001', 'type': 'bulk', 'upload_count': 2, 'job_id': ObjectId('68408fbac36b23952e9f1230'), 'status': 'completed', 'start_time': datetime.datetime(2025, 6, 4, 18, 29, 54, 963000), 'end_time': datetime.datetime(2025, 6, 4, 18, 30, 22, 304000)}\n",
      "\n",
      "{'_id': ObjectId('6840941c20ea20e4aca311ad'), 'uploaded_by': ObjectId('6840927ce3518a909c34f02a'), 'company_id': ObjectId('684092c320ea20e4aca311a5'), 'batch_id': Binary(b'\\x1b\\xaf\\xd3\\xf5\\xc5\\x94TQ\\x95(w\\xb2\\x93\\xb0\\xd1@', 4), 'batch_name': 'aw', 'type': 'bulk', 'upload_count': 1, 'job_id': ObjectId('684092f220ea20e4aca311a8'), 'status': 'completed', 'start_time': datetime.datetime(2025, 6, 4, 18, 44, 44, 355000), 'end_time': datetime.datetime(2025, 6, 4, 18, 45, 5, 729000)}\n",
      "\n",
      "{'_id': ObjectId('6840951a20ea20e4aca311af'), 'uploaded_by': ObjectId('6840927ce3518a909c34f02a'), 'company_id': ObjectId('684092c320ea20e4aca311a5'), 'batch_id': Binary(b'\\xc2vW\\xd2\\x8f\\xf2Q@\\x93\\x1b\\xa3=L\\x8c\\x7fd', 4), 'batch_name': 'w', 'type': 'bulk', 'upload_count': 1, 'job_id': ObjectId('684092f220ea20e4aca311a8'), 'status': 'completed', 'start_time': datetime.datetime(2025, 6, 4, 18, 48, 58, 156000), 'end_time': datetime.datetime(2025, 6, 4, 18, 49, 15, 286000)}\n",
      "\n",
      "{'_id': ObjectId('684101eb20ea20e4aca311c6'), 'uploaded_by': ObjectId('684002c6b72469b8444e4339'), 'company_id': ObjectId('683ffda7b72469b8444e4328'), 'batch_id': Binary(b'\\x19gO\\x94\\xf0{[\\xef\\xb5\\x8c\\x97\\xafa\\xc7\\x1dI', 4), 'batch_name': 'Financial manager', 'type': 'bulk', 'upload_count': 180, 'job_id': ObjectId('683ffe22b72469b8444e432b'), 'status': 'completed', 'start_time': datetime.datetime(2025, 6, 5, 2, 33, 15, 707000), 'end_time': datetime.datetime(2025, 6, 5, 2, 36, 28, 202000)}\n",
      "\n",
      "{'_id': ObjectId('6847e955eabd1dae68df0864'), 'uploaded_by': ObjectId('6818f9601ec8f4553059c40e'), 'company_id': ObjectId('681c861b1cf44d32fe03095e'), 'batch_id': Binary(b'\\xde\\xa2\\xad\\xf6\\xf6\\x17_G\\x9a\\xaaE\\xb2c\\xd6\\x9f\\x98', 4), 'batch_name': 'sw', 'type': 'bulk', 'upload_count': 1, 'job_id': ObjectId('68408fbac36b23952e9f1230'), 'status': 'completed', 'start_time': datetime.datetime(2025, 6, 10, 8, 14, 13, 466000), 'end_time': datetime.datetime(2025, 6, 10, 8, 14, 38, 755000)}\n",
      "\n",
      "{'_id': ObjectId('6847f550eabd1dae68df0870'), 'uploaded_by': ObjectId('6818f9601ec8f4553059c40e'), 'company_id': ObjectId('681c861b1cf44d32fe03095e'), 'batch_id': Binary(b'\\xf5\\xc5\\xe4\\xe6<\\x13_\\x81\\xacET\\x9e\\xca(\\x85\\x93', 4), 'batch_name': 'jj', 'type': 'bulk', 'upload_count': 1, 'job_id': ObjectId('68408fbac36b23952e9f1230'), 'status': 'completed', 'start_time': datetime.datetime(2025, 6, 10, 9, 5, 20, 869000), 'end_time': datetime.datetime(2025, 6, 10, 9, 7, 28, 30000)}\n",
      "\n",
      "{'_id': ObjectId('68481549eabd1dae68df0886'), 'uploaded_by': ObjectId('6818f9601ec8f4553059c40e'), 'company_id': ObjectId('681c861b1cf44d32fe03095e'), 'batch_id': Binary(b'\\x02\\xf5l\\t\\xb13Y\\x12\\x84\\xa3\\xacMC\\xe1\\xf8\\xb8', 4), 'batch_name': 'dddd', 'type': 'bulk', 'upload_count': 1, 'job_id': ObjectId('68408fbac36b23952e9f1230'), 'status': 'completed', 'start_time': datetime.datetime(2025, 6, 10, 11, 21, 45, 750000), 'end_time': datetime.datetime(2025, 6, 10, 11, 22, 31, 380000)}\n",
      "\n",
      "{'_id': ObjectId('6848160ceabd1dae68df0887'), 'uploaded_by': ObjectId('6818f9601ec8f4553059c40e'), 'company_id': ObjectId('681c861b1cf44d32fe03095e'), 'batch_id': Binary(b'\\xcb\\x92K\\xd9\\x02\\xb0\\\\\\x08\\xb9LR\\x1b\\x80D\\xaf\\x8b', 4), 'batch_name': 'da', 'type': 'bulk', 'upload_count': 1, 'job_id': ObjectId('683980a8c165a9e593e1ec82'), 'status': 'completed', 'start_time': datetime.datetime(2025, 6, 10, 11, 25, 0, 171000), 'end_time': datetime.datetime(2025, 6, 10, 11, 26, 37, 494000)}\n",
      "\n",
      "{'_id': ObjectId('684826b0eabd1dae68df088e'), 'uploaded_by': ObjectId('6818f9601ec8f4553059c40e'), 'company_id': ObjectId('681c861b1cf44d32fe03095e'), 'batch_id': Binary(b'\\x96eJ\\xe1?\\xa2Q\\x1e\\x80\\xec\\xc3Nw\\x96\\xc23', 4), 'batch_name': 'awe', 'type': 'bulk', 'upload_count': 1, 'job_id': ObjectId('683980a8c165a9e593e1ec82'), 'status': 'completed', 'start_time': datetime.datetime(2025, 6, 10, 12, 36, 0, 344000), 'end_time': datetime.datetime(2025, 6, 10, 12, 36, 49, 808000)}\n",
      "\n",
      "{'_id': ObjectId('68492ca7eabd1dae68df08a9'), 'uploaded_by': ObjectId('6819ea8a51179958a604199d'), 'company_id': ObjectId('681c861b1cf44d32fe03095e'), 'batch_id': Binary(b'\\xdaB\\x18\\xcf\\xb5\\xdb_J\\xb5\\x1dvT\\x8e\\x16\\xd6m', 4), 'batch_name': 'py cv', 'type': 'bulk', 'upload_count': 1, 'job_id': ObjectId('6848584deabd1dae68df0894'), 'status': 'completed', 'start_time': datetime.datetime(2025, 6, 11, 7, 13, 43, 35000), 'end_time': datetime.datetime(2025, 6, 11, 7, 13, 59, 623000)}\n",
      "\n",
      "{'_id': ObjectId('684ae5e62719cd46c108060a'), 'uploaded_by': ObjectId('684ae5e62719cd46c1080609'), 'company_id': ObjectId('681c861b1cf44d32fe03095e'), 'batch_id': Binary(b'W\\xb08AEJW \\xa0\\xb6P>:\\x91\\x80Y', 4), 'type': 'single', 'job_id': ObjectId('682c77eb1b85c2b6f71a5c3b'), 'status': 'processing', 'start_time': datetime.datetime(2025, 6, 12, 14, 36, 22, 919000), 'batch_name': 'Wp-Careers'}\n",
      "\n",
      "{'_id': ObjectId('684ae6022719cd46c108060d'), 'uploaded_by': ObjectId('6818f9601ec8f4553059c40e'), 'company_id': ObjectId('681c861b1cf44d32fe03095e'), 'batch_id': Binary(b'(\\x93s\\xb1\\xfb\\x14[F\\x9dCc}H\\xd0`\\x97', 4), 'batch_name': 'fa', 'type': 'bulk', 'upload_count': 1, 'job_id': ObjectId('6834565699b09377b5f06387'), 'status': 'processing', 'start_time': datetime.datetime(2025, 6, 12, 14, 36, 50, 598000)}\n",
      "\n",
      "{'_id': ObjectId('684ae92ec939b52e8b71ab5c'), 'uploaded_by': ObjectId('6818f9601ec8f4553059c40e'), 'company_id': ObjectId('681c861b1cf44d32fe03095e'), 'batch_id': Binary(b'\\xac\\xa8}\\xc6\\t\\xc3T\\x04\\x9bH\\x0f\\xf7\\xe8\\x9c`Y', 4), 'batch_name': 'po', 'type': 'bulk', 'upload_count': 1, 'job_id': ObjectId('6834697dde4f05c873948a99'), 'status': 'completed', 'start_time': datetime.datetime(2025, 6, 12, 14, 50, 22, 50000), 'end_time': datetime.datetime(2025, 6, 12, 14, 50, 41, 172000)}\n",
      "\n",
      "{'_id': ObjectId('684aed5cc939b52e8b71ab67'), 'uploaded_by': ObjectId('684aed5cc939b52e8b71ab66'), 'company_id': ObjectId('682475961b85c2b6f71a5baa'), 'batch_id': Binary(b\"[I'\\xa6q\\x9f^\\xe4\\xb44|\\x0f^ dE\", 4), 'type': 'single', 'job_id': ObjectId('684ae9bcc939b52e8b71ab5f'), 'status': 'completed', 'start_time': datetime.datetime(2025, 6, 12, 15, 8, 12, 344000), 'end_time': datetime.datetime(2025, 6, 12, 15, 8, 34, 178000), 'batch_name': 'Wp-Careers'}\n",
      "\n",
      "{'_id': ObjectId('684afce0c939b52e8b71ab9b'), 'uploaded_by': ObjectId('684afce0c939b52e8b71ab9a'), 'company_id': ObjectId('682475961b85c2b6f71a5baa'), 'batch_id': Binary(b'\\x13\\x1cJ\\xcf`\\x96]\\xfc\\x8c\\xce\\xfbG\\xd4\\xff>6', 4), 'type': 'single', 'job_id': ObjectId('684ae9bcc939b52e8b71ab5f'), 'status': 'completed', 'start_time': datetime.datetime(2025, 6, 12, 16, 14, 24, 312000), 'end_time': datetime.datetime(2025, 6, 12, 16, 14, 49, 836000), 'batch_name': 'Wp-Careers'}\n",
      "\n",
      "{'_id': ObjectId('684b005ec939b52e8b71aba0'), 'uploaded_by': ObjectId('684b005ec939b52e8b71ab9f'), 'company_id': ObjectId('682475961b85c2b6f71a5baa'), 'batch_id': Binary(b'AA\\xe8\\xf81\\xf4T\\xb1\\xbe\\xf7\\xe8O\\x97/\\xef\\r', 4), 'type': 'single', 'job_id': ObjectId('684ae9bcc939b52e8b71ab5f'), 'status': 'completed', 'start_time': datetime.datetime(2025, 6, 12, 16, 29, 18, 657000), 'end_time': datetime.datetime(2025, 6, 12, 16, 30, 6, 205000), 'batch_name': 'Wp-Careers'}\n",
      "\n",
      "{'_id': ObjectId('684bb14bc939b52e8b71aba7'), 'uploaded_by': ObjectId('684af45fc939b52e8b71ab71'), 'company_id': ObjectId('684af483c939b52e8b71ab72'), 'batch_id': Binary(b')\\x0b1\\xe8\\xe0\\xc3R\\xcc\\x96\\x86k\\xd1 \\xf1t\\xab', 4), 'type': 'single', 'job_id': ObjectId('684af4ebc939b52e8b71ab76'), 'status': 'completed', 'start_time': datetime.datetime(2025, 6, 13, 5, 4, 11, 713000), 'end_time': datetime.datetime(2025, 6, 13, 5, 4, 34, 965000), 'batch_name': 'Wp-Careers'}\n",
      "\n",
      "{'_id': ObjectId('684bb67bc939b52e8b71abb2'), 'uploaded_by': ObjectId('684bb381c939b52e8b71aba9'), 'company_id': ObjectId('684bb3a5c939b52e8b71abaa'), 'batch_id': Binary(b\"'\\xab\\xe2\\xf6\\xb0\\xbb[\\x99\\xb5\\xcc\\xe9!o%\\xde\\x81\", 4), 'type': 'single', 'job_id': ObjectId('684bb4a3c939b52e8b71abae'), 'status': 'completed', 'start_time': datetime.datetime(2025, 6, 13, 5, 26, 19, 516000), 'end_time': datetime.datetime(2025, 6, 13, 5, 26, 46, 843000), 'batch_name': 'Wp-Careers'}\n",
      "\n",
      "{'_id': ObjectId('684be140c939b52e8b71abba'), 'uploaded_by': ObjectId('684be140c939b52e8b71abb9'), 'company_id': ObjectId('681c861b1cf44d32fe03095e'), 'batch_id': Binary(b'\\x1b^\\xcc\\x11j\\xadU\\x0b\\x9av\\n\\x1bH\\xed\\xc0o', 4), 'type': 'single', 'job_id': ObjectId('68249d021b85c2b6f71a5bb4'), 'status': 'completed', 'start_time': datetime.datetime(2025, 6, 13, 8, 28, 48, 831000), 'end_time': datetime.datetime(2025, 6, 13, 8, 29, 8, 405000), 'batch_name': 'Wp-Careers'}\n",
      "\n",
      "{'_id': ObjectId('684be302c939b52e8b71abc0'), 'uploaded_by': ObjectId('6819eab551179958a604199f'), 'company_id': ObjectId('681c861b1cf44d32fe03095e'), 'batch_id': Binary(b'y\\x8b\\xd6\\xdd\\x96\\x0cX\\xad\\x9b\\xc3\\x9e\\xb5\\x0br\\xb5\\xf7', 4), 'type': 'single', 'job_id': ObjectId('68249d021b85c2b6f71a5bb4'), 'status': 'completed', 'start_time': datetime.datetime(2025, 6, 13, 8, 36, 18, 794000), 'end_time': datetime.datetime(2025, 6, 13, 8, 36, 38, 124000), 'batch_name': 'Wp-Careers'}\n",
      "\n",
      "{'_id': ObjectId('684bf1e6c939b52e8b71abd7'), 'uploaded_by': ObjectId('684bf09bc939b52e8b71abd4'), 'company_id': ObjectId('681c861b1cf44d32fe03095e'), 'batch_id': Binary(b'\\xdeR_Q\\xeb\\x89]\\x89\\xb1,WBSo\\x90A', 4), 'batch_name': '123', 'type': 'bulk', 'upload_count': 1, 'job_id': ObjectId('68493685eabd1dae68df08ac'), 'status': 'completed', 'start_time': datetime.datetime(2025, 6, 13, 9, 39, 50, 652000), 'end_time': datetime.datetime(2025, 6, 13, 9, 40, 16, 310000)}\n",
      "\n",
      "{'_id': ObjectId('684bf411c939b52e8b71abdb'), 'uploaded_by': ObjectId('682475691b85c2b6f71a5ba8'), 'company_id': ObjectId('682475961b85c2b6f71a5baa'), 'batch_id': Binary(b'\\xecLm\\xe2\\xfe\\xfcVP\\x96\\xd7Z\\xb5\\xea\\xab\\xaaL', 4), 'type': 'single', 'job_id': ObjectId('6847fc7deabd1dae68df0879'), 'status': 'completed', 'start_time': datetime.datetime(2025, 6, 13, 9, 49, 5, 298000), 'end_time': datetime.datetime(2025, 6, 13, 9, 49, 27, 587000), 'batch_name': 'Wp-Careers'}\n",
      "\n",
      "{'_id': ObjectId('684bf99dc939b52e8b71abdd'), 'uploaded_by': ObjectId('684bf129c939b52e8b71abd6'), 'company_id': ObjectId('681c861b1cf44d32fe03095e'), 'batch_id': Binary(b'Bj\\x07\\xd1\\x97\\xbe_\\x05\\xa33.\\x80\\xccf\\x12\\x18', 4), 'batch_name': '121', 'type': 'bulk', 'upload_count': 1, 'job_id': ObjectId('68493685eabd1dae68df08ac'), 'status': 'completed', 'start_time': datetime.datetime(2025, 6, 13, 10, 12, 45, 213000), 'end_time': datetime.datetime(2025, 6, 13, 10, 13, 10, 173000)}\n",
      "\n",
      "{'_id': ObjectId('684bfa92c939b52e8b71abe0'), 'uploaded_by': ObjectId('684bf129c939b52e8b71abd6'), 'company_id': ObjectId('681c861b1cf44d32fe03095e'), 'batch_id': Binary(b'\\x88\\xc8\\x1e\\x9fzoX\\xac\\xa1\\x03\\xa4\\xe9\\x03)f\\t', 4), 'batch_name': '122', 'type': 'bulk', 'upload_count': 1, 'job_id': ObjectId('68493685eabd1dae68df08ac'), 'status': 'completed', 'start_time': datetime.datetime(2025, 6, 13, 10, 16, 50, 607000), 'end_time': datetime.datetime(2025, 6, 13, 10, 17, 13, 431000)}\n",
      "\n",
      "{'_id': ObjectId('684bfb24c939b52e8b71abe3'), 'uploaded_by': ObjectId('684bf129c939b52e8b71abd6'), 'company_id': ObjectId('681c861b1cf44d32fe03095e'), 'batch_id': Binary(b'\\xb94\\xb3\\x98L\\x1fXd\\xa9\\xfffX \\x1e\\xed\\xd5', 4), 'batch_name': '124', 'type': 'bulk', 'upload_count': 1, 'job_id': ObjectId('68493685eabd1dae68df08ac'), 'status': 'completed', 'start_time': datetime.datetime(2025, 6, 13, 10, 19, 16, 8000), 'end_time': datetime.datetime(2025, 6, 13, 10, 19, 41, 35000)}\n",
      "\n",
      "{'_id': ObjectId('684c0a4fc939b52e8b71ac00'), 'uploaded_by': ObjectId('684bf129c939b52e8b71abd6'), 'company_id': ObjectId('681c861b1cf44d32fe03095e'), 'batch_id': Binary(b'9u\\xd2\\xbaG\\xa5V\\xc9\\x9f1\\xd0M\\xeb\\xcd\\xd2\\x02', 4), 'batch_name': '125', 'type': 'bulk', 'upload_count': 1, 'job_id': ObjectId('68493685eabd1dae68df08ac'), 'status': 'completed', 'start_time': datetime.datetime(2025, 6, 13, 11, 23, 59, 794000), 'end_time': datetime.datetime(2025, 6, 13, 11, 24, 26, 376000)}\n",
      "\n",
      "{'_id': ObjectId('684c0ebfc939b52e8b71ac03'), 'uploaded_by': ObjectId('684c08ffc939b52e8b71abe6'), 'company_id': ObjectId('684c0926c939b52e8b71abe7'), 'batch_id': Binary(b\"\\xcb4^\\xf4\\xfe\\x95^\\xef\\xad\\xa4\\x9e\\x05o\\x9a'7\", 4), 'type': 'single', 'job_id': ObjectId('684c09aec939b52e8b71abeb'), 'status': 'completed', 'start_time': datetime.datetime(2025, 6, 13, 11, 42, 55, 141000), 'end_time': datetime.datetime(2025, 6, 13, 11, 43, 12, 842000), 'batch_name': 'Wp-Careers'}\n",
      "\n",
      "{'_id': ObjectId('684c22b0c939b52e8b71ac0b'), 'uploaded_by': ObjectId('6819eab551179958a604199f'), 'company_id': ObjectId('681c861b1cf44d32fe03095e'), 'batch_id': Binary(b\"\\xf9'\\xdcK*\\x86Q\\xea\\xaa,5L\\xdf:*7\", 4), 'type': 'single', 'job_id': ObjectId('68493685eabd1dae68df08ac'), 'status': 'completed', 'start_time': datetime.datetime(2025, 6, 13, 13, 8, 0, 372000), 'end_time': datetime.datetime(2025, 6, 13, 13, 8, 33, 537000), 'batch_name': 'Wp-Careers'}\n",
      "\n",
      "{'_id': ObjectId('684fcc31c939b52e8b71ac9c'), 'uploaded_by': ObjectId('684fcc31c939b52e8b71ac9b'), 'company_id': ObjectId('681c861b1cf44d32fe03095e'), 'batch_id': Binary(b'<\\x11\\x82\\xbd}oW:\\x8d\\x07U\\xce\\xaaI-Q', 4), 'type': 'single', 'job_id': ObjectId('684fcb69c939b52e8b71ac97'), 'status': 'completed', 'start_time': datetime.datetime(2025, 6, 16, 7, 48, 1, 288000), 'end_time': datetime.datetime(2025, 6, 16, 7, 48, 25, 108000), 'batch_name': 'Wp-Careers'}\n",
      "\n",
      "{'_id': ObjectId('684fd7f4c939b52e8b71acc0'), 'uploaded_by': ObjectId('682475691b85c2b6f71a5ba8'), 'company_id': ObjectId('682475961b85c2b6f71a5baa'), 'batch_id': Binary(b'\\x82\\xfb\\xc2\\x92\\x9cG^\\x10\\x94\\xb1\\x91&\\xab{\\xb2\\x16', 4), 'batch_name': '5445', 'type': 'bulk', 'upload_count': 1, 'job_id': ObjectId('684c5ab0c939b52e8b71ac30'), 'status': 'completed', 'start_time': datetime.datetime(2025, 6, 16, 8, 38, 12, 259000), 'end_time': datetime.datetime(2025, 6, 16, 8, 39, 7, 767000)}\n",
      "\n",
      "{'_id': ObjectId('684fd9ecc939b52e8b71acc2'), 'uploaded_by': ObjectId('682475691b85c2b6f71a5ba8'), 'company_id': ObjectId('682475961b85c2b6f71a5baa'), 'batch_id': Binary(b'\\xf1Ut#\\x90\\xc2_R\\x81f\\xad\\x8a\\x87\\xea\\xb0l', 4), 'type': 'single', 'job_id': ObjectId('684c5ab0c939b52e8b71ac30'), 'status': 'completed', 'start_time': datetime.datetime(2025, 6, 16, 8, 46, 36, 777000), 'end_time': datetime.datetime(2025, 6, 16, 8, 47, 2, 403000), 'batch_name': 'Wp-Careers'}\n",
      "\n",
      "{'_id': ObjectId('684fe1e3c939b52e8b71acc4'), 'uploaded_by': ObjectId('684fe1e3c939b52e8b71acc3'), 'company_id': ObjectId('682475961b85c2b6f71a5baa'), 'batch_id': Binary(b'\\xd6\\x11VA\\x14\\x8a\\\\\\xc7\\xa9\\xa7\\xc0p\\x86\\xda.\\xa6', 4), 'type': 'single', 'job_id': ObjectId('684c5ab0c939b52e8b71ac30'), 'status': 'completed', 'start_time': datetime.datetime(2025, 6, 16, 9, 20, 35, 748000), 'end_time': datetime.datetime(2025, 6, 16, 9, 20, 58, 151000), 'batch_name': 'Wp-Careers'}\n",
      "\n",
      "{'_id': ObjectId('684fece6c939b52e8b71acc8'), 'uploaded_by': ObjectId('684bf129c939b52e8b71abd6'), 'company_id': ObjectId('681c861b1cf44d32fe03095e'), 'batch_id': Binary(b'\\xf79\\x06V\\xf4\\xa1W\\x13\\x9c}\\xec\\xfa*h\\xb3\\xa5', 4), 'batch_name': '200', 'type': 'bulk', 'upload_count': 1, 'job_id': ObjectId('6849372ceabd1dae68df08ad'), 'status': 'completed', 'start_time': datetime.datetime(2025, 6, 16, 10, 7, 34, 786000), 'end_time': datetime.datetime(2025, 6, 16, 10, 8, 8, 537000)}\n",
      "\n",
      "{'_id': ObjectId('684feddfc939b52e8b71accb'), 'uploaded_by': ObjectId('684bf09bc939b52e8b71abd4'), 'company_id': ObjectId('681c861b1cf44d32fe03095e'), 'batch_id': Binary(b'h\\xcd{<\\xa9\\x0bU\\xb3\\xaa\\xb9Y\\xb3\\x85\\xef\"1', 4), 'batch_name': '250', 'type': 'bulk', 'upload_count': 1, 'job_id': ObjectId('6849372ceabd1dae68df08ad'), 'status': 'completed', 'start_time': datetime.datetime(2025, 6, 16, 10, 11, 43, 399000), 'end_time': datetime.datetime(2025, 6, 16, 10, 12, 9, 733000)}\n",
      "\n",
      "{'_id': ObjectId('684fee1bc939b52e8b71acce'), 'uploaded_by': ObjectId('684bf09bc939b52e8b71abd4'), 'company_id': ObjectId('681c861b1cf44d32fe03095e'), 'batch_id': Binary(b'\\x13\\xe9\\xa9z\\xbb<Wp\\xa2\\x9f\\xee\\x8c\\xfc\\xefd\\xfd', 4), 'batch_name': '251', 'type': 'bulk', 'upload_count': 1, 'job_id': ObjectId('6849372ceabd1dae68df08ad'), 'status': 'completed', 'start_time': datetime.datetime(2025, 6, 16, 10, 12, 43, 242000), 'end_time': datetime.datetime(2025, 6, 16, 10, 12, 43, 397000)}\n",
      "\n",
      "{'_id': ObjectId('684fee2ec939b52e8b71acd1'), 'uploaded_by': ObjectId('684bf09bc939b52e8b71abd4'), 'company_id': ObjectId('681c861b1cf44d32fe03095e'), 'batch_id': Binary(b't\\x03\\xbb\\xb3_\\x15UH\\xbe\\x1a70\\xd6\\xd9\\xf4\\xeb', 4), 'batch_name': '252', 'type': 'bulk', 'upload_count': 1, 'job_id': ObjectId('6849372ceabd1dae68df08ad'), 'status': 'completed', 'start_time': datetime.datetime(2025, 6, 16, 10, 13, 2, 135000), 'end_time': datetime.datetime(2025, 6, 16, 10, 13, 29, 863000)}\n",
      "\n",
      "{'_id': ObjectId('684fee54c939b52e8b71acd4'), 'uploaded_by': ObjectId('684bf09bc939b52e8b71abd4'), 'company_id': ObjectId('681c861b1cf44d32fe03095e'), 'batch_id': Binary(b'a\\xf2\\xe9\\xf1\\x8d\\xe9TP\\x95\\xa2\\xad\\x02\\xb9u\\xea\\xcc', 4), 'batch_name': '253', 'type': 'bulk', 'upload_count': 1, 'job_id': ObjectId('6849372ceabd1dae68df08ad'), 'status': 'completed', 'start_time': datetime.datetime(2025, 6, 16, 10, 13, 40, 520000), 'end_time': datetime.datetime(2025, 6, 16, 10, 14, 3, 521000)}\n",
      "\n",
      "{'_id': ObjectId('684fee62c939b52e8b71acd5'), 'uploaded_by': ObjectId('684bf09bc939b52e8b71abd4'), 'company_id': ObjectId('681c861b1cf44d32fe03095e'), 'batch_id': Binary(b'\\t\\xafB\\x1e0\\x08TR\\x94\\x9d\\xa4\\x03\\x02\\xd1R\\x8b', 4), 'batch_name': '254', 'type': 'bulk', 'upload_count': 1, 'job_id': ObjectId('6849372ceabd1dae68df08ad'), 'status': 'completed', 'start_time': datetime.datetime(2025, 6, 16, 10, 13, 54, 744000), 'end_time': datetime.datetime(2025, 6, 16, 10, 14, 25, 110000)}\n",
      "\n",
      "{'_id': ObjectId('684fee73c939b52e8b71acd8'), 'uploaded_by': ObjectId('684bf09bc939b52e8b71abd4'), 'company_id': ObjectId('681c861b1cf44d32fe03095e'), 'batch_id': Binary(b'\\xa6\\xfbZ\\x83\\x8ebQ\\xc9\\x96\\xb8\\x9b\\x97\\x8c\\xdd\\xae\\xa8', 4), 'batch_name': '255', 'type': 'bulk', 'upload_count': 1, 'job_id': ObjectId('6849372ceabd1dae68df08ad'), 'status': 'completed', 'start_time': datetime.datetime(2025, 6, 16, 10, 14, 11, 577000), 'end_time': datetime.datetime(2025, 6, 16, 10, 14, 36, 588000)}\n",
      "\n",
      "{'_id': ObjectId('684fee82c939b52e8b71acda'), 'uploaded_by': ObjectId('684bf09bc939b52e8b71abd4'), 'company_id': ObjectId('681c861b1cf44d32fe03095e'), 'batch_id': Binary(b'\\x96\\xc3\\x8e?F\\x90Q\\xde\\xa91Y\\xab\\xdci\\xd4?', 4), 'batch_name': '256', 'type': 'bulk', 'upload_count': 1, 'job_id': ObjectId('6849372ceabd1dae68df08ad'), 'status': 'completed', 'start_time': datetime.datetime(2025, 6, 16, 10, 14, 26, 494000), 'end_time': datetime.datetime(2025, 6, 16, 10, 14, 58, 356000)}\n",
      "\n",
      "{'_id': ObjectId('684feed4c939b52e8b71ace0'), 'uploaded_by': ObjectId('684bf09bc939b52e8b71abd4'), 'company_id': ObjectId('681c861b1cf44d32fe03095e'), 'batch_id': Binary(b'r@\\xda^\\xaa\\x9d]\\xfb\\xb8i\\x9dhi\\xc6\\x8e\\xb9', 4), 'batch_name': '257', 'type': 'bulk', 'upload_count': 1, 'job_id': ObjectId('6849372ceabd1dae68df08ad'), 'status': 'completed', 'start_time': datetime.datetime(2025, 6, 16, 10, 15, 48, 628000), 'end_time': datetime.datetime(2025, 6, 16, 10, 16, 15, 984000)}\n",
      "\n",
      "{'_id': ObjectId('684fefd1c939b52e8b71ace3'), 'uploaded_by': ObjectId('684bf129c939b52e8b71abd6'), 'company_id': ObjectId('681c861b1cf44d32fe03095e'), 'batch_id': Binary(b\"k'Y p\\x80_\\xe2\\xa3e}\\xbc\\xba|v\\xa3\", 4), 'batch_name': '201', 'type': 'bulk', 'upload_count': 1, 'job_id': ObjectId('6849372ceabd1dae68df08ad'), 'status': 'completed', 'start_time': datetime.datetime(2025, 6, 16, 10, 20, 1, 158000), 'end_time': datetime.datetime(2025, 6, 16, 10, 20, 24, 361000)}\n",
      "\n",
      "{'_id': ObjectId('684ff36dc939b52e8b71ace6'), 'uploaded_by': ObjectId('684bf09bc939b52e8b71abd4'), 'company_id': ObjectId('681c861b1cf44d32fe03095e'), 'batch_id': Binary(b'\\x9e\\x04aD\\xb8\\xa9]K\\x91ru\\xff6\\xb9:\\xf7', 4), 'batch_name': '208', 'type': 'bulk', 'upload_count': 1, 'job_id': ObjectId('6849372ceabd1dae68df08ad'), 'status': 'completed', 'start_time': datetime.datetime(2025, 6, 16, 10, 35, 25, 297000), 'end_time': datetime.datetime(2025, 6, 16, 10, 35, 50, 967000)}\n",
      "\n",
      "{'_id': ObjectId('684ff3c5c939b52e8b71ace9'), 'uploaded_by': ObjectId('684bf09bc939b52e8b71abd4'), 'company_id': ObjectId('681c861b1cf44d32fe03095e'), 'batch_id': Binary(b'\\xcd;\\x8d\\xd5%bWT\\xbdJ\\x8f\\xc1\\xd1\\x0c\\xef\\xc6', 4), 'batch_name': '209', 'type': 'bulk', 'upload_count': 1, 'job_id': ObjectId('6849372ceabd1dae68df08ad'), 'status': 'completed', 'start_time': datetime.datetime(2025, 6, 16, 10, 36, 53, 884000), 'end_time': datetime.datetime(2025, 6, 16, 10, 37, 17, 457000)}\n",
      "\n",
      "{'_id': ObjectId('684ff3d8c939b52e8b71acea'), 'uploaded_by': ObjectId('684bf09bc939b52e8b71abd4'), 'company_id': ObjectId('681c861b1cf44d32fe03095e'), 'batch_id': Binary(b'G\\x80\\x8f\\xb4iV^7\\xb7\\xea\\xf2b\\x08\\x91v8', 4), 'batch_name': '210', 'type': 'bulk', 'upload_count': 1, 'job_id': ObjectId('6849372ceabd1dae68df08ad'), 'status': 'completed', 'start_time': datetime.datetime(2025, 6, 16, 10, 37, 12, 352000), 'end_time': datetime.datetime(2025, 6, 16, 10, 37, 30, 765000)}\n",
      "\n",
      "{'_id': ObjectId('684ff3e7c939b52e8b71aced'), 'uploaded_by': ObjectId('684bf09bc939b52e8b71abd4'), 'company_id': ObjectId('681c861b1cf44d32fe03095e'), 'batch_id': Binary(b'\\xf6\\x89\"|\\x97\\x02Q\\xd6\\xb0\\xbdh\\xd9q\\xad\\x96\\x13', 4), 'batch_name': '211', 'type': 'bulk', 'upload_count': 1, 'job_id': ObjectId('6849372ceabd1dae68df08ad'), 'status': 'completed', 'start_time': datetime.datetime(2025, 6, 16, 10, 37, 27, 162000), 'end_time': datetime.datetime(2025, 6, 16, 10, 37, 55, 123000)}\n",
      "\n",
      "{'_id': ObjectId('684ff3fdc939b52e8b71acf0'), 'uploaded_by': ObjectId('684bf09bc939b52e8b71abd4'), 'company_id': ObjectId('681c861b1cf44d32fe03095e'), 'batch_id': Binary(b'\\xa3\\x83H\\xd7\\x00lP\\xec\\xaf\\x1a\\xce[\\x02\\xa7\\xf3\\xeb', 4), 'batch_name': '212', 'type': 'bulk', 'upload_count': 1, 'job_id': ObjectId('6849372ceabd1dae68df08ad'), 'status': 'completed', 'start_time': datetime.datetime(2025, 6, 16, 10, 37, 49, 569000), 'end_time': datetime.datetime(2025, 6, 16, 10, 38, 13, 967000)}\n",
      "\n",
      "{'_id': ObjectId('68511e8dc939b52e8b71ad01'), 'uploaded_by': ObjectId('684bf129c939b52e8b71abd6'), 'company_id': ObjectId('681c861b1cf44d32fe03095e'), 'batch_id': Binary(b'(\\xd6\\x05x\\xc5GW\\t\\xa96Vh\\xae\\x83c\\xcd', 4), 'batch_name': '300', 'type': 'bulk', 'upload_count': 1, 'job_id': ObjectId('6849382ceabd1dae68df08af'), 'status': 'completed', 'start_time': datetime.datetime(2025, 6, 17, 7, 51, 41, 930000), 'end_time': datetime.datetime(2025, 6, 17, 7, 52, 17, 262000)}\n",
      "\n",
      "{'_id': ObjectId('68514643c939b52e8b71ad09'), 'uploaded_by': ObjectId('684bf129c939b52e8b71abd6'), 'company_id': ObjectId('681c861b1cf44d32fe03095e'), 'batch_id': Binary(b'B\\x1e\\xb7GNeS(\\x97\\xe7\\x18\\x9b\\x02\\xcc\\x81V', 4), 'batch_name': '301', 'type': 'bulk', 'upload_count': 1, 'job_id': ObjectId('6849372ceabd1dae68df08ad'), 'status': 'completed', 'start_time': datetime.datetime(2025, 6, 17, 10, 41, 7, 982000), 'end_time': datetime.datetime(2025, 6, 17, 10, 41, 38, 994000)}\n",
      "\n",
      "{'_id': ObjectId('68514672c939b52e8b71ad0c'), 'uploaded_by': ObjectId('684bf129c939b52e8b71abd6'), 'company_id': ObjectId('681c861b1cf44d32fe03095e'), 'batch_id': Binary(b'P+\\\\\\xcb\\xa0\\xccZX\\xb7\\xe6\\x95\\xf2\\xd9\\xd9\\x19\\x9e', 4), 'batch_name': '302', 'type': 'bulk', 'upload_count': 1, 'job_id': ObjectId('6849372ceabd1dae68df08ad'), 'status': 'completed', 'start_time': datetime.datetime(2025, 6, 17, 10, 41, 54, 597000), 'end_time': datetime.datetime(2025, 6, 17, 10, 42, 18, 179000)}\n",
      "\n",
      "{'_id': ObjectId('6851468ac939b52e8b71ad0e'), 'uploaded_by': ObjectId('684bf129c939b52e8b71abd6'), 'company_id': ObjectId('681c861b1cf44d32fe03095e'), 'batch_id': Binary(b'F\\x88I:\\xcd\\xbf_\\xd5\\x8c\\xa1Z\\x9e\\xcf\\xd4\\x05B', 4), 'batch_name': '303', 'type': 'bulk', 'upload_count': 1, 'job_id': ObjectId('6849372ceabd1dae68df08ad'), 'status': 'completed', 'start_time': datetime.datetime(2025, 6, 17, 10, 42, 18, 884000), 'end_time': datetime.datetime(2025, 6, 17, 10, 43, 19, 298000)}\n",
      "\n",
      "{'_id': ObjectId('68515c83c939b52e8b71ad13'), 'uploaded_by': ObjectId('68515c83c939b52e8b71ad12'), 'company_id': ObjectId('681c861b1cf44d32fe03095e'), 'batch_id': Binary(b'\\xd6nD\\x9b-\\r\\\\\\x15\\xb1a\\x05\\xdf\\xa2\\xa5\\xfc\\xab', 4), 'type': 'single', 'job_id': ObjectId('6849372ceabd1dae68df08ad'), 'status': 'completed', 'start_time': datetime.datetime(2025, 6, 17, 12, 16, 3, 498000), 'end_time': datetime.datetime(2025, 6, 17, 12, 16, 36, 174000), 'batch_name': 'Wp-Careers'}\n",
      "\n",
      "{'_id': ObjectId('68515db6c939b52e8b71ad1a'), 'uploaded_by': ObjectId('68515db6c939b52e8b71ad19'), 'company_id': ObjectId('681c861b1cf44d32fe03095e'), 'batch_id': Binary(b'd:\\x8aQ\\xfa\\xb6Z\\xd4\\x8f )yNAB\\xc0', 4), 'type': 'single', 'job_id': ObjectId('6849372ceabd1dae68df08ad'), 'status': 'processing', 'start_time': datetime.datetime(2025, 6, 17, 12, 21, 10, 499000), 'batch_name': 'Wp-Careers'}\n",
      "\n",
      "{'_id': ObjectId('68526aa2c939b52e8b71ad1e'), 'uploaded_by': ObjectId('684bf09bc939b52e8b71abd4'), 'company_id': ObjectId('681c861b1cf44d32fe03095e'), 'batch_id': Binary(b'\\xa2\\xdeop\\xde\\x82_\\xdb\\xb5AA\\x9d\\xd0\\x1d\\xf5e', 4), 'batch_name': '213', 'type': 'bulk', 'upload_count': 1, 'job_id': ObjectId('6849372ceabd1dae68df08ad'), 'status': 'completed', 'start_time': datetime.datetime(2025, 6, 18, 7, 28, 34, 104000), 'end_time': datetime.datetime(2025, 6, 18, 7, 29, 13, 698000)}\n",
      "\n",
      "{'_id': ObjectId('68526ec3c939b52e8b71ad21'), 'uploaded_by': ObjectId('684bf129c939b52e8b71abd6'), 'company_id': ObjectId('681c861b1cf44d32fe03095e'), 'batch_id': Binary(b'V5X\\x05@\\xe9Y\\xaf\\xba\\x90\\xa5\\x83;\\x15;\\x96', 4), 'batch_name': '304', 'type': 'bulk', 'upload_count': 1, 'job_id': ObjectId('6849372ceabd1dae68df08ad'), 'status': 'completed', 'start_time': datetime.datetime(2025, 6, 18, 7, 46, 11, 839000), 'end_time': datetime.datetime(2025, 6, 18, 7, 46, 42, 741000)}\n",
      "\n",
      "{'_id': ObjectId('68526fb9c939b52e8b71ad25'), 'uploaded_by': ObjectId('68526fb9c939b52e8b71ad24'), 'company_id': ObjectId('681c861b1cf44d32fe03095e'), 'batch_id': Binary(b'\\xed\\x1e\\xf7\\x8a\\xbd\\xdfQK\\xb3\\x10\\xf1n\\xc1\\xd2k\\xf5', 4), 'type': 'single', 'job_id': ObjectId('6849372ceabd1dae68df08ad'), 'status': 'completed', 'start_time': datetime.datetime(2025, 6, 18, 7, 50, 17, 959000), 'end_time': datetime.datetime(2025, 6, 18, 7, 51, 4, 838000), 'batch_name': 'Wp-Careers'}\n",
      "\n",
      "{'_id': ObjectId('6852770ac939b52e8b71ad2b'), 'uploaded_by': ObjectId('684bf09bc939b52e8b71abd4'), 'company_id': ObjectId('681c861b1cf44d32fe03095e'), 'batch_id': Binary(b'\\xbd|\\x08\\xbb\\xaf\\x7fR\\xf1\\xbb;M\\x17\\x9du\\xc0[', 4), 'batch_name': '214', 'type': 'bulk', 'upload_count': 1, 'job_id': ObjectId('6849372ceabd1dae68df08ad'), 'status': 'completed', 'start_time': datetime.datetime(2025, 6, 18, 8, 21, 30, 696000), 'end_time': datetime.datetime(2025, 6, 18, 8, 22, 10, 661000)}\n",
      "\n",
      "{'_id': ObjectId('685286ffc939b52e8b71ad2e'), 'uploaded_by': ObjectId('684bf129c939b52e8b71abd6'), 'company_id': ObjectId('681c861b1cf44d32fe03095e'), 'batch_id': Binary(b's}\\xc3\\x8e\\xa8HW\\x82\\xb2\\xa0\\xb3p\\xf6\\x16\\xfc\\xd7', 4), 'batch_name': '305', 'type': 'bulk', 'upload_count': 1, 'job_id': ObjectId('6849372ceabd1dae68df08ad'), 'status': 'completed', 'start_time': datetime.datetime(2025, 6, 18, 9, 29, 35, 367000), 'end_time': datetime.datetime(2025, 6, 18, 9, 30, 22, 557000)}\n",
      "\n",
      "{'_id': ObjectId('68528742c939b52e8b71ad31'), 'uploaded_by': ObjectId('684bf129c939b52e8b71abd6'), 'company_id': ObjectId('681c861b1cf44d32fe03095e'), 'batch_id': Binary(b'x\\xc5\\x05\\\\\\xc1\\x9f\\\\\\x1d\\x8f\\xdcA\\xda>\\x88\\xf3\\xe6', 4), 'batch_name': '306', 'type': 'bulk', 'upload_count': 1, 'job_id': ObjectId('6849372ceabd1dae68df08ad'), 'status': 'completed', 'start_time': datetime.datetime(2025, 6, 18, 9, 30, 42, 586000), 'end_time': datetime.datetime(2025, 6, 18, 9, 31, 27, 890000)}\n",
      "\n",
      "{'_id': ObjectId('6852894fc939b52e8b71ad35'), 'uploaded_by': ObjectId('6852894fc939b52e8b71ad34'), 'company_id': ObjectId('681c861b1cf44d32fe03095e'), 'batch_id': Binary(b'O\\r\\x0c\\xfa\\xf8iS\\xb1\\x98\\xb61&\\xeee\\x1f\\xbe', 4), 'type': 'single', 'job_id': ObjectId('684937abeabd1dae68df08ae'), 'status': 'completed', 'start_time': datetime.datetime(2025, 6, 18, 9, 39, 27, 18000), 'end_time': datetime.datetime(2025, 6, 18, 9, 40, 19, 960000), 'batch_name': 'Wp-Careers'}\n",
      "\n",
      "{'_id': ObjectId('685296b2c939b52e8b71ad3c'), 'uploaded_by': ObjectId('685296b2c939b52e8b71ad3b'), 'company_id': ObjectId('681c861b1cf44d32fe03095e'), 'batch_id': Binary(b'\\x04\\x1e\\x964\\xb2+R\\xfa\\x96\\x9d\\xbf$\\x7f0\\xff\\x02', 4), 'type': 'single', 'job_id': ObjectId('684937abeabd1dae68df08ae'), 'status': 'completed', 'start_time': datetime.datetime(2025, 6, 18, 10, 36, 34, 473000), 'end_time': datetime.datetime(2025, 6, 18, 10, 37, 4, 623000), 'batch_name': 'Wp-Careers'}\n",
      "\n",
      "{'_id': ObjectId('68529e0ac939b52e8b71ad42'), 'uploaded_by': ObjectId('684bf09bc939b52e8b71abd4'), 'company_id': ObjectId('681c861b1cf44d32fe03095e'), 'batch_id': Binary(b'\\x8d\\xad\\xb0\\x1e\\xc9\\xe6\\\\\\x93\\xab\\x8e\\x8a\\xf0\\x12\\xcc\\xff:', 4), 'batch_name': '215', 'type': 'bulk', 'upload_count': 1, 'job_id': ObjectId('6849372ceabd1dae68df08ad'), 'status': 'completed', 'start_time': datetime.datetime(2025, 6, 18, 11, 7, 54, 133000), 'end_time': datetime.datetime(2025, 6, 18, 11, 8, 20, 919000)}\n",
      "\n",
      "{'_id': ObjectId('6852a7e1c939b52e8b71ad51'), 'uploaded_by': ObjectId('6852a7e1c939b52e8b71ad50'), 'company_id': ObjectId('681c861b1cf44d32fe03095e'), 'batch_id': Binary(b'\\xde\\xe8?\\t\\x03\\xe7U\\x9c\\xac\\xcb\\xfb\\xb6\\x1b\\xeb\\xd7E', 4), 'type': 'single', 'job_id': ObjectId('6849372ceabd1dae68df08ad'), 'status': 'completed', 'start_time': datetime.datetime(2025, 6, 18, 11, 49, 53, 652000), 'end_time': datetime.datetime(2025, 6, 18, 11, 50, 43, 405000), 'batch_name': 'Wp-Careers'}\n",
      "\n",
      "{'_id': ObjectId('6852ac36c939b52e8b71ad61'), 'uploaded_by': ObjectId('6852ac36c939b52e8b71ad60'), 'company_id': ObjectId('681c861b1cf44d32fe03095e'), 'batch_id': Binary(b'\\xf5\\xa1\"\\x8f\\xe2p^\\xbc\\xa6D,(\\xd9\\xb0\\x8a}', 4), 'type': 'single', 'job_id': ObjectId('68493685eabd1dae68df08ac'), 'status': 'completed', 'start_time': datetime.datetime(2025, 6, 18, 12, 8, 22, 669000), 'end_time': datetime.datetime(2025, 6, 18, 12, 8, 55, 228000), 'batch_name': 'Wp-Careers'}\n",
      "\n",
      "{'_id': ObjectId('6852ac9ac939b52e8b71ad67'), 'uploaded_by': ObjectId('684bf129c939b52e8b71abd6'), 'company_id': ObjectId('681c861b1cf44d32fe03095e'), 'batch_id': Binary(b'\\xad\\xc5#\"\\xb0\\xde\\\\\\x9e\\x8c\\xe6Kj\\xc3\\xc0\\xd0\\t', 4), 'batch_name': '309', 'type': 'bulk', 'upload_count': 1, 'job_id': ObjectId('68493685eabd1dae68df08ac'), 'status': 'completed', 'start_time': datetime.datetime(2025, 6, 18, 12, 10, 2, 993000), 'end_time': datetime.datetime(2025, 6, 18, 12, 10, 3, 257000)}\n",
      "\n",
      "{'_id': ObjectId('6852ae56c939b52e8b71ad6b'), 'uploaded_by': ObjectId('6852ae56c939b52e8b71ad6a'), 'company_id': ObjectId('681c861b1cf44d32fe03095e'), 'batch_id': Binary(b'\\x9es\\x8do\\xf6\\xe7R_\\xaa\\x95\\x92.\\r\\x84\\x0c\\xec', 4), 'type': 'single', 'job_id': ObjectId('68493685eabd1dae68df08ac'), 'status': 'completed', 'start_time': datetime.datetime(2025, 6, 18, 12, 17, 26, 120000), 'end_time': datetime.datetime(2025, 6, 18, 12, 17, 57, 15000), 'batch_name': 'Wp-Careers'}\n",
      "\n",
      "{'_id': ObjectId('6852afafc939b52e8b71ad71'), 'uploaded_by': ObjectId('682475691b85c2b6f71a5ba8'), 'company_id': ObjectId('682475961b85c2b6f71a5baa'), 'batch_id': Binary(b'\\x86\\xebL\\x96\\x1d|T;\\xb5\\x05\\xfd\\xef\\x08\\xb9Ss', 4), 'type': 'single', 'job_id': ObjectId('6847fc7deabd1dae68df0879'), 'status': 'completed', 'start_time': datetime.datetime(2025, 6, 18, 12, 23, 11, 151000), 'end_time': datetime.datetime(2025, 6, 18, 12, 23, 37, 364000), 'batch_name': 'Wp-Careers'}\n",
      "\n",
      "{'_id': ObjectId('6852c294c939b52e8b71ad72'), 'uploaded_by': ObjectId('684bf09bc939b52e8b71abd4'), 'company_id': ObjectId('681c861b1cf44d32fe03095e'), 'batch_id': Binary(b'\\xeb\\xa1\\xa1\\x1b\\x1b`_1\\xacZ\\xf9\\xfez\\xff\\x95W', 4), 'batch_name': '216', 'type': 'bulk', 'upload_count': 1, 'job_id': ObjectId('6852a1a1c939b52e8b71ad44'), 'status': 'completed', 'start_time': datetime.datetime(2025, 6, 18, 13, 43, 48, 262000), 'end_time': datetime.datetime(2025, 6, 18, 13, 44, 12, 190000)}\n",
      "\n",
      "{'_id': ObjectId('6852c36ac939b52e8b71ad75'), 'uploaded_by': ObjectId('684bf09bc939b52e8b71abd4'), 'company_id': ObjectId('681c861b1cf44d32fe03095e'), 'batch_id': Binary(b'\\xb4\\xd4=sWyR\\xab\\x807g8y\\xa1<S', 4), 'batch_name': '2116', 'type': 'bulk', 'upload_count': 1, 'job_id': ObjectId('6849372ceabd1dae68df08ad'), 'status': 'completed', 'start_time': datetime.datetime(2025, 6, 18, 13, 47, 22, 852000), 'end_time': datetime.datetime(2025, 6, 18, 13, 47, 53, 621000)}\n",
      "\n",
      "{'_id': ObjectId('6852da07c939b52e8b71ad78'), 'uploaded_by': ObjectId('6852da07c939b52e8b71ad77'), 'company_id': ObjectId('681c861b1cf44d32fe03095e'), 'batch_id': Binary(b'X3S\\xd0\\x7f\\x15P\\x0f\\xbb\\x0b*\\xa2\\xfb2\\xd3b', 4), 'type': 'single', 'job_id': ObjectId('6849372ceabd1dae68df08ad'), 'status': 'completed', 'start_time': datetime.datetime(2025, 6, 18, 15, 23, 51, 630000), 'end_time': datetime.datetime(2025, 6, 18, 15, 24, 26, 176000), 'batch_name': 'Wp-Careers'}\n",
      "\n",
      "{'_id': ObjectId('6852dac9c939b52e8b71ad7d'), 'uploaded_by': ObjectId('6852dac9c939b52e8b71ad7c'), 'company_id': ObjectId('681c861b1cf44d32fe03095e'), 'batch_id': Binary(b'\\x0f\\xc6\\xc9\\xff\\xa5\\xcbQt\\x80\\xca\\x97\\x88@Gs\\xd0', 4), 'type': 'single', 'job_id': ObjectId('6849372ceabd1dae68df08ad'), 'status': 'completed', 'start_time': datetime.datetime(2025, 6, 18, 15, 27, 5, 470000), 'end_time': datetime.datetime(2025, 6, 18, 15, 27, 32, 507000), 'batch_name': 'Wp-Careers'}\n",
      "\n",
      "{'_id': ObjectId('6852dce6c939b52e8b71ad82'), 'uploaded_by': ObjectId('6852dce6c939b52e8b71ad81'), 'company_id': ObjectId('681c861b1cf44d32fe03095e'), 'batch_id': Binary(b'\\x05\\rY\\xce<\\xd5T\\x96\\x8d\\xdaF\\xba\\x10\\xfc\\x1c\\x9b', 4), 'type': 'single', 'job_id': ObjectId('6849372ceabd1dae68df08ad'), 'status': 'completed', 'start_time': datetime.datetime(2025, 6, 18, 15, 36, 6, 202000), 'end_time': datetime.datetime(2025, 6, 18, 15, 36, 35, 241000), 'batch_name': 'Wp-Careers'}\n",
      "\n",
      "{'_id': ObjectId('6852e5efc939b52e8b71ad87'), 'uploaded_by': ObjectId('6852e5efc939b52e8b71ad86'), 'company_id': ObjectId('681c861b1cf44d32fe03095e'), 'batch_id': Binary(b'\\xe3_T\\x1eK\\xaa^\\xdb\\xae\\x91\\xe5\\x11\\xa5\\x11\\xcbI', 4), 'type': 'single', 'job_id': ObjectId('6849372ceabd1dae68df08ad'), 'status': 'completed', 'start_time': datetime.datetime(2025, 6, 18, 16, 14, 39, 435000), 'end_time': datetime.datetime(2025, 6, 18, 16, 15, 14, 24000), 'batch_name': 'Wp-Careers'}\n",
      "\n",
      "{'_id': ObjectId('68530747c939b52e8b71ad8f'), 'uploaded_by': ObjectId('68530747c939b52e8b71ad8e'), 'company_id': ObjectId('681c861b1cf44d32fe03095e'), 'batch_id': Binary(b't\\t\\xc2\\nL\\x12^<\\x9a\\xe0\\x07\\xcc\\xe5\\xf0\\x05\\xae', 4), 'type': 'single', 'job_id': ObjectId('6849372ceabd1dae68df08ad'), 'status': 'completed', 'start_time': datetime.datetime(2025, 6, 18, 18, 36, 55, 507000), 'end_time': datetime.datetime(2025, 6, 18, 18, 37, 30, 585000), 'batch_name': 'Wp-Careers'}\n",
      "\n",
      "{'_id': ObjectId('68538299c939b52e8b71ad94'), 'uploaded_by': ObjectId('68538299c939b52e8b71ad93'), 'company_id': ObjectId('681c861b1cf44d32fe03095e'), 'batch_id': Binary(b'\\x81|\\xab\\xdb8\\xdfT\\x9f\\xbb]\\xe3~I\\x95\\xc9\\xc7', 4), 'type': 'single', 'job_id': ObjectId('6849372ceabd1dae68df08ad'), 'status': 'completed', 'start_time': datetime.datetime(2025, 6, 19, 3, 23, 5, 827000), 'end_time': datetime.datetime(2025, 6, 19, 3, 23, 36, 701000), 'batch_name': 'Wp-Careers'}\n",
      "\n",
      "{'_id': ObjectId('6853a905c939b52e8b71ad98'), 'uploaded_by': ObjectId('684bf129c939b52e8b71abd6'), 'company_id': ObjectId('681c861b1cf44d32fe03095e'), 'batch_id': Binary(b'W\\x80m\\x03\\xed\\x90Z:\\x9e\\x91SK.?\\xad\\xe8', 4), 'batch_name': '3010', 'type': 'bulk', 'upload_count': 1, 'job_id': ObjectId('68493685eabd1dae68df08ac'), 'status': 'completed', 'start_time': datetime.datetime(2025, 6, 19, 6, 7, 1, 746000), 'end_time': datetime.datetime(2025, 6, 19, 6, 7, 28, 723000)}\n",
      "\n",
      "{'_id': ObjectId('6853c02ec939b52e8b71ad9b'), 'uploaded_by': ObjectId('684bf129c939b52e8b71abd6'), 'company_id': ObjectId('681c861b1cf44d32fe03095e'), 'batch_id': Binary(b'2l\\x89\\xa3k\\xc8V\\x80\\x86\\xe1\\xd4\\xaf\\x1d\\xdd\\x1e{', 4), 'batch_name': '879', 'type': 'bulk', 'upload_count': 1, 'job_id': ObjectId('6849372ceabd1dae68df08ad'), 'status': 'completed', 'start_time': datetime.datetime(2025, 6, 19, 7, 45, 50, 89000), 'end_time': datetime.datetime(2025, 6, 19, 7, 46, 32, 101000)}\n",
      "\n",
      "{'_id': ObjectId('6853c531c939b52e8b71ad9e'), 'uploaded_by': ObjectId('6853c531c939b52e8b71ad9d'), 'company_id': ObjectId('681c861b1cf44d32fe03095e'), 'batch_id': Binary(b'\\x9b7gGi\\xf3X\\xb5\\x9d<YG\\x12HM\\x06', 4), 'type': 'single', 'job_id': ObjectId('6849372ceabd1dae68df08ad'), 'status': 'completed', 'start_time': datetime.datetime(2025, 6, 19, 8, 7, 13, 900000), 'end_time': datetime.datetime(2025, 6, 19, 8, 7, 48, 960000), 'batch_name': 'Wp-Careers'}\n",
      "\n",
      "{'_id': ObjectId('6853d811c939b52e8b71ada4'), 'uploaded_by': ObjectId('682475691b85c2b6f71a5ba8'), 'company_id': ObjectId('682475961b85c2b6f71a5baa'), 'batch_id': Binary(b'\\xef\\x9f\\xa5\\xb4\\xe4\\xdeVd\\x92\\xd3q\\x8b\\xe41\\xfee', 4), 'type': 'single', 'job_id': ObjectId('6847fc7deabd1dae68df0879'), 'status': 'completed', 'start_time': datetime.datetime(2025, 6, 19, 9, 27, 45, 771000), 'end_time': datetime.datetime(2025, 6, 19, 9, 28, 4, 344000), 'batch_name': 'Wp-Careers'}\n",
      "\n",
      "{'_id': ObjectId('6853dcb5c939b52e8b71ada5'), 'uploaded_by': ObjectId('684bf129c939b52e8b71abd6'), 'company_id': ObjectId('681c861b1cf44d32fe03095e'), 'batch_id': Binary(b'\\xbb\\x9dV-\\xae\\xe2U\\x96\\xb8\\xc4*\\x85G\\x9f\\xf8\\xcf', 4), 'batch_name': '8547', 'type': 'bulk', 'upload_count': 1, 'job_id': ObjectId('6849372ceabd1dae68df08ad'), 'status': 'completed', 'start_time': datetime.datetime(2025, 6, 19, 9, 47, 33, 820000), 'end_time': datetime.datetime(2025, 6, 19, 9, 48, 16, 42000)}\n",
      "\n",
      "{'_id': ObjectId('6853eceec939b52e8b71ada8'), 'uploaded_by': ObjectId('6853eceec939b52e8b71ada7'), 'company_id': ObjectId('681c861b1cf44d32fe03095e'), 'batch_id': Binary(b'K\\xbd6\\xfb\\x9f\\x14V\\x15\\xab6|Z\\xf8\\xf8\\x15\\xda', 4), 'type': 'single', 'job_id': ObjectId('6849372ceabd1dae68df08ad'), 'status': 'completed', 'start_time': datetime.datetime(2025, 6, 19, 10, 56, 46, 969000), 'end_time': datetime.datetime(2025, 6, 19, 10, 57, 13, 728000), 'batch_name': 'Wp-Careers'}\n",
      "\n",
      "{'_id': ObjectId('68540237c939b52e8b71adad'), 'uploaded_by': ObjectId('6851373ec939b52e8b71ad04'), 'company_id': ObjectId('68513789c939b52e8b71ad05'), 'batch_id': Binary(b'\\x88\\xecl\\x07\\xef\\xbbR{\\x8f\\x97}\\xf9\\x8eq\\x1b\\x15', 4), 'batch_name': 'python 01', 'type': 'bulk', 'upload_count': 1, 'job_id': ObjectId('68540204c939b52e8b71adac'), 'status': 'completed', 'start_time': datetime.datetime(2025, 6, 19, 12, 27, 35, 243000), 'end_time': datetime.datetime(2025, 6, 19, 12, 27, 58, 422000)}\n",
      "\n",
      "{'_id': ObjectId('685403dac939b52e8b71adb0'), 'uploaded_by': ObjectId('684bf09bc939b52e8b71abd4'), 'company_id': ObjectId('681c861b1cf44d32fe03095e'), 'batch_id': Binary(b'\\xd8\\xdd[\\xec\\xae\\x98P\\x80\\x94\\xd58R\\xb1>\\xb7l', 4), 'batch_name': '217', 'type': 'bulk', 'upload_count': 1, 'job_id': ObjectId('68493685eabd1dae68df08ac'), 'status': 'completed', 'start_time': datetime.datetime(2025, 6, 19, 12, 34, 34, 510000), 'end_time': datetime.datetime(2025, 6, 19, 12, 34, 56, 992000)}\n",
      "\n",
      "{'_id': ObjectId('685425d7c939b52e8b71adb4'), 'uploaded_by': ObjectId('685425d7c939b52e8b71adb3'), 'company_id': ObjectId('681c861b1cf44d32fe03095e'), 'batch_id': Binary(b'\\x02\\xe4\\xadvA$R\\x14\\x9f\\x8f\\x00x\\xba\\xaf\\xc5i', 4), 'type': 'single', 'job_id': ObjectId('6849372ceabd1dae68df08ad'), 'status': 'completed', 'start_time': datetime.datetime(2025, 6, 19, 14, 59, 35, 961000), 'end_time': datetime.datetime(2025, 6, 19, 15, 0, 3, 505000), 'batch_name': 'Wp-Careers'}\n",
      "\n",
      "{'_id': ObjectId('685429bbc939b52e8b71adb9'), 'uploaded_by': ObjectId('685429bbc939b52e8b71adb8'), 'company_id': ObjectId('681c861b1cf44d32fe03095e'), 'batch_id': Binary(b'_u\\xa4N\\xa6WU\\xf0\\x96\\xbex28.\\xdb\\t', 4), 'type': 'single', 'job_id': ObjectId('6849372ceabd1dae68df08ad'), 'status': 'completed', 'start_time': datetime.datetime(2025, 6, 19, 15, 16, 11, 134000), 'end_time': datetime.datetime(2025, 6, 19, 15, 16, 35, 832000), 'batch_name': 'Wp-Careers'}\n",
      "\n",
      "{'_id': ObjectId('6854321dc939b52e8b71adbe'), 'uploaded_by': ObjectId('6854321dc939b52e8b71adbd'), 'company_id': ObjectId('681c861b1cf44d32fe03095e'), 'batch_id': Binary(b'\\xda\\x1aL:\\xb7]RI\\xb5\\x0e\\xfa\\x9e0p2\\xbe', 4), 'type': 'single', 'job_id': ObjectId('6848584deabd1dae68df0894'), 'status': 'completed', 'start_time': datetime.datetime(2025, 6, 19, 15, 51, 57, 615000), 'end_time': datetime.datetime(2025, 6, 19, 15, 52, 27, 475000), 'batch_name': 'Wp-Careers'}\n",
      "\n",
      "{'_id': ObjectId('68543224c939b52e8b71adc0'), 'uploaded_by': ObjectId('68543224c939b52e8b71adbf'), 'company_id': ObjectId('681c861b1cf44d32fe03095e'), 'batch_id': Binary(b'Dm\\x801p\\x1cR\\xae\\x91\\xe4\\xcd\\xc4\\xf9\\x8cG\\xe4', 4), 'type': 'single', 'job_id': ObjectId('684937abeabd1dae68df08ae'), 'status': 'completed', 'start_time': datetime.datetime(2025, 6, 19, 15, 52, 4, 375000), 'end_time': datetime.datetime(2025, 6, 19, 15, 52, 28, 504000), 'batch_name': 'Wp-Careers'}\n",
      "\n",
      "{'_id': ObjectId('6854f950c939b52e8b71adcb'), 'uploaded_by': ObjectId('684bf129c939b52e8b71abd6'), 'company_id': ObjectId('681c861b1cf44d32fe03095e'), 'batch_id': Binary(b'\\x8b\\x0ft\\xc3\\x8bzS\\x10\\xb8\\xdc,\\xa2\\x96\\x96\\x84B', 4), 'batch_name': '343', 'type': 'bulk', 'upload_count': 1, 'job_id': ObjectId('6848584deabd1dae68df0894'), 'status': 'completed', 'start_time': datetime.datetime(2025, 6, 20, 6, 1, 52, 847000), 'end_time': datetime.datetime(2025, 6, 20, 6, 2, 32, 324000)}\n",
      "\n",
      "{'_id': ObjectId('68550149c939b52e8b71adce'), 'uploaded_by': ObjectId('684bf09bc939b52e8b71abd4'), 'company_id': ObjectId('681c861b1cf44d32fe03095e'), 'batch_id': Binary(b'\\xa6\\xcbZ\\x03\\xf9?[\\xca\\xb5K\\x17U.\\xc4QF', 4), 'batch_name': '218', 'type': 'bulk', 'upload_count': 1, 'job_id': ObjectId('6849372ceabd1dae68df08ad'), 'status': 'completed', 'start_time': datetime.datetime(2025, 6, 20, 6, 35, 53, 733000), 'end_time': datetime.datetime(2025, 6, 20, 6, 36, 28, 399000)}\n",
      "\n",
      "{'_id': ObjectId('685507a6c939b52e8b71add0'), 'uploaded_by': ObjectId('684bf129c939b52e8b71abd6'), 'company_id': ObjectId('681c861b1cf44d32fe03095e'), 'batch_id': Binary(b'\\xa8\\xf0\\\\4\\xc8s\\\\H\\xaby>q\\xa2\\x0b\\xd8\\xbe', 4), 'batch_name': '455', 'type': 'bulk', 'upload_count': 1, 'job_id': ObjectId('684937abeabd1dae68df08ae'), 'status': 'completed', 'start_time': datetime.datetime(2025, 6, 20, 7, 3, 2, 478000), 'end_time': datetime.datetime(2025, 6, 20, 7, 3, 31, 567000)}\n",
      "\n",
      "{'_id': ObjectId('6855257fc939b52e8b71add3'), 'uploaded_by': ObjectId('684bf129c939b52e8b71abd6'), 'company_id': ObjectId('681c861b1cf44d32fe03095e'), 'batch_id': Binary(b'\\t8\\x00\\xea\\xa9zP\\xea\\x9a.R\\xe6\\xe2\\xa9\\xbf\\xb4', 4), 'batch_name': '4642', 'type': 'bulk', 'upload_count': 1, 'job_id': ObjectId('684937abeabd1dae68df08ae'), 'status': 'completed', 'start_time': datetime.datetime(2025, 6, 20, 9, 10, 23, 557000), 'end_time': datetime.datetime(2025, 6, 20, 9, 10, 55, 546000)}\n",
      "\n",
      "{'_id': ObjectId('68552f35c939b52e8b71add7'), 'uploaded_by': ObjectId('684bf129c939b52e8b71abd6'), 'company_id': ObjectId('681c861b1cf44d32fe03095e'), 'batch_id': Binary(b'\\xb1\\xb5\\x11T\\x8a\\x06\\\\H\\x85\\x80\\xf5e\\x8fbG\\x06', 4), 'batch_name': '767575', 'type': 'bulk', 'upload_count': 1, 'job_id': ObjectId('684937abeabd1dae68df08ae'), 'status': 'completed', 'start_time': datetime.datetime(2025, 6, 20, 9, 51, 49, 17000), 'end_time': datetime.datetime(2025, 6, 20, 9, 52, 15, 333000)}\n",
      "\n",
      "{'_id': ObjectId('68553795c939b52e8b71ae11'), 'uploaded_by': ObjectId('684bf09bc939b52e8b71abd4'), 'company_id': ObjectId('681c861b1cf44d32fe03095e'), 'batch_id': Binary(b'\\xed\\xdb\\xb3\\xdc\\x97\\x82P\\x89\\xb6\\x9f\\xbf\\xeb\\x9f\\xb43\\x8e', 4), 'batch_name': 'Python-2', 'type': 'bulk', 'upload_count': 1, 'job_id': ObjectId('685534e2c939b52e8b71adf8'), 'status': 'completed', 'start_time': datetime.datetime(2025, 6, 20, 10, 27, 33, 126000), 'end_time': datetime.datetime(2025, 6, 20, 10, 27, 55, 118000)}\n",
      "\n",
      "{'_id': ObjectId('685540f0c939b52e8b71ae13'), 'uploaded_by': ObjectId('682475691b85c2b6f71a5ba8'), 'company_id': ObjectId('682475961b85c2b6f71a5baa'), 'batch_id': Binary(b'\\xf3\\xe4]\\xee[\\xeeW\\xa6\\x94\\xe1\\x85\\xd2\\x08\\xdb\\x07\\\\', 4), 'type': 'single', 'job_id': ObjectId('6847fdaeeabd1dae68df087d'), 'status': 'completed', 'start_time': datetime.datetime(2025, 6, 20, 11, 7, 28, 931000), 'end_time': datetime.datetime(2025, 6, 20, 11, 7, 49, 514000), 'batch_name': 'Wp-Careers'}\n",
      "\n",
      "{'_id': ObjectId('6855433cc939b52e8b71ae16'), 'uploaded_by': ObjectId('6855433cc939b52e8b71ae15'), 'company_id': ObjectId('681c861b1cf44d32fe03095e'), 'batch_id': Binary(b\"oR?'\\xd8\\xb1Z<\\xbeYb\\xd8mM\\xf4\\xa8\", 4), 'type': 'single', 'job_id': ObjectId('684937abeabd1dae68df08ae'), 'status': 'completed', 'start_time': datetime.datetime(2025, 6, 20, 11, 17, 16, 193000), 'end_time': datetime.datetime(2025, 6, 20, 11, 17, 45, 919000), 'batch_name': 'Wp-Careers'}\n",
      "\n",
      "{'_id': ObjectId('685543a0c939b52e8b71ae1c'), 'uploaded_by': ObjectId('682475691b85c2b6f71a5ba8'), 'company_id': ObjectId('682475961b85c2b6f71a5baa'), 'batch_id': Binary(b'\\xea\\xe8Rq\\x18\\xbfT\\xd7\\x99@5x%\\xe2ER', 4), 'type': 'single', 'job_id': ObjectId('6847fdaeeabd1dae68df087d'), 'status': 'completed', 'start_time': datetime.datetime(2025, 6, 20, 11, 18, 56, 86000), 'end_time': datetime.datetime(2025, 6, 20, 11, 19, 23, 500000), 'batch_name': 'Wp-Careers'}\n",
      "\n",
      "{'_id': ObjectId('68556754c939b52e8b71ae1e'), 'uploaded_by': ObjectId('684bf09bc939b52e8b71abd4'), 'company_id': ObjectId('681c861b1cf44d32fe03095e'), 'batch_id': Binary(b'\\x1a6u\\xbe\\xcf\\xa8]/\\xa7\\\\7\\xd5%z\\xf5\\xe9', 4), 'batch_name': 'Anwesha Mitra-Python', 'type': 'bulk', 'upload_count': 1, 'job_id': ObjectId('6848584deabd1dae68df0894'), 'status': 'completed', 'start_time': datetime.datetime(2025, 6, 20, 13, 51, 16, 869000), 'end_time': datetime.datetime(2025, 6, 20, 13, 51, 59, 731000)}\n",
      "\n",
      "{'_id': ObjectId('68569718c939b52e8b71ae22'), 'uploaded_by': ObjectId('68569718c939b52e8b71ae21'), 'company_id': ObjectId('681c861b1cf44d32fe03095e'), 'batch_id': Binary(b';\\xc0\\xdf\\xcd\\x8bbPq\\x97\\x88D\\x17m\\x0b\\xd6\\xff', 4), 'type': 'single', 'job_id': ObjectId('684937abeabd1dae68df08ae'), 'status': 'completed', 'start_time': datetime.datetime(2025, 6, 21, 11, 27, 20, 323000), 'end_time': datetime.datetime(2025, 6, 21, 11, 27, 38, 956000), 'batch_name': 'Wp-Careers'}\n",
      "\n",
      "{'_id': ObjectId('685900c0c939b52e8b71ae29'), 'uploaded_by': ObjectId('685900c0c939b52e8b71ae28'), 'company_id': ObjectId('681c861b1cf44d32fe03095e'), 'batch_id': Binary(b'\\x8d\\x8d\\xc0S\\xcb\\xc3P\\xfa\\x92\\xf3f\\xba\\xcf\\xd2\\xe8\\x1f', 4), 'type': 'single', 'job_id': ObjectId('685534e2c939b52e8b71adf8'), 'status': 'completed', 'start_time': datetime.datetime(2025, 6, 23, 7, 22, 40, 708000), 'end_time': datetime.datetime(2025, 6, 23, 7, 23, 11, 238000), 'batch_name': 'Wp-Careers'}\n",
      "\n",
      "{'_id': ObjectId('68595ecdc939b52e8b71ae48'), 'uploaded_by': ObjectId('68595ecdc939b52e8b71ae47'), 'company_id': ObjectId('681c861b1cf44d32fe03095e'), 'batch_id': Binary(b'&\\xa0\\xe4:!O_\\x17\\x99\\xed\\xba\\x12\\xef\\xb6\\xf1\\x93', 4), 'type': 'single', 'job_id': ObjectId('6849372ceabd1dae68df08ad'), 'status': 'completed', 'start_time': datetime.datetime(2025, 6, 23, 14, 3, 57, 32000), 'end_time': datetime.datetime(2025, 6, 23, 14, 4, 22, 561000)}\n",
      "\n",
      "{'_id': ObjectId('6859616bc939b52e8b71ae4f'), 'uploaded_by': ObjectId('6859616bc939b52e8b71ae4e'), 'company_id': ObjectId('681c861b1cf44d32fe03095e'), 'batch_id': Binary(b'[\\xc0:\\x96\\x7f\\x83T\\x7f\\x96\\x18\\xdbt,\\x84\\x19&', 4), 'type': 'single', 'job_id': ObjectId('684937abeabd1dae68df08ae'), 'status': 'completed', 'start_time': datetime.datetime(2025, 6, 23, 14, 15, 7, 723000), 'end_time': datetime.datetime(2025, 6, 23, 14, 15, 42, 19000)}\n",
      "\n",
      "{'_id': ObjectId('685968cd60fe5f3c713fad95'), 'uploaded_by': ObjectId('684bf09bc939b52e8b71abd4'), 'company_id': ObjectId('681c861b1cf44d32fe03095e'), 'batch_id': Binary(b'\\x11\\x87\\x0e+g\\xad\\\\N\\x97x\\x19W\\x06\\xb6L\\xde', 4), 'batch_name': '219', 'type': 'bulk', 'upload_count': 1, 'job_id': ObjectId('6849372ceabd1dae68df08ad'), 'status': 'completed', 'start_time': datetime.datetime(2025, 6, 23, 14, 46, 37, 720000), 'end_time': datetime.datetime(2025, 6, 23, 14, 47, 3, 738000)}\n",
      "\n",
      "{'_id': ObjectId('68598a8860fe5f3c713fad99'), 'uploaded_by': ObjectId('68598a8860fe5f3c713fad98'), 'company_id': ObjectId('681c861b1cf44d32fe03095e'), 'batch_id': Binary(b'\\xae\\xe7:\\x02\\x8dRV\\x9f\\x85_f\\xac\\xc8G\\xc9e', 4), 'type': 'single', 'job_id': ObjectId('684937abeabd1dae68df08ae'), 'status': 'completed', 'start_time': datetime.datetime(2025, 6, 23, 17, 10, 32, 691000), 'end_time': datetime.datetime(2025, 6, 23, 17, 11, 7, 990000)}\n",
      "\n",
      "{'_id': ObjectId('6859936a60fe5f3c713fada0'), 'uploaded_by': ObjectId('6859936a60fe5f3c713fad9f'), 'company_id': ObjectId('681c861b1cf44d32fe03095e'), 'batch_id': Binary(b'\\xf7\\xd25\\x08\\xd4\\x19Y@\\x9dg\\xd2\\x86\\xbd\\x15Mf', 4), 'type': 'single', 'job_id': ObjectId('684937abeabd1dae68df08ae'), 'status': 'completed', 'start_time': datetime.datetime(2025, 6, 23, 17, 48, 26, 896000), 'end_time': datetime.datetime(2025, 6, 23, 17, 48, 53, 212000)}\n",
      "\n",
      "{'_id': ObjectId('6859973460fe5f3c713fada7'), 'uploaded_by': ObjectId('6859973460fe5f3c713fada6'), 'company_id': ObjectId('681c861b1cf44d32fe03095e'), 'batch_id': Binary(b'\"\\xe1#\\xc1\\xb7SZ\\xba\\x92Q\\xb5\\xad\\xe3\\x16\\xea\\x98', 4), 'type': 'single', 'job_id': ObjectId('684937abeabd1dae68df08ae'), 'status': 'completed', 'start_time': datetime.datetime(2025, 6, 23, 18, 4, 36, 778000), 'end_time': datetime.datetime(2025, 6, 23, 18, 5, 0, 500000)}\n",
      "\n",
      "{'_id': ObjectId('685a409f60fe5f3c713fadad'), 'uploaded_by': ObjectId('682475691b85c2b6f71a5ba8'), 'company_id': ObjectId('682475961b85c2b6f71a5baa'), 'batch_id': Binary(b'\\x0e^\\x94;!^X\\xfd\\xb3\\xf2\\n\\xc3v$\\xdd\\xc7', 4), 'type': 'single', 'job_id': ObjectId('6847fc7deabd1dae68df0879'), 'status': 'completed', 'start_time': datetime.datetime(2025, 6, 24, 6, 7, 27, 592000), 'end_time': datetime.datetime(2025, 6, 24, 6, 7, 45, 569000)}\n",
      "\n",
      "{'_id': ObjectId('685a433960fe5f3c713fadae'), 'uploaded_by': ObjectId('682475691b85c2b6f71a5ba8'), 'company_id': ObjectId('682475961b85c2b6f71a5baa'), 'batch_id': Binary(b'4\\x9f\\xb7~t~V<\\x93\\x87\\xc5\\xe7Rfu;', 4), 'type': 'single', 'job_id': ObjectId('6847fdaeeabd1dae68df087d'), 'status': 'completed', 'start_time': datetime.datetime(2025, 6, 24, 6, 18, 33, 842000), 'end_time': datetime.datetime(2025, 6, 24, 6, 18, 55, 404000)}\n",
      "\n",
      "{'_id': ObjectId('685a45fe60fe5f3c713fadaf'), 'uploaded_by': ObjectId('682475691b85c2b6f71a5ba8'), 'company_id': ObjectId('682475961b85c2b6f71a5baa'), 'batch_id': Binary(b'Mv\\x12\\xcd\\xd5QX@\\x9e\\x01\\x1f,\\x8f\\xed>\\x8e', 4), 'type': 'single', 'job_id': ObjectId('6847fdaeeabd1dae68df087d'), 'status': 'completed', 'start_time': datetime.datetime(2025, 6, 24, 6, 30, 22, 645000), 'end_time': datetime.datetime(2025, 6, 24, 6, 30, 42, 36000)}\n",
      "\n",
      "{'_id': ObjectId('685a473c60fe5f3c713fadb0'), 'uploaded_by': ObjectId('682475691b85c2b6f71a5ba8'), 'company_id': ObjectId('682475961b85c2b6f71a5baa'), 'batch_id': Binary(b\"\\xf4\\xe2b\\\\\\xf3\\xf7]`\\xbe\\xe8\\xc6\\x17;'\\x87\\xe2\", 4), 'type': 'single', 'job_id': ObjectId('6847fdaeeabd1dae68df087d'), 'status': 'completed', 'start_time': datetime.datetime(2025, 6, 24, 6, 35, 40, 258000), 'end_time': datetime.datetime(2025, 6, 24, 6, 35, 58, 859000)}\n",
      "\n",
      "{'_id': ObjectId('685a49ee60fe5f3c713fadb1'), 'uploaded_by': ObjectId('682475691b85c2b6f71a5ba8'), 'company_id': ObjectId('682475961b85c2b6f71a5baa'), 'batch_id': Binary(b'\\xcb\\x19\\x03h\\xab>SI\\x8e\\xc3\\xfe\\xef\\xe5\\xd1>H', 4), 'type': 'single', 'job_id': ObjectId('6847fc7deabd1dae68df0879'), 'status': 'completed', 'start_time': datetime.datetime(2025, 6, 24, 6, 47, 10, 243000), 'end_time': datetime.datetime(2025, 6, 24, 6, 47, 26, 865000)}\n",
      "\n",
      "{'_id': ObjectId('685a4b0760fe5f3c713fadb2'), 'uploaded_by': ObjectId('682475691b85c2b6f71a5ba8'), 'company_id': ObjectId('682475961b85c2b6f71a5baa'), 'batch_id': Binary(b'K#`\\xd7\\x97c]\\x0e\\x83\\x1b\\xffi41G\\xe5', 4), 'type': 'single', 'job_id': ObjectId('6847fdaeeabd1dae68df087d'), 'status': 'completed', 'start_time': datetime.datetime(2025, 6, 24, 6, 51, 51, 450000), 'end_time': datetime.datetime(2025, 6, 24, 6, 52, 10, 539000)}\n",
      "\n",
      "{'_id': ObjectId('685a4d3a60fe5f3c713fadb3'), 'uploaded_by': ObjectId('682475691b85c2b6f71a5ba8'), 'company_id': ObjectId('682475961b85c2b6f71a5baa'), 'batch_id': Binary(b'\\x1bH\\x1d\\x9a7\\xfc]D\\xbd}\\x8a\\x82<\\x02\\x8d\\xd0', 4), 'type': 'single', 'job_id': ObjectId('6847fdaeeabd1dae68df087d'), 'status': 'completed', 'start_time': datetime.datetime(2025, 6, 24, 7, 1, 14, 69000), 'end_time': datetime.datetime(2025, 6, 24, 7, 1, 34, 335000)}\n",
      "\n",
      "{'_id': ObjectId('685a4e1960fe5f3c713fadb4'), 'uploaded_by': ObjectId('682475691b85c2b6f71a5ba8'), 'company_id': ObjectId('682475961b85c2b6f71a5baa'), 'batch_id': Binary(b'\\xadd\\xd4Z>]Q%\\x95\\x0cH\\xdb\\xcb+\\x9bp', 4), 'type': 'single', 'job_id': ObjectId('6847fdaeeabd1dae68df087d'), 'status': 'completed', 'start_time': datetime.datetime(2025, 6, 24, 7, 4, 57, 403000), 'end_time': datetime.datetime(2025, 6, 24, 7, 5, 21, 207000)}\n",
      "\n",
      "{'_id': ObjectId('685a753860fe5f3c713fadb5'), 'uploaded_by': ObjectId('684bf09bc939b52e8b71abd4'), 'company_id': ObjectId('681c861b1cf44d32fe03095e'), 'batch_id': Binary(b'\\xe1}\\x07\\xbd\\x82*W\\xf9\\xad)tj\\xd8\\x03\\x9d\\xe4', 4), 'batch_name': 'Ankana-220', 'type': 'bulk', 'upload_count': 1, 'job_id': ObjectId('6848584deabd1dae68df0894'), 'status': 'completed', 'start_time': datetime.datetime(2025, 6, 24, 9, 51, 52, 134000), 'end_time': datetime.datetime(2025, 6, 24, 9, 52, 15, 752000)}\n",
      "\n",
      "{'_id': ObjectId('685a8b9360fe5f3c713fadb9'), 'uploaded_by': ObjectId('685a8b9360fe5f3c713fadb8'), 'company_id': ObjectId('681c861b1cf44d32fe03095e'), 'batch_id': Binary(b'c\\x97\\x89JM\\xebZ\\xfc\\x89\\xab\\x84\\xb6\\xede\\x94\\xc5', 4), 'type': 'single', 'job_id': ObjectId('685921ddc939b52e8b71ae2d'), 'status': 'completed', 'start_time': datetime.datetime(2025, 6, 24, 11, 27, 15, 423000), 'end_time': datetime.datetime(2025, 6, 24, 11, 27, 40, 200000)}\n",
      "\n",
      "{'_id': ObjectId('685a948160fe5f3c713fadc0'), 'uploaded_by': ObjectId('685a948160fe5f3c713fadbf'), 'company_id': ObjectId('681c861b1cf44d32fe03095e'), 'batch_id': Binary(b'\\xb9}|\\x07\\xa3>\\\\3\\xa3d\\x88Q\\xfd\\x9eTx', 4), 'type': 'single', 'job_id': ObjectId('685921ddc939b52e8b71ae2d'), 'status': 'completed', 'start_time': datetime.datetime(2025, 6, 24, 12, 5, 21, 371000), 'end_time': datetime.datetime(2025, 6, 24, 12, 6, 9, 927000)}\n",
      "\n",
      "{'_id': ObjectId('685a9f544b21f9b04f264a84'), 'uploaded_by': ObjectId('685a9f544b21f9b04f264a83'), 'company_id': ObjectId('681c861b1cf44d32fe03095e'), 'batch_id': Binary(b'\\xb0\\xddk\\xf1\\x96\\xe2Q\\xc6\\xbf\\xce:__i\\xa5\\xad', 4), 'type': 'single', 'job_id': ObjectId('685921ddc939b52e8b71ae2d'), 'status': 'completed', 'start_time': datetime.datetime(2025, 6, 24, 12, 51, 32, 921000), 'end_time': datetime.datetime(2025, 6, 24, 12, 52, 21, 759000)}\n",
      "\n",
      "{'_id': ObjectId('685aabcd4b21f9b04f264a98'), 'uploaded_by': ObjectId('684bf129c939b52e8b71abd6'), 'company_id': ObjectId('681c861b1cf44d32fe03095e'), 'batch_id': Binary(b'V\\x0c \\xab\\xa8\\xf1Rq\\x98\\xb9\\xab&\\x10\\x0f\\x8cQ', 4), 'batch_name': '4624', 'type': 'bulk', 'upload_count': 1, 'job_id': ObjectId('684937abeabd1dae68df08ae'), 'status': 'completed', 'start_time': datetime.datetime(2025, 6, 24, 13, 44, 45, 421000), 'end_time': datetime.datetime(2025, 6, 24, 13, 45, 6, 70000)}\n",
      "\n",
      "{'_id': ObjectId('685aad284b21f9b04f264aa1'), 'uploaded_by': ObjectId('684bf129c939b52e8b71abd6'), 'company_id': ObjectId('681c861b1cf44d32fe03095e'), 'batch_id': Binary(b'\\xf7\\x120H\\x80S^\\xbc\\xa3\\xd4O\\x8av\\x0e\\x85G', 4), 'batch_name': '224424', 'type': 'bulk', 'upload_count': 1, 'job_id': ObjectId('684937abeabd1dae68df08ae'), 'status': 'completed', 'start_time': datetime.datetime(2025, 6, 24, 13, 50, 32, 275000), 'end_time': datetime.datetime(2025, 6, 24, 13, 51, 1, 692000)}\n",
      "\n",
      "{'_id': ObjectId('685aad364b21f9b04f264aa2'), 'uploaded_by': ObjectId('682475691b85c2b6f71a5ba8'), 'company_id': ObjectId('682475961b85c2b6f71a5baa'), 'batch_id': Binary(b'OF2SR\\xf7ZE\\xa8\\xfd\\xf5\\xf3\\xe5\\x10\\xd1x', 4), 'batch_name': 'ffd', 'type': 'bulk', 'upload_count': 1, 'job_id': ObjectId('683d9c31b72469b8444e42da'), 'status': 'completed', 'start_time': datetime.datetime(2025, 6, 24, 13, 50, 46, 681000), 'end_time': datetime.datetime(2025, 6, 24, 13, 51, 11, 392000)}\n",
      "\n",
      "{'_id': ObjectId('685aad8f4b21f9b04f264aa7'), 'uploaded_by': ObjectId('682475691b85c2b6f71a5ba8'), 'company_id': ObjectId('682475961b85c2b6f71a5baa'), 'batch_id': Binary(b'A\\xb1\\x89b`dQ\\xa2\\xa6S\\x1a\\xa7:\\xbd\\x8d%', 4), 'batch_name': 'hgfg', 'type': 'bulk', 'upload_count': 1, 'job_id': ObjectId('684c5ab0c939b52e8b71ac30'), 'status': 'completed', 'start_time': datetime.datetime(2025, 6, 24, 13, 52, 15, 390000), 'end_time': datetime.datetime(2025, 6, 24, 13, 52, 41, 231000)}\n",
      "\n",
      "{'_id': ObjectId('685ab5a14b21f9b04f264ab2'), 'uploaded_by': ObjectId('682475691b85c2b6f71a5ba8'), 'company_id': ObjectId('682475961b85c2b6f71a5baa'), 'batch_id': Binary(b'\\xcc\\xcc\\x87\\x9d\\x98\\xdf]L\\xb7\\x13\\x06\\xa8\\xd9\\x06\\xb7R', 4), 'type': 'single', 'job_id': ObjectId('6847fdaeeabd1dae68df087d'), 'status': 'completed', 'start_time': datetime.datetime(2025, 6, 24, 14, 26, 41, 341000), 'end_time': datetime.datetime(2025, 6, 24, 14, 27, 4, 293000)}\n",
      "\n",
      "{'_id': ObjectId('685abb114b21f9b04f264ab7'), 'uploaded_by': ObjectId('685abb114b21f9b04f264ab6'), 'company_id': ObjectId('681c861b1cf44d32fe03095e'), 'batch_id': Binary(b'\\x1f\"1{\\x00\\xc6Y]\\xa7\\xe6m_\\xd9G\\x14\\xf4', 4), 'type': 'single', 'job_id': ObjectId('685921ddc939b52e8b71ae2d'), 'status': 'completed', 'start_time': datetime.datetime(2025, 6, 24, 14, 49, 53, 700000), 'end_time': datetime.datetime(2025, 6, 24, 14, 50, 15, 83000)}\n",
      "\n",
      "{'_id': ObjectId('685ac8194b21f9b04f264abe'), 'uploaded_by': ObjectId('685ac8194b21f9b04f264abd'), 'company_id': ObjectId('681c861b1cf44d32fe03095e'), 'batch_id': Binary(b'\\xe0`(\\xe6\\xbb\\xb9Z7\\xad\\xc49J\\xd96\\x88\\xe1', 4), 'type': 'single', 'job_id': ObjectId('6849372ceabd1dae68df08ad'), 'status': 'completed', 'start_time': datetime.datetime(2025, 6, 24, 15, 45, 29, 65000), 'end_time': datetime.datetime(2025, 6, 24, 15, 45, 47, 393000)}\n",
      "\n",
      "{'_id': ObjectId('685adcc54b21f9b04f264ac5'), 'uploaded_by': ObjectId('685adcc54b21f9b04f264ac4'), 'company_id': ObjectId('681c861b1cf44d32fe03095e'), 'batch_id': Binary(b'T\\x96\\xb9\\x81\\x8eiR.\\x95s\\xf5\\xe9\\xef\\xfc0(', 4), 'type': 'single', 'job_id': ObjectId('684937abeabd1dae68df08ae'), 'status': 'completed', 'start_time': datetime.datetime(2025, 6, 24, 17, 13, 41, 546000), 'end_time': datetime.datetime(2025, 6, 24, 17, 14, 8, 234000)}\n",
      "\n",
      "{'_id': ObjectId('685ae0804b21f9b04f264acc'), 'uploaded_by': ObjectId('685ae0804b21f9b04f264acb'), 'company_id': ObjectId('681c861b1cf44d32fe03095e'), 'batch_id': Binary(b'\\x9dx\\xb8G$oQ\\xfa\\xb6Z\\xcf\\x11@\\xa5\\xc4%', 4), 'type': 'single', 'job_id': ObjectId('685921ddc939b52e8b71ae2d'), 'status': 'completed', 'start_time': datetime.datetime(2025, 6, 24, 17, 29, 36, 569000), 'end_time': datetime.datetime(2025, 6, 24, 17, 30, 9, 361000)}\n",
      "\n",
      "{'_id': ObjectId('685af5464b21f9b04f264ad3'), 'uploaded_by': ObjectId('685af5464b21f9b04f264ad2'), 'company_id': ObjectId('681c861b1cf44d32fe03095e'), 'batch_id': Binary(b'e\\xf7\\xe4\\x81\\xc2\\xd3\\\\\\xc8\\xab/\\x1d\\xb9U#\\t+', 4), 'type': 'single', 'job_id': ObjectId('685921ddc939b52e8b71ae2d'), 'status': 'completed', 'start_time': datetime.datetime(2025, 6, 24, 18, 58, 14, 827000), 'end_time': datetime.datetime(2025, 6, 24, 18, 58, 41, 459000)}\n",
      "\n",
      "{'_id': ObjectId('685b1bec4b21f9b04f264ada'), 'uploaded_by': ObjectId('685b1bec4b21f9b04f264ad9'), 'company_id': ObjectId('681c861b1cf44d32fe03095e'), 'batch_id': Binary(b'xc\\xf0d\\x95\\x15T\\xa4\\xbd?N)\\xe7Nc\\xd7', 4), 'type': 'single', 'job_id': ObjectId('685921ddc939b52e8b71ae2d'), 'status': 'completed', 'start_time': datetime.datetime(2025, 6, 24, 21, 43, 8, 789000), 'end_time': datetime.datetime(2025, 6, 24, 21, 43, 35, 63000)}\n",
      "\n",
      "{'_id': ObjectId('685b8c3d4b21f9b04f264ae1'), 'uploaded_by': ObjectId('685b8c3d4b21f9b04f264ae0'), 'company_id': ObjectId('681c861b1cf44d32fe03095e'), 'batch_id': Binary(b'\\xd6>[\\xbf\\xd8fUF\\x94\\xc4\\xc2\\x12\\x16m\\xb0\\xb3', 4), 'type': 'single', 'job_id': ObjectId('685921ddc939b52e8b71ae2d'), 'status': 'completed', 'start_time': datetime.datetime(2025, 6, 25, 5, 42, 21, 464000), 'end_time': datetime.datetime(2025, 6, 25, 5, 42, 47, 947000)}\n",
      "\n",
      "{'_id': ObjectId('685b975f4b21f9b04f264ae8'), 'uploaded_by': ObjectId('685b975f4b21f9b04f264ae7'), 'company_id': ObjectId('681c861b1cf44d32fe03095e'), 'batch_id': Binary(b'e\\n\\x9d}&\\xf5U.\\xa8z\\xf5\\x92%\\xef\\x1b\\x05', 4), 'type': 'single', 'job_id': ObjectId('685921ddc939b52e8b71ae2d'), 'status': 'completed', 'start_time': datetime.datetime(2025, 6, 25, 6, 29, 51, 733000), 'end_time': datetime.datetime(2025, 6, 25, 6, 30, 15, 986000)}\n",
      "\n",
      "{'_id': ObjectId('685b9abf4b21f9b04f264aee'), 'uploaded_by': ObjectId('684bf129c939b52e8b71abd6'), 'company_id': ObjectId('681c861b1cf44d32fe03095e'), 'batch_id': Binary(b'\\xd8\\xb36$\\x83^PC\\x86/\\xe7TlRV\\x14', 4), 'batch_name': '4242', 'type': 'bulk', 'upload_count': 1, 'job_id': ObjectId('6848584deabd1dae68df0894'), 'status': 'completed', 'start_time': datetime.datetime(2025, 6, 25, 6, 44, 15, 876000), 'end_time': datetime.datetime(2025, 6, 25, 6, 44, 48, 817000)}\n",
      "\n",
      "{'_id': ObjectId('685b9cac4b21f9b04f264af2'), 'uploaded_by': ObjectId('685b9cac4b21f9b04f264af1'), 'company_id': ObjectId('681c861b1cf44d32fe03095e'), 'batch_id': Binary(b'\\xe9`A%f\\xc6^\\xd5\\xa3$+]\\xcd\\xb9/\\xe7', 4), 'type': 'single', 'job_id': ObjectId('685921ddc939b52e8b71ae2d'), 'status': 'completed', 'start_time': datetime.datetime(2025, 6, 25, 6, 52, 28, 433000), 'end_time': datetime.datetime(2025, 6, 25, 6, 52, 52, 486000)}\n",
      "\n",
      "{'_id': ObjectId('685bbd8a4b21f9b04f264b09'), 'uploaded_by': ObjectId('685bbb3e4b21f9b04f264af9'), 'company_id': ObjectId('685bbb7f4b21f9b04f264afa'), 'batch_id': Binary(b'\\x0fa\\xca#\\xcfdU\\xc0\\xa3^\\x8c(\\xdf\\x03\\x17\\x16', 4), 'batch_name': 'Candidate_01', 'type': 'bulk', 'upload_count': 1, 'job_id': ObjectId('685bbcda4b21f9b04f264afe'), 'status': 'completed', 'start_time': datetime.datetime(2025, 6, 25, 9, 12, 42, 723000), 'end_time': datetime.datetime(2025, 6, 25, 9, 13, 5, 497000)}\n",
      "\n",
      "{'_id': ObjectId('685bc9684b21f9b04f264b12'), 'uploaded_by': ObjectId('685bc9684b21f9b04f264b11'), 'company_id': ObjectId('682475961b85c2b6f71a5baa'), 'batch_id': Binary(b'\\x7f\\xddVJ\\xa8 U\\x95\\xb1\\xac\\x1e\\xecKr\\xfdh', 4), 'type': 'single', 'job_id': ObjectId('6847fdaeeabd1dae68df087d'), 'status': 'completed', 'start_time': datetime.datetime(2025, 6, 25, 10, 3, 20, 333000), 'end_time': datetime.datetime(2025, 6, 25, 10, 3, 43, 375000)}\n",
      "\n",
      "{'_id': ObjectId('685be63d4b21f9b04f264b30'), 'uploaded_by': ObjectId('684bf09bc939b52e8b71abd4'), 'company_id': ObjectId('681c861b1cf44d32fe03095e'), 'batch_id': Binary(b'\\x84=l\\xf5\\xf7\\x1aXS\\xa8|\\xb0_V\\xc8\\xff2', 4), 'batch_name': 'Manash-Node JS', 'type': 'bulk', 'upload_count': 1, 'job_id': ObjectId('6849372ceabd1dae68df08ad'), 'status': 'completed', 'start_time': datetime.datetime(2025, 6, 25, 12, 6, 21, 876000), 'end_time': datetime.datetime(2025, 6, 25, 12, 6, 50, 75000)}\n",
      "\n",
      "{'_id': ObjectId('685be6e04b21f9b04f264b34'), 'uploaded_by': ObjectId('685be6e04b21f9b04f264b33'), 'company_id': ObjectId('681c861b1cf44d32fe03095e'), 'batch_id': Binary(b'\\xd4&\\x95k&\\xefZU\\x807\\xa7#]I*\\xea', 4), 'type': 'single', 'job_id': ObjectId('685921ddc939b52e8b71ae2d'), 'status': 'completed', 'start_time': datetime.datetime(2025, 6, 25, 12, 9, 4, 948000), 'end_time': datetime.datetime(2025, 6, 25, 12, 9, 43, 228000)}\n",
      "\n",
      "{'_id': ObjectId('685be9aa4b21f9b04f264b51'), 'uploaded_by': ObjectId('685aac4d4b21f9b04f264a9b'), 'company_id': ObjectId('685aac944b21f9b04f264a9c'), 'batch_id': Binary(b'\\xf6<O3t\\xbe_8\\x9em\\x87&\\xac$\\x81\\xd5', 4), 'batch_name': 'nodeJs_001', 'type': 'bulk', 'upload_count': 1, 'job_id': ObjectId('685aace34b21f9b04f264aa0'), 'status': 'completed', 'start_time': datetime.datetime(2025, 6, 25, 12, 20, 58, 904000), 'end_time': datetime.datetime(2025, 6, 25, 12, 21, 14, 774000)}\n",
      "\n",
      "{'_id': ObjectId('685beabb4b21f9b04f264b54'), 'uploaded_by': ObjectId('685aac4d4b21f9b04f264a9b'), 'company_id': ObjectId('685aac944b21f9b04f264a9c'), 'batch_id': Binary(b'\\xca\\xc9\\xb8\\xb4\\xc8\\xddU\\x16\\x92\\xd4\\xbf\\xff&\\xf1\\x13\\x0b', 4), 'type': 'single', 'job_id': ObjectId('685aace34b21f9b04f264aa0'), 'status': 'completed', 'start_time': datetime.datetime(2025, 6, 25, 12, 25, 31, 445000), 'end_time': datetime.datetime(2025, 6, 25, 12, 25, 53, 906000)}\n",
      "\n",
      "{'_id': ObjectId('685c07f24b21f9b04f264b6e'), 'uploaded_by': ObjectId('685c07f24b21f9b04f264b6d'), 'company_id': ObjectId('681c861b1cf44d32fe03095e'), 'batch_id': Binary(b'u\\xf7\\xe9\\xe7\\xf9\\x94\\\\\\xee\\xa5\\r\\xc5x\\xb7\\x11\\xdd\\xe3', 4), 'type': 'single', 'job_id': ObjectId('684937abeabd1dae68df08ae'), 'status': 'completed', 'start_time': datetime.datetime(2025, 6, 25, 14, 30, 10, 866000), 'end_time': datetime.datetime(2025, 6, 25, 14, 30, 41, 293000)}\n",
      "\n",
      "{'_id': ObjectId('685c0a004b21f9b04f264b75'), 'uploaded_by': ObjectId('685c0a004b21f9b04f264b74'), 'company_id': ObjectId('681c861b1cf44d32fe03095e'), 'batch_id': Binary(b'\\xa4\\x9f1\\xaf\\xc6\\xd1\\\\\\xcc\\x8a\\xc1\\xda,\\xb7m\\x0c0', 4), 'type': 'single', 'job_id': ObjectId('684937abeabd1dae68df08ae'), 'status': 'completed', 'start_time': datetime.datetime(2025, 6, 25, 14, 38, 56, 824000), 'end_time': datetime.datetime(2025, 6, 25, 14, 39, 34, 842000)}\n",
      "\n",
      "{'_id': ObjectId('685c0f074b21f9b04f264b7c'), 'uploaded_by': ObjectId('685c0f074b21f9b04f264b7b'), 'company_id': ObjectId('681c861b1cf44d32fe03095e'), 'batch_id': Binary(b'\\xb27\\xfc\\xadV;_{\\xa4\\xad\\x98\\x87\\xe4\\xb3L\\x95', 4), 'type': 'single', 'job_id': ObjectId('684937abeabd1dae68df08ae'), 'status': 'completed', 'start_time': datetime.datetime(2025, 6, 25, 15, 0, 23, 905000), 'end_time': datetime.datetime(2025, 6, 25, 15, 0, 53, 536000)}\n",
      "\n",
      "{'_id': ObjectId('685c71d94b21f9b04f264b83'), 'uploaded_by': ObjectId('685c71d94b21f9b04f264b82'), 'company_id': ObjectId('681c861b1cf44d32fe03095e'), 'batch_id': Binary(b'M\\x94\\x97\\xdd\\x1etR\\xe7\\xbc[v\\xdb\\xf1tt\\xbf', 4), 'type': 'single', 'job_id': ObjectId('685921ddc939b52e8b71ae2d'), 'status': 'completed', 'start_time': datetime.datetime(2025, 6, 25, 22, 2, 1, 171000), 'end_time': datetime.datetime(2025, 6, 25, 22, 2, 30, 541000)}\n",
      "\n",
      "{'_id': ObjectId('685d11da4b21f9b04f264b96'), 'uploaded_by': ObjectId('684bf09bc939b52e8b71abd4'), 'company_id': ObjectId('681c861b1cf44d32fe03095e'), 'batch_id': Binary(b'B\\x1f\\xad{\\xc6\\xa7[g\\xa0\\x88\\xea\\xaf\\\\,W\\x1a', 4), 'batch_name': 'Deep-node js', 'type': 'bulk', 'upload_count': 1, 'job_id': ObjectId('6849372ceabd1dae68df08ad'), 'status': 'completed', 'start_time': datetime.datetime(2025, 6, 26, 9, 24, 42, 706000), 'end_time': datetime.datetime(2025, 6, 26, 9, 25, 2, 220000)}\n",
      "\n",
      "{'_id': ObjectId('685d31114b21f9b04f264bba'), 'uploaded_by': ObjectId('685d31114b21f9b04f264bb9'), 'company_id': ObjectId('681c861b1cf44d32fe03095e'), 'batch_id': Binary(b'\\x1dW\\xf6-\\xe1q\\\\\\xcd\\x90\\xd0\\x84\\x84B\\xb9\\xecJ', 4), 'type': 'single', 'job_id': ObjectId('684937abeabd1dae68df08ae'), 'status': 'completed', 'start_time': datetime.datetime(2025, 6, 26, 11, 37, 53, 69000), 'end_time': datetime.datetime(2025, 6, 26, 11, 38, 25, 855000)}\n",
      "\n",
      "{'_id': ObjectId('685d45994b21f9b04f264bf2'), 'uploaded_by': ObjectId('685d45994b21f9b04f264bf1'), 'company_id': ObjectId('681c861b1cf44d32fe03095e'), 'batch_id': Binary(b'V\\x93\\x97\\xce\\x14!S\\x1a\\xa1~\\xb4\\xfb\\x17\\xb7\\xf3\\x06', 4), 'type': 'single', 'job_id': ObjectId('685921ddc939b52e8b71ae2d'), 'status': 'completed', 'start_time': datetime.datetime(2025, 6, 26, 13, 5, 29, 216000), 'end_time': datetime.datetime(2025, 6, 26, 13, 5, 56, 562000)}\n",
      "\n",
      "{'_id': ObjectId('685d6f364b21f9b04f264c04'), 'uploaded_by': ObjectId('685d6f364b21f9b04f264c03'), 'company_id': ObjectId('681c861b1cf44d32fe03095e'), 'batch_id': Binary(b'|^IU\\xfb\\xa2\\\\\\xee\\xad ;\\x86\\xdf\\xf6\\xacH', 4), 'type': 'single', 'job_id': ObjectId('684937abeabd1dae68df08ae'), 'status': 'completed', 'start_time': datetime.datetime(2025, 6, 26, 16, 3, 2, 930000), 'end_time': datetime.datetime(2025, 6, 26, 16, 3, 33, 552000)}\n",
      "\n",
      "{'_id': ObjectId('685d7ae64b21f9b04f264c0b'), 'uploaded_by': ObjectId('685d7ae64b21f9b04f264c0a'), 'company_id': ObjectId('681c861b1cf44d32fe03095e'), 'batch_id': Binary(b'\\x8e\\xbf\\x91\\xd7\\x8e\\xccW\\xb8\\xa7\\xf8\\xe18\\xfe\\xec^\\x7f', 4), 'type': 'single', 'job_id': ObjectId('685921ddc939b52e8b71ae2d'), 'status': 'completed', 'start_time': datetime.datetime(2025, 6, 26, 16, 52, 54, 487000), 'end_time': datetime.datetime(2025, 6, 26, 16, 53, 33, 201000)}\n",
      "\n",
      "{'_id': ObjectId('685dd79a4b21f9b04f264c12'), 'uploaded_by': ObjectId('685dd79a4b21f9b04f264c11'), 'company_id': ObjectId('681c861b1cf44d32fe03095e'), 'batch_id': Binary(b'bZa\\xe9\\xc1\\xe3\\\\s\\xa6\\x1ep\\xf6\\xc1\\x1a\\x0c\\xf9', 4), 'type': 'single', 'job_id': ObjectId('685921ddc939b52e8b71ae2d'), 'status': 'completed', 'start_time': datetime.datetime(2025, 6, 26, 23, 28, 26, 715000), 'end_time': datetime.datetime(2025, 6, 26, 23, 28, 50, 446000)}\n",
      "\n"
     ]
    }
   ],
   "source": [
    "collection = db['batches']\n",
    "results = collection.find()\n",
    "for doc in results:\n",
    "    print(doc, end='\\n\\n')\n"
   ]
  },
  {
   "cell_type": "markdown",
   "id": "b2d55184",
   "metadata": {},
   "source": [
    "#### View the very first document of the collection"
   ]
  },
  {
   "cell_type": "code",
   "execution_count": 6,
   "id": "a9a3d949",
   "metadata": {},
   "outputs": [
    {
     "name": "stdout",
     "output_type": "stream",
     "text": [
      "{'_id': ObjectId('6822eb6f6342bdaa117239be'), 'uploaded_by': ObjectId('6822e2f56342bdaa117239b8'), 'company_id': ObjectId('6822e3346342bdaa117239ba'), 'batch_id': Binary(b'm\\x18]v\\xf2>Rv\\x867C\\x03\\xf9I\\xb7\\xa8', 4), 'batch_name': 'Batch - SIS 1', 'upload_count': 10, 'job_id': ObjectId('6822eaf56342bdaa117239bd'), 'status': 'completed', 'start_time': datetime.datetime(2025, 5, 13, 6, 49, 19, 226000), 'end_time': datetime.datetime(2025, 5, 13, 6, 52, 0, 161000)}\n"
     ]
    }
   ],
   "source": [
    "collection = db['batches']\n",
    "result = collection.find_one()\n",
    "print(result)\n"
   ]
  },
  {
   "cell_type": "code",
   "execution_count": 7,
   "id": "cda4e0ac",
   "metadata": {},
   "outputs": [
    {
     "name": "stdout",
     "output_type": "stream",
     "text": [
      "{\n",
      "    \"_id\": {\n",
      "        \"$oid\": \"6822eb6f6342bdaa117239be\"\n",
      "    },\n",
      "    \"uploaded_by\": {\n",
      "        \"$oid\": \"6822e2f56342bdaa117239b8\"\n",
      "    },\n",
      "    \"company_id\": {\n",
      "        \"$oid\": \"6822e3346342bdaa117239ba\"\n",
      "    },\n",
      "    \"batch_id\": {\n",
      "        \"$binary\": {\n",
      "            \"base64\": \"bRhddvI+UnaGN0MD+Um3qA==\",\n",
      "            \"subType\": \"04\"\n",
      "        }\n",
      "    },\n",
      "    \"batch_name\": \"Batch - SIS 1\",\n",
      "    \"upload_count\": 10,\n",
      "    \"job_id\": {\n",
      "        \"$oid\": \"6822eaf56342bdaa117239bd\"\n",
      "    },\n",
      "    \"status\": \"completed\",\n",
      "    \"start_time\": {\n",
      "        \"$date\": \"2025-05-13T06:49:19.226Z\"\n",
      "    },\n",
      "    \"end_time\": {\n",
      "        \"$date\": \"2025-05-13T06:52:00.161Z\"\n",
      "    }\n",
      "}\n"
     ]
    }
   ],
   "source": [
    "collection = db['batches']\n",
    "result = collection.find_one()\n",
    "print(json.dumps(result, indent=4, default=json_util.default))\n"
   ]
  },
  {
   "cell_type": "code",
   "execution_count": null,
   "id": "9e768285",
   "metadata": {},
   "outputs": [],
   "source": []
  },
  {
   "cell_type": "markdown",
   "id": "ecac1ce7",
   "metadata": {},
   "source": [
    "#### Finding out the number of documents present in the collection "
   ]
  },
  {
   "cell_type": "code",
   "execution_count": 8,
   "id": "f751ae90",
   "metadata": {},
   "outputs": [],
   "source": [
    "# print(\"shape: \", df.shape)\n"
   ]
  },
  {
   "cell_type": "code",
   "execution_count": 9,
   "id": "810d8e3b",
   "metadata": {},
   "outputs": [
    {
     "name": "stdout",
     "output_type": "stream",
     "text": [
      "shape: 196\n"
     ]
    }
   ],
   "source": [
    "num_rows = collection.count_documents({})\n",
    "print(\"shape:\", num_rows )\n"
   ]
  },
  {
   "cell_type": "code",
   "execution_count": null,
   "id": "23801acd",
   "metadata": {},
   "outputs": [],
   "source": []
  },
  {
   "cell_type": "markdown",
   "id": "eb0e1546",
   "metadata": {},
   "source": [
    "#### Finding out the unique fields present in this collection"
   ]
  },
  {
   "cell_type": "code",
   "execution_count": 10,
   "id": "2a33ac31",
   "metadata": {},
   "outputs": [],
   "source": [
    "# print(\"columns: \", df.columns)\n"
   ]
  },
  {
   "cell_type": "code",
   "execution_count": 11,
   "id": "b9bdddf2",
   "metadata": {},
   "outputs": [
    {
     "name": "stdout",
     "output_type": "stream",
     "text": [
      "Columns: ['batch_id', 'company_id', 'end_time', 'upload_count', 'start_time', 'status', 'uploaded_by', '_id', 'job_id', 'type', 'batch_name']\n"
     ]
    }
   ],
   "source": [
    "all_fields = set()\n",
    "for field in collection.find():\n",
    "    all_fields.update(field.keys())\n",
    "    \n",
    "print(\"Columns:\", list(all_fields))\n"
   ]
  },
  {
   "cell_type": "code",
   "execution_count": null,
   "id": "0f9de8a0",
   "metadata": {},
   "outputs": [],
   "source": []
  },
  {
   "cell_type": "markdown",
   "id": "94d80af5",
   "metadata": {},
   "source": [
    "#### Finding out a info about the each field present in the collection\n"
   ]
  },
  {
   "cell_type": "code",
   "execution_count": 12,
   "id": "afe1c72f",
   "metadata": {},
   "outputs": [
    {
     "name": "stdout",
     "output_type": "stream",
     "text": [
      "Field                     Non-Null Count  Data Types\n",
      "------------------------------------------------------------\n",
      "_id                       196             ObjectId\n",
      "uploaded_by               196             ObjectId\n",
      "company_id                196             ObjectId\n",
      "batch_id                  196             Binary\n",
      "batch_name                158             str\n",
      "upload_count              117             int\n",
      "job_id                    196             ObjectId\n",
      "status                    196             str\n",
      "start_time                196             datetime\n",
      "end_time                  190             datetime\n",
      "type                      159             str\n",
      "\n",
      "Total Documents: 196\n"
     ]
    }
   ],
   "source": [
    "from collections import defaultdict\n",
    "import pprint\n",
    "\n",
    "\n",
    "field_info = defaultdict(lambda: {\"count\": 0, \"types\": set()})\n",
    "total_docs = 0\n",
    "\n",
    "# Iterate over all documents in the collection\n",
    "for doc in collection.find({}):\n",
    "    total_docs += 1\n",
    "    for field, value in doc.items():\n",
    "        field_info[field][\"count\"] += 1\n",
    "        field_info[field][\"types\"].add(type(value).__name__)\n",
    "\n",
    "# Display like df.info()\n",
    "print(f\"{'Field':<25} {'Non-Null Count':<15} {'Data Types'}\")\n",
    "print(\"-\" * 60)\n",
    "for field, info in field_info.items():\n",
    "    print(f\"{field:<25} {info['count']:<15} {', '.join(sorted(info['types']))}\")\n",
    "\n",
    "print(f\"\\nTotal Documents: {total_docs}\")\n"
   ]
  },
  {
   "cell_type": "markdown",
   "id": "6c449f0c",
   "metadata": {},
   "source": [
    "#### Find value counts for upload_count"
   ]
  },
  {
   "cell_type": "code",
   "execution_count": 13,
   "id": "f753f8b2",
   "metadata": {},
   "outputs": [],
   "source": [
    "# df['upload_count'].value_counts()\n"
   ]
  },
  {
   "cell_type": "code",
   "execution_count": 14,
   "id": "d518ed8c",
   "metadata": {},
   "outputs": [
    {
     "name": "stdout",
     "output_type": "stream",
     "text": [
      "1: 107\n",
      "None: 79\n",
      "180: 4\n",
      "3: 2\n",
      "2: 2\n",
      "10: 1\n",
      "5: 1\n"
     ]
    }
   ],
   "source": [
    "query = [\n",
    "    {\n",
    "        \"$group\":{\n",
    "            \"_id\": \"$upload_count\",\n",
    "            \"count\": {\"$sum\": 1}\n",
    "        }\n",
    "    },\n",
    "    {\n",
    "        \"$sort\": {\"count\": -1} # sort by count in descending order\n",
    "    }\n",
    "]\n",
    "\n",
    "result = collection.aggregate(query)\n",
    "\n",
    "for doc in result:\n",
    "    print(f\"{doc['_id']}: {doc['count']}\")\n"
   ]
  },
  {
   "cell_type": "markdown",
   "id": "cfe59d37",
   "metadata": {},
   "source": [
    "#### Find value counts for upload type"
   ]
  },
  {
   "cell_type": "code",
   "execution_count": 15,
   "id": "6a2845b4",
   "metadata": {},
   "outputs": [],
   "source": [
    "# df['type'].value_counts()\n"
   ]
  },
  {
   "cell_type": "code",
   "execution_count": 16,
   "id": "15db0a29",
   "metadata": {},
   "outputs": [
    {
     "name": "stdout",
     "output_type": "stream",
     "text": [
      "bulk: 80\n",
      "single: 79\n",
      "None: 37\n"
     ]
    }
   ],
   "source": [
    "query = [\n",
    "    {\n",
    "        \"$group\":{\n",
    "            \"_id\": \"$type\",\n",
    "            \"count\": {\"$sum\": 1}\n",
    "        }\n",
    "    },\n",
    "    {\n",
    "        \"$sort\": {\"count\": -1}\n",
    "    }\n",
    "]\n",
    "\n",
    "result = collection.aggregate(query)\n",
    "\n",
    "for doc in result:\n",
    "    print(f\"{doc['_id']}: {doc['count']}\")\n"
   ]
  },
  {
   "cell_type": "markdown",
   "id": "8144654e",
   "metadata": {},
   "source": [
    "#### Find value counts for upload status"
   ]
  },
  {
   "cell_type": "code",
   "execution_count": 17,
   "id": "8eefdafd",
   "metadata": {},
   "outputs": [],
   "source": [
    "# df['status'].value_counts()\n"
   ]
  },
  {
   "cell_type": "code",
   "execution_count": 18,
   "id": "45fd748b",
   "metadata": {},
   "outputs": [
    {
     "name": "stdout",
     "output_type": "stream",
     "text": [
      "completed: 190\n",
      "processing: 6\n"
     ]
    }
   ],
   "source": [
    "query = [\n",
    "    {\n",
    "        \"$group\":{\n",
    "            \"_id\": \"$status\",\n",
    "            \"count\": {\"$sum\": 1}\n",
    "        }\n",
    "    },\n",
    "    {\n",
    "        \"$sort\": {\"count\": -1}\n",
    "    }\n",
    "]\n",
    "\n",
    "result = collection.aggregate(query)\n",
    "\n",
    "for doc in result:\n",
    "    print(f\"{doc[\"_id\"]}: {doc['count']}\")\n"
   ]
  },
  {
   "cell_type": "markdown",
   "id": "51921f5e",
   "metadata": {},
   "source": [
    "#### Inspect 'batch_name','upload_count', 'type', 'status' together"
   ]
  },
  {
   "cell_type": "code",
   "execution_count": 19,
   "id": "11b255a2",
   "metadata": {},
   "outputs": [],
   "source": [
    "# df_result = df[['batch_name','upload_count', 'type', 'status']].sort_values(by=['status','type', 'upload_count'], ascending=True)\n",
    "# df_result.sample(5)\n"
   ]
  },
  {
   "cell_type": "code",
   "execution_count": 20,
   "id": "3f2a7b40",
   "metadata": {},
   "outputs": [
    {
     "name": "stdout",
     "output_type": "stream",
     "text": [
      "{'batch_name': 'a12', 'type': 'bulk', 'upload_count': 1, 'status': 'completed'}\n",
      "{'batch_name': 'batch 3', 'upload_count': 1, 'status': 'completed'}\n",
      "{'batch_name': 'a11', 'type': 'bulk', 'upload_count': 1, 'status': 'completed'}\n",
      "{'batch_name': '4642', 'type': 'bulk', 'upload_count': 1, 'status': 'completed'}\n",
      "{'type': 'single', 'status': 'completed', 'batch_name': 'Wp-Careers'}\n"
     ]
    }
   ],
   "source": [
    "query = [\n",
    "    {\n",
    "        \"$project\": {\n",
    "            \"_id\": 0,\n",
    "            \"batch_name\": 1,\n",
    "            \"upload_count\": 1,\n",
    "            \"type\": 1,\n",
    "            \"status\": 1\n",
    "        }\n",
    "    },\n",
    "    {\n",
    "        \"$sort\": {\n",
    "            \"status\": 1,\n",
    "            \"type\": 1,\n",
    "            \"upload_count\": 1\n",
    "        }\n",
    "    },\n",
    "    {\n",
    "        \"$sample\": {\n",
    "            \"size\": 5  # randomly sample 5 after sorting\n",
    "        }\n",
    "    }\n",
    "]\n",
    "\n",
    "result = list(collection.aggregate(query))\n",
    "\n",
    "for doc in result:\n",
    "    print(doc)\n"
   ]
  },
  {
   "cell_type": "markdown",
   "id": "5fa4208f",
   "metadata": {},
   "source": [
    "#### Replace upload_count = \"\" with 1.0 where batch_name = \"Wp-Careers\""
   ]
  },
  {
   "cell_type": "code",
   "execution_count": 21,
   "id": "8acc7daa",
   "metadata": {},
   "outputs": [],
   "source": [
    "# import numpy as np\n",
    "# df_copy = df.copy()\n",
    "\n",
    "# df_copy.loc[\n",
    "#     (df['batch_name'] == \"Wp-Careers\") & (df['upload_count'].isna()),\n",
    "#     'upload_count'\n",
    "# ] = 1.0\n",
    "\n",
    "# df_copy = df_copy[df_copy['batch_name'] == \"Wp-Careers\"]\n",
    "# df_copy[['batch_name','upload_count', 'type', 'status']].sample(5)\n"
   ]
  },
  {
   "cell_type": "code",
   "execution_count": 26,
   "id": "1ecf203b",
   "metadata": {},
   "outputs": [
    {
     "name": "stdout",
     "output_type": "stream",
     "text": [
      "{'type': 'single', 'status': 'completed', 'batch_name': 'Wp-Careers', 'upload_count': 1.0}\n",
      "{'type': 'single', 'status': 'completed', 'batch_name': 'Wp-Careers', 'upload_count': 1.0}\n",
      "{'type': 'single', 'status': 'completed', 'batch_name': 'Wp-Careers', 'upload_count': 1.0}\n",
      "{'type': 'single', 'status': 'completed', 'batch_name': 'Wp-Careers', 'upload_count': 1.0}\n",
      "{'type': 'single', 'status': 'completed', 'batch_name': 'Wp-Careers', 'upload_count': 1.0}\n"
     ]
    }
   ],
   "source": [
    "query = [\n",
    "    {\n",
    "        \"$match\": {\n",
    "            \"batch_name\": \"Wp-Careers\"\n",
    "        }\n",
    "    },\n",
    "    {\n",
    "        \"$project\": {\n",
    "            \"_id\": 0,\n",
    "            \"batch_name\": 1,\n",
    "            \"upload_count\": {\n",
    "                \"$ifNull\": [\"$upload_count\", 1.0]\n",
    "            },\n",
    "            \"type\": 1,\n",
    "            \"status\": 1\n",
    "        }\n",
    "    },\n",
    "    {\n",
    "        \"$sort\": {\n",
    "            \"status\": 1,\n",
    "            \"type\": 1,\n",
    "            \"upload_count\": 1\n",
    "        }\n",
    "    },\n",
    "    {\n",
    "        \"$sample\": {\n",
    "            \"size\": 5\n",
    "        }\n",
    "    }\n",
    "]\n",
    "\n",
    "result = list(collection.aggregate(query))\n",
    "\n",
    "for doc in result:\n",
    "    print(doc)\n"
   ]
  },
  {
   "cell_type": "code",
   "execution_count": 27,
   "id": "0378c83b",
   "metadata": {},
   "outputs": [
    {
     "name": "stdout",
     "output_type": "stream",
     "text": [
      "{'type': 'single', 'status': 'completed', 'batch_name': 'Wp-Careers'}\n",
      "{'type': 'single', 'status': 'completed', 'batch_name': 'Wp-Careers'}\n",
      "{'type': 'single', 'status': 'completed', 'batch_name': 'Wp-Careers'}\n",
      "{'type': 'single', 'status': 'completed', 'batch_name': 'Wp-Careers'}\n",
      "{'type': 'single', 'status': 'completed', 'batch_name': 'Wp-Careers'}\n"
     ]
    }
   ],
   "source": [
    "query = [\n",
    "    {\n",
    "        \"$match\": {\n",
    "            \"batch_name\": \"Wp-Careers\"\n",
    "        }\n",
    "    },\n",
    "    {\n",
    "        \"$project\": {\n",
    "            \"_id\": 0,\n",
    "            \"batch_name\": 1,\n",
    "            \"upload_count\": 1,\n",
    "            \"type\": 1,\n",
    "            \"status\": 1\n",
    "        }\n",
    "    },\n",
    "    {\n",
    "        \"$sort\": {\n",
    "            \"status\": 1,\n",
    "            \"type\": 1,\n",
    "            \"upload_count\": 1\n",
    "        }\n",
    "    },\n",
    "    {\n",
    "        \"$sample\": {\n",
    "            \"size\": 5\n",
    "        }\n",
    "    }\n",
    "]\n",
    "\n",
    "result = list(collection.aggregate(query))\n",
    "\n",
    "for doc in result:\n",
    "    print(doc)\n"
   ]
  }
 ],
 "metadata": {
  "kernelspec": {
   "display_name": "base",
   "language": "python",
   "name": "python3"
  },
  "language_info": {
   "codemirror_mode": {
    "name": "ipython",
    "version": 3
   },
   "file_extension": ".py",
   "mimetype": "text/x-python",
   "name": "python",
   "nbconvert_exporter": "python",
   "pygments_lexer": "ipython3",
   "version": "3.12.7"
  }
 },
 "nbformat": 4,
 "nbformat_minor": 5
}
