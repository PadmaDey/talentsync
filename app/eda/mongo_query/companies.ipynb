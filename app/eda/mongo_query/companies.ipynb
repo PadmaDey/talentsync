{
 "cells": [
  {
   "cell_type": "markdown",
   "id": "935ca8f6",
   "metadata": {},
   "source": [
    "#### Install required package"
   ]
  },
  {
   "cell_type": "code",
   "execution_count": 1,
   "id": "62b28305",
   "metadata": {},
   "outputs": [],
   "source": [
    "# pip install pymongo\n"
   ]
  },
  {
   "cell_type": "markdown",
   "id": "a8c2a3df",
   "metadata": {},
   "source": [
    "#### Create a pymongo connection"
   ]
  },
  {
   "cell_type": "code",
   "execution_count": null,
   "id": "6e60ac94",
   "metadata": {},
   "outputs": [
    {
     "name": "stdout",
     "output_type": "stream",
     "text": [
      "Python-MongoDB connection created succesfully -\n",
      " MongoClient(host=['3.146.176.180:27017'], document_class=dict, tz_aware=False, connect=True)\n"
     ]
    }
   ],
   "source": [
    "import os\n",
    "import pandas as pd\n",
    "pd.set_option(\"display.max_column\", None)\n",
    "\n",
    "from pymongo import MongoClient\n",
    "from bson import json_util\n",
    "import json\n",
    "\n",
    "mongo_url = input(\"Enter the Mongo connection string: \")\n",
    "client = MongoClient(mongo_url)\n",
    "print(\"Python-MongoDB connection created succesfully -\\n\", client)\n"
   ]
  },
  {
   "cell_type": "markdown",
   "id": "009b5e4d",
   "metadata": {},
   "source": [
    "#### View list of collections in the database"
   ]
  },
  {
   "cell_type": "code",
   "execution_count": 3,
   "id": "db912026",
   "metadata": {},
   "outputs": [
    {
     "name": "stdout",
     "output_type": "stream",
     "text": [
      "['candidate_questions', 'job_hr_questions', 'candidates', 'auth_keys', 'jobs', 'audit_logs', 'job_hr_settings', 'batches', 'questions', 'candidates_errors', 'users', 'companies', 'messages', 'auth_tokens']\n"
     ]
    }
   ],
   "source": [
    "db = client['talentsync-backend-production']\n",
    "collection_names = db.list_collection_names()\n",
    "print(collection_names)\n"
   ]
  },
  {
   "cell_type": "code",
   "execution_count": null,
   "id": "2bf93807",
   "metadata": {},
   "outputs": [],
   "source": [
    "\n"
   ]
  },
  {
   "cell_type": "markdown",
   "id": "cd6193ca",
   "metadata": {},
   "source": [
    "#### Find all the documents in this particular collection"
   ]
  },
  {
   "cell_type": "code",
   "execution_count": 4,
   "id": "166e3d87",
   "metadata": {},
   "outputs": [
    {
     "name": "stdout",
     "output_type": "stream",
     "text": [
      "<pymongo.synchronous.cursor.Cursor object at 0x0000022F51C37110>\n"
     ]
    }
   ],
   "source": [
    "collection = db['companies']\n",
    "results = collection.find()\n",
    "print(results)\n"
   ]
  },
  {
   "cell_type": "code",
   "execution_count": 5,
   "id": "f333f017",
   "metadata": {},
   "outputs": [
    {
     "name": "stdout",
     "output_type": "stream",
     "text": [
      "{'_id': ObjectId('681c861b1cf44d32fe03095e'), 'name': 'Klizo Solutions', 'organization_size': '11-50', 'company_type': 'corporation', 'created_at': datetime.datetime(2025, 5, 8, 10, 23, 23, 615000), 'updated_at': datetime.datetime(2025, 5, 8, 10, 23, 23, 615000), 'is_deleted': False}\n",
      "{'_id': ObjectId('681c86b51cf44d32fe030963'), 'name': 'Vietnam Australia International School', 'organization_size': '200+', 'company_type': 'corporation', 'created_at': datetime.datetime(2025, 5, 8, 10, 25, 57, 981000), 'updated_at': datetime.datetime(2025, 5, 8, 10, 25, 57, 981000), 'is_deleted': False}\n",
      "{'_id': ObjectId('681c872f1cf44d32fe03096d'), 'name': 'Esco Beach', 'organization_size': '51-200', 'company_type': 'corporation', 'created_at': datetime.datetime(2025, 5, 8, 10, 27, 59, 721000), 'updated_at': datetime.datetime(2025, 5, 8, 10, 27, 59, 721000), 'is_deleted': False}\n",
      "{'_id': ObjectId('682200046342bdaa11723975'), 'name': 'Furarma Resort Danang', 'organization_size': '200+', 'company_type': 'corporation', 'created_at': datetime.datetime(2025, 5, 12, 14, 4, 52, 549000), 'updated_at': datetime.datetime(2025, 5, 12, 14, 4, 52, 549000), 'is_deleted': False}\n",
      "{'_id': ObjectId('682200936342bdaa1172397a'), 'name': 'Furama Resort Da Nang', 'organization_size': '200+', 'company_type': 'corporation', 'created_at': datetime.datetime(2025, 5, 12, 14, 7, 15, 794000), 'updated_at': datetime.datetime(2025, 5, 12, 14, 7, 15, 794000), 'is_deleted': False}\n",
      "{'_id': ObjectId('6822e3346342bdaa117239ba'), 'name': 'Singapore Internation School', 'organization_size': '200+', 'company_type': 'corporation', 'created_at': datetime.datetime(2025, 5, 13, 6, 14, 12, 395000), 'updated_at': datetime.datetime(2025, 5, 13, 6, 14, 12, 395000), 'is_deleted': False}\n",
      "{'_id': ObjectId('68243b106342bdaa11723a5d'), 'name': 'Production Company', 'organization_size': '51-200', 'company_type': 'small-business', 'created_at': datetime.datetime(2025, 5, 14, 6, 41, 20, 926000), 'updated_at': datetime.datetime(2025, 5, 14, 6, 41, 20, 926000), 'is_deleted': False}\n",
      "{'_id': ObjectId('682472001b85c2b6f71a5ba5'), 'name': 'Demo Company', 'organization_size': '11-50', 'company_type': 'small-business', 'created_at': datetime.datetime(2025, 5, 14, 10, 35, 44, 315000), 'updated_at': datetime.datetime(2025, 5, 14, 10, 35, 44, 315000), 'is_deleted': False}\n",
      "{'_id': ObjectId('682475961b85c2b6f71a5baa'), 'name': 'QA_Company', 'organization_size': '51-200', 'company_type': 'startup', 'created_at': datetime.datetime(2025, 5, 14, 10, 51, 2, 893000), 'updated_at': datetime.datetime(2025, 5, 14, 10, 51, 2, 893000), 'is_deleted': False}\n",
      "{'_id': ObjectId('68259b511b85c2b6f71a5bdf'), 'name': 'Bunny House', 'organization_size': '1-10', 'company_type': 'manufacturing', 'created_at': datetime.datetime(2025, 5, 15, 7, 44, 17, 712000), 'updated_at': datetime.datetime(2025, 5, 15, 7, 44, 17, 712000), 'is_deleted': False}\n",
      "{'_id': ObjectId('68307b590582447f62edadd8'), 'name': 'Klizo QA', 'organization_size': '51-200', 'company_type': 'ecommerce', 'created_at': datetime.datetime(2025, 5, 23, 13, 42, 49, 356000), 'updated_at': datetime.datetime(2025, 5, 23, 13, 42, 49, 356000), 'is_deleted': False}\n",
      "{'_id': ObjectId('6835e66bc165a9e593e1ebb1'), 'name': 'ESCO Beach Vietnam', 'organization_size': '51-200', 'company_type': 'consulting', 'created_at': datetime.datetime(2025, 5, 27, 16, 20, 59, 904000), 'updated_at': datetime.datetime(2025, 5, 27, 16, 20, 59, 904000), 'is_deleted': False}\n",
      "{'_id': ObjectId('683dc273b72469b8444e42e0'), 'name': 'Show Me', 'organization_size': '200+', 'company_type': 'freelance', 'created_at': datetime.datetime(2025, 6, 2, 15, 25, 39, 45000), 'updated_at': datetime.datetime(2025, 6, 2, 15, 25, 39, 45000), 'is_deleted': False}\n",
      "{'_id': ObjectId('683ee19fb72469b8444e42f8'), 'name': 'F comany', 'organization_size': '51-200', 'company_type': 'enterprise', 'created_at': datetime.datetime(2025, 6, 3, 11, 50, 55, 490000), 'updated_at': datetime.datetime(2025, 6, 3, 11, 50, 55, 490000), 'is_deleted': False}\n",
      "{'_id': ObjectId('683eec13b72469b8444e4317'), 'name': 'Test', 'organization_size': '200+', 'company_type': 'manufacturing', 'created_at': datetime.datetime(2025, 6, 3, 12, 35, 31, 377000), 'updated_at': datetime.datetime(2025, 6, 3, 12, 35, 31, 377000), 'is_deleted': False}\n",
      "{'_id': ObjectId('683ffda7b72469b8444e4328'), 'name': 'Apollo English Vietnam', 'organization_size': '200+', 'company_type': 'enterprise', 'created_at': datetime.datetime(2025, 6, 4, 8, 2, 47, 555000), 'updated_at': datetime.datetime(2025, 6, 4, 8, 2, 47, 555000), 'is_deleted': False}\n",
      "{'_id': ObjectId('6840848da060d5257c9c3d62'), 'name': 'Demo Company 2', 'organization_size': '11-50', 'company_type': 'corporation', 'created_at': datetime.datetime(2025, 6, 4, 17, 38, 21, 26000), 'updated_at': datetime.datetime(2025, 6, 4, 17, 38, 21, 26000), 'is_deleted': False}\n",
      "{'_id': ObjectId('6840858aa060d5257c9c3d6d'), 'name': 'Quality Analyst Company', 'organization_size': '51-200', 'company_type': 'startup', 'created_at': datetime.datetime(2025, 6, 4, 17, 42, 34, 68000), 'updated_at': datetime.datetime(2025, 6, 4, 17, 42, 34, 68000), 'is_deleted': False}\n",
      "{'_id': ObjectId('68408808a060d5257c9c3d7b'), 'name': 'In magna dolore temp', 'organization_size': '51-200', 'company_type': 'corporation', 'created_at': datetime.datetime(2025, 6, 4, 17, 53, 12, 684000), 'updated_at': datetime.datetime(2025, 6, 4, 17, 53, 12, 684000), 'is_deleted': False}\n",
      "{'_id': ObjectId('684088d2a060d5257c9c3d88'), 'name': 'Demo Company 3', 'organization_size': '1-10', 'company_type': 'non-profit', 'created_at': datetime.datetime(2025, 6, 4, 17, 56, 34, 252000), 'updated_at': datetime.datetime(2025, 6, 4, 17, 56, 34, 252000), 'is_deleted': False}\n",
      "{'_id': ObjectId('684092c320ea20e4aca311a5'), 'name': 'Demo Company 4', 'organization_size': '1-10', 'company_type': 'small-business', 'created_at': datetime.datetime(2025, 6, 4, 18, 38, 59, 372000), 'updated_at': datetime.datetime(2025, 6, 4, 18, 38, 59, 372000), 'is_deleted': False}\n",
      "{'_id': ObjectId('6841464320ea20e4aca31285'), 'name': 'Ad officia sed velit', 'organization_size': '11-50', 'company_type': 'corporation', 'created_at': datetime.datetime(2025, 6, 5, 7, 24, 51, 277000), 'updated_at': datetime.datetime(2025, 6, 5, 7, 24, 51, 277000), 'is_deleted': False}\n",
      "{'_id': ObjectId('684401e7eabd1dae68df0848'), 'name': 'Einstein Tech', 'organization_size': '1-10', 'company_type': 'startup', 'created_at': datetime.datetime(2025, 6, 7, 9, 9, 59, 12000), 'updated_at': datetime.datetime(2025, 6, 7, 9, 9, 59, 12000), 'is_deleted': False}\n",
      "{'_id': ObjectId('6847eadbeabd1dae68df086b'), 'name': 'New Company Names', 'organization_size': '11-50', 'company_type': 'enterprise', 'created_at': datetime.datetime(2025, 6, 10, 8, 20, 43, 58000), 'updated_at': datetime.datetime(2025, 6, 10, 8, 20, 43, 58000), 'is_deleted': False}\n",
      "{'_id': ObjectId('6847f945eabd1dae68df0873'), 'name': 'Testuikji87k6j7i', 'organization_size': '200+', 'company_type': 'enterprise', 'created_at': datetime.datetime(2025, 6, 10, 9, 22, 13, 284000), 'updated_at': datetime.datetime(2025, 6, 10, 9, 22, 13, 284000), 'is_deleted': False}\n",
      "{'_id': ObjectId('68496fd9eabd1dae68df08b3'), 'name': 'Klizo Solutions2', 'organization_size': '51-200', 'company_type': 'startup', 'created_at': datetime.datetime(2025, 6, 11, 12, 0, 25, 925000), 'updated_at': datetime.datetime(2025, 6, 11, 12, 0, 25, 925000), 'is_deleted': False}\n",
      "{'_id': ObjectId('684af30dc939b52e8b71ab6d'), 'name': 'Klizo', 'organization_size': '1-10', 'company_type': 'startup', 'created_at': datetime.datetime(2025, 6, 12, 15, 32, 29, 219000), 'updated_at': datetime.datetime(2025, 6, 12, 15, 32, 29, 219000), 'is_deleted': False}\n",
      "{'_id': ObjectId('684af483c939b52e8b71ab72'), 'name': 'Test Company', 'organization_size': '200+', 'company_type': 'manufacturing', 'created_at': datetime.datetime(2025, 6, 12, 15, 38, 43, 959000), 'updated_at': datetime.datetime(2025, 6, 12, 15, 38, 43, 959000), 'is_deleted': False}\n",
      "{'_id': ObjectId('684bb3a5c939b52e8b71abaa'), 'name': 'Testing', 'organization_size': '200+', 'company_type': 'manufacturing', 'created_at': datetime.datetime(2025, 6, 13, 5, 14, 13, 535000), 'updated_at': datetime.datetime(2025, 6, 13, 5, 14, 13, 535000), 'is_deleted': False}\n",
      "{'_id': ObjectId('684c0926c939b52e8b71abe7'), 'name': \"Rooj's Company\", 'organization_size': '200+', 'company_type': 'enterprise', 'created_at': datetime.datetime(2025, 6, 13, 11, 19, 2, 951000), 'updated_at': datetime.datetime(2025, 6, 13, 11, 19, 2, 951000), 'is_deleted': False}\n",
      "{'_id': ObjectId('684ea957c939b52e8b71ac3c'), 'name': 'Veniam at illum vo', 'organization_size': '11-50', 'company_type': 'manufacturing', 'created_at': datetime.datetime(2025, 6, 15, 11, 7, 3, 616000), 'updated_at': datetime.datetime(2025, 6, 15, 11, 7, 3, 616000), 'is_deleted': False}\n",
      "{'_id': ObjectId('68513789c939b52e8b71ad05'), 'name': 'internal-company', 'organization_size': '1-10', 'company_type': 'small-business', 'created_at': datetime.datetime(2025, 6, 17, 9, 38, 17, 624000), 'updated_at': datetime.datetime(2025, 6, 17, 9, 38, 17, 624000), 'is_deleted': False}\n",
      "{'_id': ObjectId('685aac944b21f9b04f264a9c'), 'name': \"Rooj's Solutions\", 'organization_size': '1-10', 'company_type': 'startup', 'created_at': datetime.datetime(2025, 6, 24, 13, 48, 4, 409000), 'updated_at': datetime.datetime(2025, 6, 24, 13, 48, 4, 409000), 'is_deleted': False}\n",
      "{'_id': ObjectId('685bbb7f4b21f9b04f264afa'), 'name': 'Interview Screener_Klizo Solution', 'organization_size': '51-200', 'company_type': 'ecommerce', 'created_at': datetime.datetime(2025, 6, 25, 9, 3, 59, 429000), 'updated_at': datetime.datetime(2025, 6, 25, 9, 3, 59, 429000), 'is_deleted': False}\n",
      "{'_id': ObjectId('685becab4b21f9b04f264b57'), 'name': 'ABC Company', 'organization_size': '11-50', 'company_type': 'corporation', 'created_at': datetime.datetime(2025, 6, 25, 12, 33, 47, 984000), 'updated_at': datetime.datetime(2025, 6, 25, 12, 33, 47, 984000), 'is_deleted': False}\n",
      "{'_id': ObjectId('685bed9a4b21f9b04f264b5c'), 'name': 'Abcd Company', 'organization_size': '11-50', 'company_type': 'enterprise', 'created_at': datetime.datetime(2025, 6, 25, 12, 37, 46, 990000), 'updated_at': datetime.datetime(2025, 6, 25, 12, 37, 46, 990000), 'is_deleted': False}\n",
      "{'_id': ObjectId('685bf70f4b21f9b04f264b63'), 'name': 'XYZ solutions', 'organization_size': '1-10', 'company_type': 'startup', 'created_at': datetime.datetime(2025, 6, 25, 13, 18, 7, 428000), 'updated_at': datetime.datetime(2025, 6, 25, 13, 18, 7, 428000), 'is_deleted': False}\n",
      "{'_id': ObjectId('685bfeeb4b21f9b04f264b68'), 'name': 'Unde odit adipisicin', 'organization_size': '1-10', 'company_type': 'startup', 'created_at': datetime.datetime(2025, 6, 25, 13, 51, 39, 126000), 'updated_at': datetime.datetime(2025, 6, 25, 13, 51, 39, 126000), 'is_deleted': False}\n"
     ]
    }
   ],
   "source": [
    "collection = db['companies']\n",
    "results = collection.find()\n",
    "for doc in results:\n",
    "    print(doc)\n"
   ]
  },
  {
   "cell_type": "markdown",
   "id": "16e173ab",
   "metadata": {},
   "source": [
    "#### View the first document in this collection"
   ]
  },
  {
   "cell_type": "code",
   "execution_count": 6,
   "id": "c9e695ee",
   "metadata": {},
   "outputs": [
    {
     "name": "stdout",
     "output_type": "stream",
     "text": [
      "{'_id': ObjectId('681c861b1cf44d32fe03095e'), 'name': 'Klizo Solutions', 'organization_size': '11-50', 'company_type': 'corporation', 'created_at': datetime.datetime(2025, 5, 8, 10, 23, 23, 615000), 'updated_at': datetime.datetime(2025, 5, 8, 10, 23, 23, 615000), 'is_deleted': False}\n"
     ]
    }
   ],
   "source": [
    "collection = db['companies']\n",
    "result = collection.find_one()\n",
    "print(result)\n"
   ]
  },
  {
   "cell_type": "code",
   "execution_count": 7,
   "id": "c80a640a",
   "metadata": {},
   "outputs": [
    {
     "name": "stdout",
     "output_type": "stream",
     "text": [
      "{\n",
      "    \"_id\": {\n",
      "        \"$oid\": \"681c861b1cf44d32fe03095e\"\n",
      "    },\n",
      "    \"name\": \"Klizo Solutions\",\n",
      "    \"organization_size\": \"11-50\",\n",
      "    \"company_type\": \"corporation\",\n",
      "    \"created_at\": {\n",
      "        \"$date\": \"2025-05-08T10:23:23.615Z\"\n",
      "    },\n",
      "    \"updated_at\": {\n",
      "        \"$date\": \"2025-05-08T10:23:23.615Z\"\n",
      "    },\n",
      "    \"is_deleted\": false\n",
      "}\n"
     ]
    }
   ],
   "source": [
    "collection = db['companies']\n",
    "result = collection.find_one()\n",
    "print(json.dumps(result, indent=4, default=json_util.default))\n"
   ]
  },
  {
   "cell_type": "code",
   "execution_count": null,
   "id": "1892a3dd",
   "metadata": {},
   "outputs": [],
   "source": []
  },
  {
   "cell_type": "markdown",
   "id": "3ec4c658",
   "metadata": {},
   "source": [
    "#### How many documents are listed in this collection"
   ]
  },
  {
   "cell_type": "code",
   "execution_count": 8,
   "id": "b7980f94",
   "metadata": {},
   "outputs": [],
   "source": [
    "# print(\"shape: \", df.shape)\n"
   ]
  },
  {
   "cell_type": "code",
   "execution_count": 9,
   "id": "5380b712",
   "metadata": {},
   "outputs": [
    {
     "name": "stdout",
     "output_type": "stream",
     "text": [
      "shape: 38\n"
     ]
    }
   ],
   "source": [
    "num_rows = collection.count_documents({})\n",
    "print(\"shape:\", num_rows )\n"
   ]
  },
  {
   "cell_type": "code",
   "execution_count": null,
   "id": "29002603",
   "metadata": {},
   "outputs": [],
   "source": []
  },
  {
   "cell_type": "markdown",
   "id": "248f5a30",
   "metadata": {},
   "source": [
    "#### How many unique fields are there in this collection"
   ]
  },
  {
   "cell_type": "code",
   "execution_count": 10,
   "id": "e578fb7a",
   "metadata": {},
   "outputs": [],
   "source": [
    "# print(\"Columns: \", df.columns)\n"
   ]
  },
  {
   "cell_type": "code",
   "execution_count": 11,
   "id": "ddd96bc4",
   "metadata": {},
   "outputs": [
    {
     "name": "stdout",
     "output_type": "stream",
     "text": [
      "Columns: ['updated_at', 'company_type', 'organization_size', '_id', 'name', 'created_at', 'is_deleted']\n"
     ]
    }
   ],
   "source": [
    "all_fields = set()\n",
    "for field in collection.find():\n",
    "    all_fields.update(field.keys())\n",
    "    \n",
    "print(\"Columns:\", list(all_fields))\n"
   ]
  },
  {
   "cell_type": "code",
   "execution_count": null,
   "id": "6eb6a4cd",
   "metadata": {},
   "outputs": [],
   "source": []
  },
  {
   "cell_type": "markdown",
   "id": "68f021ed",
   "metadata": {},
   "source": [
    "#### Value counts for seperate fields"
   ]
  },
  {
   "cell_type": "markdown",
   "id": "ec633af5",
   "metadata": {},
   "source": [
    "##### 'is_deleted'"
   ]
  },
  {
   "cell_type": "code",
   "execution_count": 12,
   "id": "8a9a9e00",
   "metadata": {},
   "outputs": [],
   "source": [
    "# df['is_deleted'].value_counts()\n"
   ]
  },
  {
   "cell_type": "code",
   "execution_count": 13,
   "id": "fbcff3f3",
   "metadata": {},
   "outputs": [
    {
     "name": "stdout",
     "output_type": "stream",
     "text": [
      "False: 38\n"
     ]
    }
   ],
   "source": [
    "query = [\n",
    "    {\n",
    "        \"$group\": {\n",
    "            \"_id\": \"$is_deleted\",\n",
    "            \"count\": {\"$sum\": 1}\n",
    "        }\n",
    "    }\n",
    "]\n",
    "\n",
    "result = collection.aggregate(query)\n",
    "\n",
    "for doc in result:\n",
    "    print(f\"{doc['_id']}: {doc['count']}\")\n"
   ]
  },
  {
   "cell_type": "markdown",
   "id": "1f7cdf63",
   "metadata": {},
   "source": [
    "##### 'organization_size'"
   ]
  },
  {
   "cell_type": "code",
   "execution_count": 14,
   "id": "b958722d",
   "metadata": {},
   "outputs": [
    {
     "name": "stdout",
     "output_type": "stream",
     "text": [
      "51-200: 10\n",
      "200+: 11\n",
      "1-10: 9\n",
      "11-50: 8\n"
     ]
    }
   ],
   "source": [
    "query = [\n",
    "    {\n",
    "        \"$group\": {\n",
    "            \"_id\": \"$organization_size\",\n",
    "            \"count\": {\"$sum\": 1}\n",
    "        }\n",
    "    }\n",
    "]\n",
    "\n",
    "result = collection.aggregate(query)\n",
    "\n",
    "for doc in result:\n",
    "    print(f\"{doc['_id']}: {doc['count']}\")\n"
   ]
  },
  {
   "cell_type": "markdown",
   "id": "8a746d6a",
   "metadata": {},
   "source": [
    "##### 'company_type'"
   ]
  },
  {
   "cell_type": "code",
   "execution_count": 15,
   "id": "db09658a",
   "metadata": {},
   "outputs": [
    {
     "name": "stdout",
     "output_type": "stream",
     "text": [
      "startup: 8\n",
      "consulting: 1\n",
      "small-business: 4\n",
      "ecommerce: 2\n",
      "non-profit: 1\n",
      "enterprise: 6\n",
      "corporation: 10\n",
      "manufacturing: 5\n",
      "freelance: 1\n"
     ]
    }
   ],
   "source": [
    "query = [\n",
    "    {\n",
    "        \"$group\":{\n",
    "            \"_id\": \"$company_type\",\n",
    "            \"count\": {\"$sum\": 1}\n",
    "        }\n",
    "    }\n",
    "]\n",
    "\n",
    "result = collection.aggregate(query)\n",
    "\n",
    "for doc in result:\n",
    "    print(f\"{doc['_id']}: {doc['count']}\")\n"
   ]
  },
  {
   "cell_type": "code",
   "execution_count": null,
   "id": "7a3b40c5",
   "metadata": {},
   "outputs": [],
   "source": []
  },
  {
   "cell_type": "markdown",
   "id": "bb3b100e",
   "metadata": {},
   "source": [
    "#### Count of unique companies"
   ]
  },
  {
   "cell_type": "code",
   "execution_count": 16,
   "id": "c8a04d98",
   "metadata": {},
   "outputs": [],
   "source": [
    "# df[['name']].count()\n"
   ]
  },
  {
   "cell_type": "code",
   "execution_count": 17,
   "id": "897cc7e4",
   "metadata": {},
   "outputs": [
    {
     "name": "stdout",
     "output_type": "stream",
     "text": [
      "[{'company_count': 38}]\n"
     ]
    }
   ],
   "source": [
    "query = [\n",
    "    {\n",
    "        \"$match\":{\n",
    "            \"name\": {\"$exists\": True, \"$ne\": None}\n",
    "        }\n",
    "    },\n",
    "    {\n",
    "        \"$count\": \"company_count\"\n",
    "    }\n",
    "]\n",
    "\n",
    "result = list(collection.aggregate(query))\n",
    "print(result)\n"
   ]
  },
  {
   "cell_type": "code",
   "execution_count": 18,
   "id": "58e9bb5c",
   "metadata": {},
   "outputs": [
    {
     "name": "stdout",
     "output_type": "stream",
     "text": [
      "{'company_count': 38}\n"
     ]
    }
   ],
   "source": [
    "query = [\n",
    "    {\n",
    "        \"$match\":{\n",
    "            \"name\": {\"$exists\": True, \"$ne\": None}\n",
    "        }\n",
    "    },\n",
    "    {\n",
    "        \"$count\": \"company_count\"\n",
    "    }\n",
    "]\n",
    "\n",
    "result = list(collection.aggregate(query))\n",
    "print(result[0])\n"
   ]
  },
  {
   "cell_type": "code",
   "execution_count": 19,
   "id": "dbc7b14e",
   "metadata": {},
   "outputs": [
    {
     "name": "stdout",
     "output_type": "stream",
     "text": [
      "38\n"
     ]
    }
   ],
   "source": [
    "query = [\n",
    "    {\n",
    "        \"$match\": {\n",
    "            \"name\": { \"$exists\": True, \"$ne\": None }\n",
    "        }\n",
    "    },\n",
    "    {\n",
    "        \"$count\": \"name_count\"\n",
    "    }\n",
    "]\n",
    "\n",
    "result = list(collection.aggregate(query))\n",
    "print(result[0]['name_count'] if result else 0)\n"
   ]
  },
  {
   "cell_type": "code",
   "execution_count": null,
   "id": "5ee07208",
   "metadata": {},
   "outputs": [],
   "source": []
  },
  {
   "cell_type": "markdown",
   "id": "e5ee4c4b",
   "metadata": {},
   "source": [
    "#### View the Unique Companies' names"
   ]
  },
  {
   "cell_type": "code",
   "execution_count": 20,
   "id": "96ffc8bf",
   "metadata": {},
   "outputs": [],
   "source": [
    "# df[['name']]\n"
   ]
  },
  {
   "cell_type": "code",
   "execution_count": 21,
   "id": "79b97491",
   "metadata": {},
   "outputs": [
    {
     "name": "stdout",
     "output_type": "stream",
     "text": [
      "{'_id': ObjectId('681c861b1cf44d32fe03095e'), 'name': 'Klizo Solutions'}\n",
      "{'_id': ObjectId('681c86b51cf44d32fe030963'), 'name': 'Vietnam Australia International School'}\n",
      "{'_id': ObjectId('681c872f1cf44d32fe03096d'), 'name': 'Esco Beach'}\n",
      "{'_id': ObjectId('682200046342bdaa11723975'), 'name': 'Furarma Resort Danang'}\n",
      "{'_id': ObjectId('682200936342bdaa1172397a'), 'name': 'Furama Resort Da Nang'}\n",
      "{'_id': ObjectId('6822e3346342bdaa117239ba'), 'name': 'Singapore Internation School'}\n",
      "{'_id': ObjectId('68243b106342bdaa11723a5d'), 'name': 'Production Company'}\n",
      "{'_id': ObjectId('682472001b85c2b6f71a5ba5'), 'name': 'Demo Company'}\n",
      "{'_id': ObjectId('682475961b85c2b6f71a5baa'), 'name': 'QA_Company'}\n",
      "{'_id': ObjectId('68259b511b85c2b6f71a5bdf'), 'name': 'Bunny House'}\n",
      "{'_id': ObjectId('68307b590582447f62edadd8'), 'name': 'Klizo QA'}\n",
      "{'_id': ObjectId('6835e66bc165a9e593e1ebb1'), 'name': 'ESCO Beach Vietnam'}\n",
      "{'_id': ObjectId('683dc273b72469b8444e42e0'), 'name': 'Show Me'}\n",
      "{'_id': ObjectId('683ee19fb72469b8444e42f8'), 'name': 'F comany'}\n",
      "{'_id': ObjectId('683eec13b72469b8444e4317'), 'name': 'Test'}\n",
      "{'_id': ObjectId('683ffda7b72469b8444e4328'), 'name': 'Apollo English Vietnam'}\n",
      "{'_id': ObjectId('6840848da060d5257c9c3d62'), 'name': 'Demo Company 2'}\n",
      "{'_id': ObjectId('6840858aa060d5257c9c3d6d'), 'name': 'Quality Analyst Company'}\n",
      "{'_id': ObjectId('68408808a060d5257c9c3d7b'), 'name': 'In magna dolore temp'}\n",
      "{'_id': ObjectId('684088d2a060d5257c9c3d88'), 'name': 'Demo Company 3'}\n",
      "{'_id': ObjectId('684092c320ea20e4aca311a5'), 'name': 'Demo Company 4'}\n",
      "{'_id': ObjectId('6841464320ea20e4aca31285'), 'name': 'Ad officia sed velit'}\n",
      "{'_id': ObjectId('684401e7eabd1dae68df0848'), 'name': 'Einstein Tech'}\n",
      "{'_id': ObjectId('6847eadbeabd1dae68df086b'), 'name': 'New Company Names'}\n",
      "{'_id': ObjectId('6847f945eabd1dae68df0873'), 'name': 'Testuikji87k6j7i'}\n",
      "{'_id': ObjectId('68496fd9eabd1dae68df08b3'), 'name': 'Klizo Solutions2'}\n",
      "{'_id': ObjectId('684af30dc939b52e8b71ab6d'), 'name': 'Klizo'}\n",
      "{'_id': ObjectId('684af483c939b52e8b71ab72'), 'name': 'Test Company'}\n",
      "{'_id': ObjectId('684bb3a5c939b52e8b71abaa'), 'name': 'Testing'}\n",
      "{'_id': ObjectId('684c0926c939b52e8b71abe7'), 'name': \"Rooj's Company\"}\n",
      "{'_id': ObjectId('684ea957c939b52e8b71ac3c'), 'name': 'Veniam at illum vo'}\n",
      "{'_id': ObjectId('68513789c939b52e8b71ad05'), 'name': 'internal-company'}\n",
      "{'_id': ObjectId('685aac944b21f9b04f264a9c'), 'name': \"Rooj's Solutions\"}\n",
      "{'_id': ObjectId('685bbb7f4b21f9b04f264afa'), 'name': 'Interview Screener_Klizo Solution'}\n",
      "{'_id': ObjectId('685becab4b21f9b04f264b57'), 'name': 'ABC Company'}\n",
      "{'_id': ObjectId('685bed9a4b21f9b04f264b5c'), 'name': 'Abcd Company'}\n",
      "{'_id': ObjectId('685bf70f4b21f9b04f264b63'), 'name': 'XYZ solutions'}\n",
      "{'_id': ObjectId('685bfeeb4b21f9b04f264b68'), 'name': 'Unde odit adipisicin'}\n"
     ]
    }
   ],
   "source": [
    "query = {\"name\":1}\n",
    "results = collection.find({}, query)\n",
    "for doc in results:\n",
    "    print(doc)\n"
   ]
  },
  {
   "cell_type": "code",
   "execution_count": 22,
   "id": "63206afa",
   "metadata": {},
   "outputs": [
    {
     "name": "stdout",
     "output_type": "stream",
     "text": [
      "{'name': 'Klizo Solutions'}\n",
      "{'name': 'Vietnam Australia International School'}\n",
      "{'name': 'Esco Beach'}\n",
      "{'name': 'Furarma Resort Danang'}\n",
      "{'name': 'Furama Resort Da Nang'}\n",
      "{'name': 'Singapore Internation School'}\n",
      "{'name': 'Production Company'}\n",
      "{'name': 'Demo Company'}\n",
      "{'name': 'QA_Company'}\n",
      "{'name': 'Bunny House'}\n",
      "{'name': 'Klizo QA'}\n",
      "{'name': 'ESCO Beach Vietnam'}\n",
      "{'name': 'Show Me'}\n",
      "{'name': 'F comany'}\n",
      "{'name': 'Test'}\n",
      "{'name': 'Apollo English Vietnam'}\n",
      "{'name': 'Demo Company 2'}\n",
      "{'name': 'Quality Analyst Company'}\n",
      "{'name': 'In magna dolore temp'}\n",
      "{'name': 'Demo Company 3'}\n",
      "{'name': 'Demo Company 4'}\n",
      "{'name': 'Ad officia sed velit'}\n",
      "{'name': 'Einstein Tech'}\n",
      "{'name': 'New Company Names'}\n",
      "{'name': 'Testuikji87k6j7i'}\n",
      "{'name': 'Klizo Solutions2'}\n",
      "{'name': 'Klizo'}\n",
      "{'name': 'Test Company'}\n",
      "{'name': 'Testing'}\n",
      "{'name': \"Rooj's Company\"}\n",
      "{'name': 'Veniam at illum vo'}\n",
      "{'name': 'internal-company'}\n",
      "{'name': \"Rooj's Solutions\"}\n",
      "{'name': 'Interview Screener_Klizo Solution'}\n",
      "{'name': 'ABC Company'}\n",
      "{'name': 'Abcd Company'}\n",
      "{'name': 'XYZ solutions'}\n",
      "{'name': 'Unde odit adipisicin'}\n"
     ]
    }
   ],
   "source": [
    "query = {\"name\": 1, \"_id\": 0}\n",
    "results = collection.find({}, query)\n",
    "for doc in results:\n",
    "    print(doc)\n"
   ]
  },
  {
   "cell_type": "code",
   "execution_count": null,
   "id": "e23c71b9",
   "metadata": {},
   "outputs": [],
   "source": []
  },
  {
   "cell_type": "markdown",
   "id": "3f624729",
   "metadata": {},
   "source": [
    "#### Filter out fields base on defined conditions"
   ]
  },
  {
   "cell_type": "markdown",
   "id": "9d927845",
   "metadata": {},
   "source": [
    "##### Filter company names based on mentioned organization_size"
   ]
  },
  {
   "cell_type": "code",
   "execution_count": 23,
   "id": "303cd4db",
   "metadata": {},
   "outputs": [],
   "source": [
    "# filtered_df = df[df['organization_size'] == '11-50'][['name']]\n"
   ]
  },
  {
   "cell_type": "code",
   "execution_count": 24,
   "id": "b0948538",
   "metadata": {},
   "outputs": [
    {
     "name": "stdout",
     "output_type": "stream",
     "text": [
      "{'name': 'Klizo Solutions'}\n",
      "{'name': 'Demo Company'}\n",
      "{'name': 'Demo Company 2'}\n",
      "{'name': 'Ad officia sed velit'}\n",
      "{'name': 'New Company Names'}\n",
      "{'name': 'Veniam at illum vo'}\n",
      "{'name': 'ABC Company'}\n",
      "{'name': 'Abcd Company'}\n"
     ]
    }
   ],
   "source": [
    "filter_expression = {\"organization_size\": \"11-50\"}\n",
    "projection = {\"name\": 1, \"_id\": 0}\n",
    "\n",
    "results = collection.find(filter_expression, projection)\n",
    "\n",
    "for doc in results:\n",
    "    print(doc)\n"
   ]
  },
  {
   "cell_type": "code",
   "execution_count": 25,
   "id": "afa435ae",
   "metadata": {},
   "outputs": [
    {
     "name": "stdout",
     "output_type": "stream",
     "text": [
      "{'name': 'Klizo Solutions'}\n",
      "{'name': 'Demo Company'}\n",
      "{'name': 'Demo Company 2'}\n",
      "{'name': 'Ad officia sed velit'}\n",
      "{'name': 'New Company Names'}\n",
      "{'name': 'Veniam at illum vo'}\n",
      "{'name': 'ABC Company'}\n",
      "{'name': 'Abcd Company'}\n"
     ]
    }
   ],
   "source": [
    "cursor = collection.find(\n",
    "    {\"organization_size\": \"11-50\"},  \n",
    "    {\"name\": 1, \"_id\": 0}            \n",
    ")\n",
    "\n",
    "for doc in cursor:\n",
    "    print(doc)\n"
   ]
  },
  {
   "cell_type": "code",
   "execution_count": 26,
   "id": "59112028",
   "metadata": {},
   "outputs": [
    {
     "name": "stdout",
     "output_type": "stream",
     "text": [
      "{'name': 'Klizo Solutions'}\n",
      "{'name': 'Demo Company'}\n",
      "{'name': 'Demo Company 2'}\n",
      "{'name': 'Ad officia sed velit'}\n",
      "{'name': 'New Company Names'}\n",
      "{'name': 'Veniam at illum vo'}\n",
      "{'name': 'ABC Company'}\n",
      "{'name': 'Abcd Company'}\n"
     ]
    }
   ],
   "source": [
    "query = [\n",
    "    {\n",
    "        \"$match\": {\n",
    "            \"organization_size\": \"11-50\",\n",
    "            \"name\": { \"$exists\": True, \"$ne\": None }\n",
    "        }\n",
    "    },\n",
    "    {\n",
    "        \"$project\": {\n",
    "            \"_id\": 0,\n",
    "            \"name\": 1\n",
    "        }\n",
    "    }\n",
    "]\n",
    "\n",
    "result = list(collection.aggregate(query))\n",
    "for doc in result:\n",
    "    print(doc)\n"
   ]
  },
  {
   "cell_type": "code",
   "execution_count": null,
   "id": "64791927",
   "metadata": {},
   "outputs": [],
   "source": []
  },
  {
   "cell_type": "markdown",
   "id": "eed1f948",
   "metadata": {},
   "source": [
    "##### Filter company names and company_type based on mentioned organization_size"
   ]
  },
  {
   "cell_type": "code",
   "execution_count": 27,
   "id": "13a1998b",
   "metadata": {},
   "outputs": [],
   "source": [
    "# filtered_df = df[df['organization_size'] == '11-50'][['name', 'company_type']]\n"
   ]
  },
  {
   "cell_type": "code",
   "execution_count": 28,
   "id": "7289e582",
   "metadata": {},
   "outputs": [
    {
     "name": "stdout",
     "output_type": "stream",
     "text": [
      "{'name': 'Klizo Solutions', 'company_type': 'corporation'}\n",
      "{'name': 'Demo Company', 'company_type': 'small-business'}\n",
      "{'name': 'Demo Company 2', 'company_type': 'corporation'}\n",
      "{'name': 'Ad officia sed velit', 'company_type': 'corporation'}\n",
      "{'name': 'New Company Names', 'company_type': 'enterprise'}\n",
      "{'name': 'Veniam at illum vo', 'company_type': 'manufacturing'}\n",
      "{'name': 'ABC Company', 'company_type': 'corporation'}\n",
      "{'name': 'Abcd Company', 'company_type': 'enterprise'}\n"
     ]
    }
   ],
   "source": [
    "query = [\n",
    "    {\n",
    "        \"$match\": {\n",
    "            \"organization_size\": \"11-50\",\n",
    "            \"name\": { \"$exists\": True, \"$ne\": None }\n",
    "        }\n",
    "    },\n",
    "    {\n",
    "        \"$project\": {\n",
    "            \"_id\": 0,\n",
    "            \"name\": 1,\n",
    "            \"company_type\": 1\n",
    "        }\n",
    "    }\n",
    "]\n",
    "\n",
    "result = list(collection.aggregate(query))\n",
    "for doc in result:\n",
    "    print(doc)\n"
   ]
  },
  {
   "cell_type": "code",
   "execution_count": null,
   "id": "ee9e6618",
   "metadata": {},
   "outputs": [],
   "source": []
  },
  {
   "cell_type": "markdown",
   "id": "293ebf22",
   "metadata": {},
   "source": [
    "#### Sorting company name in descending order then group by organization_size"
   ]
  },
  {
   "cell_type": "code",
   "execution_count": 29,
   "id": "5ff80d06",
   "metadata": {},
   "outputs": [],
   "source": [
    "# SELECT organization_size, name FROM df GROUP BY organization_size ORDER BY name DESC\n",
    "\n",
    "# df_sorted = df.sort_values(by='name', ascending=False)\n",
    "# df_grouped = df_sorted.groupby('organization_size').first().reset_index()\n",
    "# df_result = df_grouped[['organization_size', 'name']]\n"
   ]
  },
  {
   "cell_type": "markdown",
   "id": "59d273cb",
   "metadata": {},
   "source": [
    "##### return only the top company name for each group of organization size"
   ]
  },
  {
   "cell_type": "code",
   "execution_count": 30,
   "id": "9de46306",
   "metadata": {},
   "outputs": [
    {
     "name": "stdout",
     "output_type": "stream",
     "text": [
      "{'name': 'Vietnam Australia International School', 'organization_size': '200+'}\n",
      "{'name': 'Quality Analyst Company', 'organization_size': '51-200'}\n",
      "{'name': 'internal-company', 'organization_size': '1-10'}\n",
      "{'name': 'Veniam at illum vo', 'organization_size': '11-50'}\n"
     ]
    }
   ],
   "source": [
    "query = [\n",
    "    {\n",
    "        \"$sort\": {\n",
    "            \"name\": -1  \n",
    "        }\n",
    "    },\n",
    "    {\n",
    "        \"$group\": {\n",
    "            \"_id\": \"$organization_size\",\n",
    "            \"name\": { \"$first\": \"$name\" }\n",
    "        }\n",
    "    },\n",
    "    {\n",
    "        \"$project\": {\n",
    "            \"organization_size\": \"$_id\",\n",
    "            \"name\": 1,\n",
    "            \"_id\": 0\n",
    "        }\n",
    "    }\n",
    "]\n",
    "\n",
    "result = list(collection.aggregate(query))\n",
    "for doc in result:\n",
    "    print(doc)\n"
   ]
  },
  {
   "cell_type": "code",
   "execution_count": null,
   "id": "f13dbbf1",
   "metadata": {},
   "outputs": [],
   "source": []
  },
  {
   "cell_type": "markdown",
   "id": "bc267576",
   "metadata": {},
   "source": [
    "##### return all the company name for each group of organization size"
   ]
  },
  {
   "cell_type": "code",
   "execution_count": 31,
   "id": "21f0c5cf",
   "metadata": {},
   "outputs": [],
   "source": [
    "# df_result = df[['organization_size', 'name']].sort_values(by='organization_size', ascending=False)\n"
   ]
  },
  {
   "cell_type": "code",
   "execution_count": 32,
   "id": "203d4d9b",
   "metadata": {},
   "outputs": [
    {
     "name": "stdout",
     "output_type": "stream",
     "text": [
      "{'name': 'Klizo Solutions2', 'organization_size': '51-200'}\n",
      "{'name': 'Esco Beach', 'organization_size': '51-200'}\n",
      "{'name': 'Interview Screener_Klizo Solution', 'organization_size': '51-200'}\n",
      "{'name': 'In magna dolore temp', 'organization_size': '51-200'}\n",
      "{'name': 'Production Company', 'organization_size': '51-200'}\n",
      "{'name': 'Quality Analyst Company', 'organization_size': '51-200'}\n",
      "{'name': 'QA_Company', 'organization_size': '51-200'}\n",
      "{'name': 'Klizo QA', 'organization_size': '51-200'}\n",
      "{'name': 'ESCO Beach Vietnam', 'organization_size': '51-200'}\n",
      "{'name': 'F comany', 'organization_size': '51-200'}\n",
      "{'name': 'Testuikji87k6j7i', 'organization_size': '200+'}\n",
      "{'name': 'Test Company', 'organization_size': '200+'}\n",
      "{'name': 'Testing', 'organization_size': '200+'}\n",
      "{'name': 'Apollo English Vietnam', 'organization_size': '200+'}\n",
      "{'name': 'Test', 'organization_size': '200+'}\n",
      "{'name': 'Show Me', 'organization_size': '200+'}\n",
      "{'name': \"Rooj's Company\", 'organization_size': '200+'}\n",
      "{'name': 'Singapore Internation School', 'organization_size': '200+'}\n",
      "{'name': 'Furama Resort Da Nang', 'organization_size': '200+'}\n",
      "{'name': 'Furarma Resort Danang', 'organization_size': '200+'}\n",
      "{'name': 'Vietnam Australia International School', 'organization_size': '200+'}\n",
      "{'name': 'Veniam at illum vo', 'organization_size': '11-50'}\n",
      "{'name': 'Demo Company 2', 'organization_size': '11-50'}\n",
      "{'name': 'New Company Names', 'organization_size': '11-50'}\n",
      "{'name': 'ABC Company', 'organization_size': '11-50'}\n",
      "{'name': 'Ad officia sed velit', 'organization_size': '11-50'}\n",
      "{'name': 'Abcd Company', 'organization_size': '11-50'}\n",
      "{'name': 'Klizo Solutions', 'organization_size': '11-50'}\n",
      "{'name': 'Demo Company', 'organization_size': '11-50'}\n",
      "{'name': 'XYZ solutions', 'organization_size': '1-10'}\n",
      "{'name': 'Unde odit adipisicin', 'organization_size': '1-10'}\n",
      "{'name': \"Rooj's Solutions\", 'organization_size': '1-10'}\n",
      "{'name': 'internal-company', 'organization_size': '1-10'}\n",
      "{'name': 'Klizo', 'organization_size': '1-10'}\n",
      "{'name': 'Einstein Tech', 'organization_size': '1-10'}\n",
      "{'name': 'Demo Company 4', 'organization_size': '1-10'}\n",
      "{'name': 'Demo Company 3', 'organization_size': '1-10'}\n",
      "{'name': 'Bunny House', 'organization_size': '1-10'}\n"
     ]
    }
   ],
   "source": [
    "query = [\n",
    "    {\n",
    "        \"$project\": {\n",
    "            \"organization_size\": 1,\n",
    "            \"name\": 1,\n",
    "            \"_id\": 0\n",
    "        }\n",
    "    },\n",
    "    {\n",
    "        \"$sort\": {\n",
    "            \"organization_size\": -1 \n",
    "        }\n",
    "    }\n",
    "]\n",
    "\n",
    "result = list(collection.aggregate(query))\n",
    "for doc in result:\n",
    "    print(doc)\n"
   ]
  },
  {
   "cell_type": "code",
   "execution_count": null,
   "id": "284b8741",
   "metadata": {},
   "outputs": [],
   "source": []
  },
  {
   "cell_type": "code",
   "execution_count": null,
   "id": "58f6858a",
   "metadata": {},
   "outputs": [],
   "source": []
  },
  {
   "cell_type": "code",
   "execution_count": null,
   "id": "c2da1a69",
   "metadata": {},
   "outputs": [],
   "source": []
  }
 ],
 "metadata": {
  "kernelspec": {
   "display_name": "base",
   "language": "python",
   "name": "python3"
  },
  "language_info": {
   "codemirror_mode": {
    "name": "ipython",
    "version": 3
   },
   "file_extension": ".py",
   "mimetype": "text/x-python",
   "name": "python",
   "nbconvert_exporter": "python",
   "pygments_lexer": "ipython3",
   "version": "3.12.7"
  }
 },
 "nbformat": 4,
 "nbformat_minor": 5
}
