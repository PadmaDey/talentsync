{
 "cells": [
  {
   "cell_type": "code",
   "execution_count": 8,
   "id": "0befbbaf",
   "metadata": {},
   "outputs": [],
   "source": [
    "import pandas as pd\n",
    "pd.set_option(\"display.max_column\", None)\n"
   ]
  },
  {
   "cell_type": "code",
   "execution_count": 9,
   "id": "c9ab5a5f",
   "metadata": {},
   "outputs": [
    {
     "data": {
      "text/html": [
       "<div>\n",
       "<style scoped>\n",
       "    .dataframe tbody tr th:only-of-type {\n",
       "        vertical-align: middle;\n",
       "    }\n",
       "\n",
       "    .dataframe tbody tr th {\n",
       "        vertical-align: top;\n",
       "    }\n",
       "\n",
       "    .dataframe thead th {\n",
       "        text-align: right;\n",
       "    }\n",
       "</style>\n",
       "<table border=\"1\" class=\"dataframe\">\n",
       "  <thead>\n",
       "    <tr style=\"text-align: right;\">\n",
       "      <th></th>\n",
       "      <th>_id</th>\n",
       "      <th>firstname</th>\n",
       "      <th>lastname</th>\n",
       "      <th>email</th>\n",
       "      <th>password</th>\n",
       "      <th>created_at</th>\n",
       "      <th>updated_at</th>\n",
       "      <th>phone</th>\n",
       "      <th>job_role</th>\n",
       "      <th>status</th>\n",
       "      <th>role</th>\n",
       "      <th>company_id</th>\n",
       "      <th>social</th>\n",
       "      <th>account_state</th>\n",
       "      <th>auth_methods</th>\n",
       "      <th>google_id</th>\n",
       "      <th>social_mode</th>\n",
       "      <th>profile_pic_url</th>\n",
       "      <th>token_usage.gpt-4o-mini.input_token</th>\n",
       "      <th>token_usage.gpt-4o-mini.output_token</th>\n",
       "      <th>deleted</th>\n",
       "      <th>expireAt</th>\n",
       "      <th>linkedin_id</th>\n",
       "    </tr>\n",
       "  </thead>\n",
       "  <tbody>\n",
       "    <tr>\n",
       "      <th>76</th>\n",
       "      <td>684ae5ee2719cd46c108060b</td>\n",
       "      <td>NaN</td>\n",
       "      <td>NaN</td>\n",
       "      <td>NaN</td>\n",
       "      <td>NaN</td>\n",
       "      <td>NaN</td>\n",
       "      <td>NaN</td>\n",
       "      <td>NaN</td>\n",
       "      <td>NaN</td>\n",
       "      <td>NaN</td>\n",
       "      <td>NaN</td>\n",
       "      <td>NaN</td>\n",
       "      <td>NaN</td>\n",
       "      <td>NaN</td>\n",
       "      <td>NaN</td>\n",
       "      <td>NaN</td>\n",
       "      <td>NaN</td>\n",
       "      <td>NaN</td>\n",
       "      <td>1291.0</td>\n",
       "      <td>466.0</td>\n",
       "      <td>NaN</td>\n",
       "      <td>NaN</td>\n",
       "      <td>NaN</td>\n",
       "    </tr>\n",
       "    <tr>\n",
       "      <th>35</th>\n",
       "      <td>68307b2d0582447f62edadd5</td>\n",
       "      <td>Rahul</td>\n",
       "      <td>QA</td>\n",
       "      <td>rahul.k+qa@klizos.com</td>\n",
       "      <td>$2b$12$nLt98zIBg8.QRTjpnZ0s9eNxx2MrSpz8cFZvHw5...</td>\n",
       "      <td>2025-05-23 13:42:05.110</td>\n",
       "      <td>2025-05-23 13:42:13.580</td>\n",
       "      <td>NaN</td>\n",
       "      <td>QA</td>\n",
       "      <td>active</td>\n",
       "      <td>owner</td>\n",
       "      <td>68307b590582447f62edadd8</td>\n",
       "      <td>False</td>\n",
       "      <td>manual_only</td>\n",
       "      <td>['manual']</td>\n",
       "      <td>NaN</td>\n",
       "      <td>NaN</td>\n",
       "      <td>NaN</td>\n",
       "      <td>13050.0</td>\n",
       "      <td>5562.0</td>\n",
       "      <td>NaN</td>\n",
       "      <td>NaN</td>\n",
       "      <td>NaN</td>\n",
       "    </tr>\n",
       "  </tbody>\n",
       "</table>\n",
       "</div>"
      ],
      "text/plain": [
       "                         _id firstname lastname                  email  \\\n",
       "76  684ae5ee2719cd46c108060b       NaN      NaN                    NaN   \n",
       "35  68307b2d0582447f62edadd5     Rahul       QA  rahul.k+qa@klizos.com   \n",
       "\n",
       "                                             password  \\\n",
       "76                                                NaN   \n",
       "35  $2b$12$nLt98zIBg8.QRTjpnZ0s9eNxx2MrSpz8cFZvHw5...   \n",
       "\n",
       "                 created_at               updated_at phone job_role  status  \\\n",
       "76                      NaN                      NaN   NaN      NaN     NaN   \n",
       "35  2025-05-23 13:42:05.110  2025-05-23 13:42:13.580   NaN       QA  active   \n",
       "\n",
       "     role                company_id social account_state auth_methods  \\\n",
       "76    NaN                       NaN    NaN           NaN          NaN   \n",
       "35  owner  68307b590582447f62edadd8  False   manual_only   ['manual']   \n",
       "\n",
       "   google_id social_mode profile_pic_url  token_usage.gpt-4o-mini.input_token  \\\n",
       "76       NaN         NaN             NaN                               1291.0   \n",
       "35       NaN         NaN             NaN                              13050.0   \n",
       "\n",
       "    token_usage.gpt-4o-mini.output_token deleted expireAt linkedin_id  \n",
       "76                                 466.0     NaN      NaN         NaN  \n",
       "35                                5562.0     NaN      NaN         NaN  "
      ]
     },
     "execution_count": 9,
     "metadata": {},
     "output_type": "execute_result"
    }
   ],
   "source": [
    "df = pd.read_csv(\"../../production_data/raw_data_dump/users.csv\")\n",
    "df.sample(2)\n"
   ]
  },
  {
   "cell_type": "code",
   "execution_count": 10,
   "id": "64b92d58",
   "metadata": {},
   "outputs": [
    {
     "name": "stdout",
     "output_type": "stream",
     "text": [
      "shape:  (178, 23)\n",
      "Columns:  Index(['_id', 'firstname', 'lastname', 'email', 'password', 'created_at',\n",
      "       'updated_at', 'phone', 'job_role', 'status', 'role', 'company_id',\n",
      "       'social', 'account_state', 'auth_methods', 'google_id', 'social_mode',\n",
      "       'profile_pic_url', 'token_usage.gpt-4o-mini.input_token',\n",
      "       'token_usage.gpt-4o-mini.output_token', 'deleted', 'expireAt',\n",
      "       'linkedin_id'],\n",
      "      dtype='object')\n"
     ]
    }
   ],
   "source": [
    "print(\"shape: \", df.shape)\n",
    "print(\"Columns: \", df.columns)\n"
   ]
  },
  {
   "cell_type": "code",
   "execution_count": 11,
   "id": "c21af271",
   "metadata": {},
   "outputs": [
    {
     "name": "stdout",
     "output_type": "stream",
     "text": [
      "<class 'pandas.core.frame.DataFrame'>\n",
      "RangeIndex: 178 entries, 0 to 177\n",
      "Data columns (total 23 columns):\n",
      " #   Column                                Non-Null Count  Dtype  \n",
      "---  ------                                --------------  -----  \n",
      " 0   _id                                   178 non-null    object \n",
      " 1   firstname                             88 non-null     object \n",
      " 2   lastname                              87 non-null     object \n",
      " 3   email                                 88 non-null     object \n",
      " 4   password                              73 non-null     object \n",
      " 5   created_at                            88 non-null     object \n",
      " 6   updated_at                            88 non-null     object \n",
      " 7   phone                                 17 non-null     object \n",
      " 8   job_role                              35 non-null     object \n",
      " 9   status                                88 non-null     object \n",
      " 10  role                                  88 non-null     object \n",
      " 11  company_id                            68 non-null     object \n",
      " 12  social                                87 non-null     object \n",
      " 13  account_state                         88 non-null     object \n",
      " 14  auth_methods                          88 non-null     object \n",
      " 15  google_id                             12 non-null     object \n",
      " 16  social_mode                           13 non-null     object \n",
      " 17  profile_pic_url                       13 non-null     object \n",
      " 18  token_usage.gpt-4o-mini.input_token   130 non-null    float64\n",
      " 19  token_usage.gpt-4o-mini.output_token  130 non-null    float64\n",
      " 20  deleted                               14 non-null     object \n",
      " 21  expireAt                              9 non-null      object \n",
      " 22  linkedin_id                           1 non-null      object \n",
      "dtypes: float64(2), object(21)\n",
      "memory usage: 32.1+ KB\n"
     ]
    }
   ],
   "source": [
    "df.info()\n"
   ]
  },
  {
   "cell_type": "code",
   "execution_count": null,
   "id": "06b66da9",
   "metadata": {},
   "outputs": [],
   "source": []
  }
 ],
 "metadata": {
  "kernelspec": {
   "display_name": "base",
   "language": "python",
   "name": "python3"
  },
  "language_info": {
   "codemirror_mode": {
    "name": "ipython",
    "version": 3
   },
   "file_extension": ".py",
   "mimetype": "text/x-python",
   "name": "python",
   "nbconvert_exporter": "python",
   "pygments_lexer": "ipython3",
   "version": "3.12.7"
  }
 },
 "nbformat": 4,
 "nbformat_minor": 5
}
