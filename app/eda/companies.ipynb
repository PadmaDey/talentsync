{
 "cells": [
  {
   "cell_type": "code",
   "execution_count": 4,
   "id": "63aa82e5",
   "metadata": {},
   "outputs": [],
   "source": [
    "import pandas as pd\n",
    "pd.set_option(\"display.max_column\", None)\n"
   ]
  },
  {
   "cell_type": "code",
   "execution_count": 5,
   "id": "e154da2c",
   "metadata": {},
   "outputs": [
    {
     "data": {
      "text/html": [
       "<div>\n",
       "<style scoped>\n",
       "    .dataframe tbody tr th:only-of-type {\n",
       "        vertical-align: middle;\n",
       "    }\n",
       "\n",
       "    .dataframe tbody tr th {\n",
       "        vertical-align: top;\n",
       "    }\n",
       "\n",
       "    .dataframe thead th {\n",
       "        text-align: right;\n",
       "    }\n",
       "</style>\n",
       "<table border=\"1\" class=\"dataframe\">\n",
       "  <thead>\n",
       "    <tr style=\"text-align: right;\">\n",
       "      <th></th>\n",
       "      <th>_id</th>\n",
       "      <th>name</th>\n",
       "      <th>organization_size</th>\n",
       "      <th>company_type</th>\n",
       "      <th>created_at</th>\n",
       "      <th>updated_at</th>\n",
       "      <th>is_deleted</th>\n",
       "    </tr>\n",
       "  </thead>\n",
       "  <tbody>\n",
       "    <tr>\n",
       "      <th>13</th>\n",
       "      <td>683ee19fb72469b8444e42f8</td>\n",
       "      <td>F comany</td>\n",
       "      <td>51-200</td>\n",
       "      <td>enterprise</td>\n",
       "      <td>2025-06-03 11:50:55.490</td>\n",
       "      <td>2025-06-03 11:50:55.490</td>\n",
       "      <td>False</td>\n",
       "    </tr>\n",
       "    <tr>\n",
       "      <th>16</th>\n",
       "      <td>6840848da060d5257c9c3d62</td>\n",
       "      <td>Demo Company 2</td>\n",
       "      <td>11-50</td>\n",
       "      <td>corporation</td>\n",
       "      <td>2025-06-04 17:38:21.026</td>\n",
       "      <td>2025-06-04 17:38:21.026</td>\n",
       "      <td>False</td>\n",
       "    </tr>\n",
       "  </tbody>\n",
       "</table>\n",
       "</div>"
      ],
      "text/plain": [
       "                         _id            name organization_size company_type  \\\n",
       "13  683ee19fb72469b8444e42f8        F comany            51-200   enterprise   \n",
       "16  6840848da060d5257c9c3d62  Demo Company 2             11-50  corporation   \n",
       "\n",
       "                 created_at               updated_at  is_deleted  \n",
       "13  2025-06-03 11:50:55.490  2025-06-03 11:50:55.490       False  \n",
       "16  2025-06-04 17:38:21.026  2025-06-04 17:38:21.026       False  "
      ]
     },
     "execution_count": 5,
     "metadata": {},
     "output_type": "execute_result"
    }
   ],
   "source": [
    "df = pd.read_csv(\"../../production_data/raw_data_dump/companies.csv\")\n",
    "df.sample(2)\n"
   ]
  },
  {
   "cell_type": "code",
   "execution_count": 6,
   "id": "2a542841",
   "metadata": {},
   "outputs": [
    {
     "name": "stdout",
     "output_type": "stream",
     "text": [
      "shape:  (33, 7)\n",
      "Columns:  Index(['_id', 'name', 'organization_size', 'company_type', 'created_at',\n",
      "       'updated_at', 'is_deleted'],\n",
      "      dtype='object')\n"
     ]
    }
   ],
   "source": [
    "print(\"shape: \", df.shape)\n",
    "print(\"Columns: \", df.columns)\n"
   ]
  },
  {
   "cell_type": "code",
   "execution_count": 7,
   "id": "a922763f",
   "metadata": {},
   "outputs": [
    {
     "name": "stdout",
     "output_type": "stream",
     "text": [
      "<class 'pandas.core.frame.DataFrame'>\n",
      "RangeIndex: 33 entries, 0 to 32\n",
      "Data columns (total 7 columns):\n",
      " #   Column             Non-Null Count  Dtype \n",
      "---  ------             --------------  ----- \n",
      " 0   _id                33 non-null     object\n",
      " 1   name               33 non-null     object\n",
      " 2   organization_size  33 non-null     object\n",
      " 3   company_type       33 non-null     object\n",
      " 4   created_at         33 non-null     object\n",
      " 5   updated_at         33 non-null     object\n",
      " 6   is_deleted         33 non-null     bool  \n",
      "dtypes: bool(1), object(6)\n",
      "memory usage: 1.7+ KB\n"
     ]
    }
   ],
   "source": [
    "df.info()\n"
   ]
  },
  {
   "cell_type": "code",
   "execution_count": null,
   "id": "1ab5bf8f",
   "metadata": {},
   "outputs": [],
   "source": []
  }
 ],
 "metadata": {
  "kernelspec": {
   "display_name": "base",
   "language": "python",
   "name": "python3"
  },
  "language_info": {
   "codemirror_mode": {
    "name": "ipython",
    "version": 3
   },
   "file_extension": ".py",
   "mimetype": "text/x-python",
   "name": "python",
   "nbconvert_exporter": "python",
   "pygments_lexer": "ipython3",
   "version": "3.12.7"
  }
 },
 "nbformat": 4,
 "nbformat_minor": 5
}
