{
 "cells": [
  {
   "cell_type": "code",
   "execution_count": 4,
   "id": "13f42751",
   "metadata": {},
   "outputs": [],
   "source": [
    "import pandas as pd\n",
    "pd.set_option(\"display.max_column\", None)\n"
   ]
  },
  {
   "cell_type": "code",
   "execution_count": 5,
   "id": "da078d27",
   "metadata": {},
   "outputs": [
    {
     "data": {
      "text/html": [
       "<div>\n",
       "<style scoped>\n",
       "    .dataframe tbody tr th:only-of-type {\n",
       "        vertical-align: middle;\n",
       "    }\n",
       "\n",
       "    .dataframe tbody tr th {\n",
       "        vertical-align: top;\n",
       "    }\n",
       "\n",
       "    .dataframe thead th {\n",
       "        text-align: right;\n",
       "    }\n",
       "</style>\n",
       "<table border=\"1\" class=\"dataframe\">\n",
       "  <thead>\n",
       "    <tr style=\"text-align: right;\">\n",
       "      <th></th>\n",
       "      <th>_id</th>\n",
       "      <th>error</th>\n",
       "      <th>cv_directory_link</th>\n",
       "      <th>batch_id</th>\n",
       "      <th>job_id</th>\n",
       "      <th>company_id</th>\n",
       "      <th>created_at</th>\n",
       "      <th>updated_at</th>\n",
       "      <th>cv_path</th>\n",
       "    </tr>\n",
       "  </thead>\n",
       "  <tbody>\n",
       "    <tr>\n",
       "      <th>241</th>\n",
       "      <td>68400dc7b72469b8444e4378</td>\n",
       "      <td>too many values to unpack (expected 2)</td>\n",
       "      <td>CVs/3a54545e</td>\n",
       "      <td>b'G\\x7f\\x9a\\xd8| ^\\x8f\\x84\\xc3\\x93\\x96\\xf8L\\xc87'</td>\n",
       "      <td>683fff3ab72469b8444e4332</td>\n",
       "      <td>683ffda7b72469b8444e4328</td>\n",
       "      <td>2025-06-04 09:09:08.058</td>\n",
       "      <td>2025-06-04 09:09:08.058</td>\n",
       "      <td>._Thanh Lu (Brandon) Resume_1749028103.977617.pdf</td>\n",
       "    </tr>\n",
       "    <tr>\n",
       "      <th>84</th>\n",
       "      <td>6822f7676342bdaa11723a20</td>\n",
       "      <td>too many values to unpack (expected 2)</td>\n",
       "      <td>CVs/5cda1f78</td>\n",
       "      <td>b'.\\x95\\xe2\\x8f(W^\\xd6\\xb7dM\\xd3bs\\x04\\xd2'</td>\n",
       "      <td>6822eaf56342bdaa117239bd</td>\n",
       "      <td>6822e3346342bdaa117239ba</td>\n",
       "      <td>2025-05-13 07:37:46.224</td>\n",
       "      <td>2025-05-13 07:37:46.224</td>\n",
       "      <td>NaN</td>\n",
       "    </tr>\n",
       "  </tbody>\n",
       "</table>\n",
       "</div>"
      ],
      "text/plain": [
       "                          _id                                   error  \\\n",
       "241  68400dc7b72469b8444e4378  too many values to unpack (expected 2)   \n",
       "84   6822f7676342bdaa11723a20  too many values to unpack (expected 2)   \n",
       "\n",
       "    cv_directory_link                                           batch_id  \\\n",
       "241      CVs/3a54545e  b'G\\x7f\\x9a\\xd8| ^\\x8f\\x84\\xc3\\x93\\x96\\xf8L\\xc87'   \n",
       "84       CVs/5cda1f78        b'.\\x95\\xe2\\x8f(W^\\xd6\\xb7dM\\xd3bs\\x04\\xd2'   \n",
       "\n",
       "                       job_id                company_id  \\\n",
       "241  683fff3ab72469b8444e4332  683ffda7b72469b8444e4328   \n",
       "84   6822eaf56342bdaa117239bd  6822e3346342bdaa117239ba   \n",
       "\n",
       "                  created_at               updated_at  \\\n",
       "241  2025-06-04 09:09:08.058  2025-06-04 09:09:08.058   \n",
       "84   2025-05-13 07:37:46.224  2025-05-13 07:37:46.224   \n",
       "\n",
       "                                               cv_path  \n",
       "241  ._Thanh Lu (Brandon) Resume_1749028103.977617.pdf  \n",
       "84                                                 NaN  "
      ]
     },
     "execution_count": 5,
     "metadata": {},
     "output_type": "execute_result"
    }
   ],
   "source": [
    "df = pd.read_csv(\"../../production_data/raw_data_dump/candidates_errors.csv\")\n",
    "df.sample(2)\n"
   ]
  },
  {
   "cell_type": "code",
   "execution_count": 6,
   "id": "3b30d78b",
   "metadata": {},
   "outputs": [
    {
     "name": "stdout",
     "output_type": "stream",
     "text": [
      "shape:  (368, 9)\n",
      "Columns:  Index(['_id', 'error', 'cv_directory_link', 'batch_id', 'job_id', 'company_id',\n",
      "       'created_at', 'updated_at', 'cv_path'],\n",
      "      dtype='object')\n"
     ]
    }
   ],
   "source": [
    "print(\"shape: \", df.shape)\n",
    "print(\"Columns: \", df.columns)\n"
   ]
  },
  {
   "cell_type": "code",
   "execution_count": 7,
   "id": "fb30eb7d",
   "metadata": {},
   "outputs": [
    {
     "name": "stdout",
     "output_type": "stream",
     "text": [
      "<class 'pandas.core.frame.DataFrame'>\n",
      "RangeIndex: 368 entries, 0 to 367\n",
      "Data columns (total 9 columns):\n",
      " #   Column             Non-Null Count  Dtype \n",
      "---  ------             --------------  ----- \n",
      " 0   _id                368 non-null    object\n",
      " 1   error              368 non-null    object\n",
      " 2   cv_directory_link  368 non-null    object\n",
      " 3   batch_id           368 non-null    object\n",
      " 4   job_id             368 non-null    object\n",
      " 5   company_id         368 non-null    object\n",
      " 6   created_at         368 non-null    object\n",
      " 7   updated_at         368 non-null    object\n",
      " 8   cv_path            278 non-null    object\n",
      "dtypes: object(9)\n",
      "memory usage: 26.0+ KB\n"
     ]
    }
   ],
   "source": [
    "df.info()\n"
   ]
  },
  {
   "cell_type": "code",
   "execution_count": null,
   "id": "a002bf0d",
   "metadata": {},
   "outputs": [],
   "source": []
  }
 ],
 "metadata": {
  "kernelspec": {
   "display_name": "base",
   "language": "python",
   "name": "python3"
  },
  "language_info": {
   "codemirror_mode": {
    "name": "ipython",
    "version": 3
   },
   "file_extension": ".py",
   "mimetype": "text/x-python",
   "name": "python",
   "nbconvert_exporter": "python",
   "pygments_lexer": "ipython3",
   "version": "3.12.7"
  }
 },
 "nbformat": 4,
 "nbformat_minor": 5
}
