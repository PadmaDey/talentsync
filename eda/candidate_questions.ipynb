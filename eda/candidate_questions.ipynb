{
 "cells": [
  {
   "cell_type": "code",
   "execution_count": 1,
   "id": "efe790e1",
   "metadata": {},
   "outputs": [],
   "source": [
    "import pandas as pd\n"
   ]
  },
  {
   "cell_type": "code",
   "execution_count": 2,
   "id": "384ec772",
   "metadata": {},
   "outputs": [
    {
     "data": {
      "text/html": [
       "<div>\n",
       "<style scoped>\n",
       "    .dataframe tbody tr th:only-of-type {\n",
       "        vertical-align: middle;\n",
       "    }\n",
       "\n",
       "    .dataframe tbody tr th {\n",
       "        vertical-align: top;\n",
       "    }\n",
       "\n",
       "    .dataframe thead th {\n",
       "        text-align: right;\n",
       "    }\n",
       "</style>\n",
       "<table border=\"1\" class=\"dataframe\">\n",
       "  <thead>\n",
       "    <tr style=\"text-align: right;\">\n",
       "      <th></th>\n",
       "      <th>_id</th>\n",
       "      <th>candidate_id</th>\n",
       "      <th>questions</th>\n",
       "      <th>created_at</th>\n",
       "      <th>updated_at</th>\n",
       "    </tr>\n",
       "  </thead>\n",
       "  <tbody>\n",
       "    <tr>\n",
       "      <th>0</th>\n",
       "      <td>6821f0a86342bdaa1172396c</td>\n",
       "      <td>6821f0883d9e6a1581409215</td>\n",
       "      <td>['Given your extensive experience in human res...</td>\n",
       "      <td>2025-05-12 12:58:58.355</td>\n",
       "      <td>2025-05-12 12:58:58.355</td>\n",
       "    </tr>\n",
       "    <tr>\n",
       "      <th>1</th>\n",
       "      <td>6821f0a86342bdaa1172396d</td>\n",
       "      <td>6821f0883d9e6a1581409216</td>\n",
       "      <td>['Can you describe any experience you have wit...</td>\n",
       "      <td>2025-05-12 12:59:04.359</td>\n",
       "      <td>2025-05-12 12:59:04.359</td>\n",
       "    </tr>\n",
       "  </tbody>\n",
       "</table>\n",
       "</div>"
      ],
      "text/plain": [
       "                        _id              candidate_id  \\\n",
       "0  6821f0a86342bdaa1172396c  6821f0883d9e6a1581409215   \n",
       "1  6821f0a86342bdaa1172396d  6821f0883d9e6a1581409216   \n",
       "\n",
       "                                           questions               created_at  \\\n",
       "0  ['Given your extensive experience in human res...  2025-05-12 12:58:58.355   \n",
       "1  ['Can you describe any experience you have wit...  2025-05-12 12:59:04.359   \n",
       "\n",
       "                updated_at  \n",
       "0  2025-05-12 12:58:58.355  \n",
       "1  2025-05-12 12:59:04.359  "
      ]
     },
     "execution_count": 2,
     "metadata": {},
     "output_type": "execute_result"
    }
   ],
   "source": [
    "df_candidate_questions = pd.read_csv(\"../production_data/raw_data_dump/candidate_questions.csv\")\n",
    "df_candidate_questions.head(2)\n"
   ]
  },
  {
   "cell_type": "code",
   "execution_count": 3,
   "id": "454ae7d3",
   "metadata": {},
   "outputs": [
    {
     "data": {
      "text/plain": [
       "Index(['_id', 'candidate_id', 'questions', 'created_at', 'updated_at'], dtype='object')"
      ]
     },
     "execution_count": 3,
     "metadata": {},
     "output_type": "execute_result"
    }
   ],
   "source": [
    "df_candidate_questions.columns\n"
   ]
  },
  {
   "cell_type": "code",
   "execution_count": null,
   "id": "4341f4b6",
   "metadata": {},
   "outputs": [],
   "source": []
  }
 ],
 "metadata": {
  "kernelspec": {
   "display_name": "base",
   "language": "python",
   "name": "python3"
  },
  "language_info": {
   "codemirror_mode": {
    "name": "ipython",
    "version": 3
   },
   "file_extension": ".py",
   "mimetype": "text/x-python",
   "name": "python",
   "nbconvert_exporter": "python",
   "pygments_lexer": "ipython3",
   "version": "3.12.7"
  }
 },
 "nbformat": 4,
 "nbformat_minor": 5
}
