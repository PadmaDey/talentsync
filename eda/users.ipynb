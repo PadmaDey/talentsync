{
 "cells": [
  {
   "cell_type": "code",
   "execution_count": 1,
   "id": "0befbbaf",
   "metadata": {},
   "outputs": [],
   "source": [
    "import pandas as pd\n"
   ]
  },
  {
   "cell_type": "code",
   "execution_count": 3,
   "id": "c9ab5a5f",
   "metadata": {},
   "outputs": [
    {
     "data": {
      "text/html": [
       "<div>\n",
       "<style scoped>\n",
       "    .dataframe tbody tr th:only-of-type {\n",
       "        vertical-align: middle;\n",
       "    }\n",
       "\n",
       "    .dataframe tbody tr th {\n",
       "        vertical-align: top;\n",
       "    }\n",
       "\n",
       "    .dataframe thead th {\n",
       "        text-align: right;\n",
       "    }\n",
       "</style>\n",
       "<table border=\"1\" class=\"dataframe\">\n",
       "  <thead>\n",
       "    <tr style=\"text-align: right;\">\n",
       "      <th></th>\n",
       "      <th>_id</th>\n",
       "      <th>firstname</th>\n",
       "      <th>lastname</th>\n",
       "      <th>email</th>\n",
       "      <th>password</th>\n",
       "      <th>created_at</th>\n",
       "      <th>updated_at</th>\n",
       "      <th>phone</th>\n",
       "      <th>job_role</th>\n",
       "      <th>status</th>\n",
       "      <th>...</th>\n",
       "      <th>account_state</th>\n",
       "      <th>auth_methods</th>\n",
       "      <th>google_id</th>\n",
       "      <th>social_mode</th>\n",
       "      <th>profile_pic_url</th>\n",
       "      <th>token_usage.gpt-4o-mini.input_token</th>\n",
       "      <th>token_usage.gpt-4o-mini.output_token</th>\n",
       "      <th>deleted</th>\n",
       "      <th>expireAt</th>\n",
       "      <th>linkedin_id</th>\n",
       "    </tr>\n",
       "  </thead>\n",
       "  <tbody>\n",
       "    <tr>\n",
       "      <th>0</th>\n",
       "      <td>6818f8b61ec8f4553059c408</td>\n",
       "      <td>Subhadeep</td>\n",
       "      <td>Banerjee</td>\n",
       "      <td>subhadeep@klizos.com</td>\n",
       "      <td>$2b$12$LLaZuBdx5PILWNBn4O4t7OrS58VlQHHW0x69TeF...</td>\n",
       "      <td>2025-05-05 17:43:18.484</td>\n",
       "      <td>2025-06-10 16:54:25.485</td>\n",
       "      <td>NaN</td>\n",
       "      <td>Lead Software Engineer</td>\n",
       "      <td>active</td>\n",
       "      <td>...</td>\n",
       "      <td>manual_google</td>\n",
       "      <td>['manual', 'google']</td>\n",
       "      <td>106786127312041139932</td>\n",
       "      <td>google</td>\n",
       "      <td>https://talentsync-production.s3.us-east-2.ama...</td>\n",
       "      <td>1667.0</td>\n",
       "      <td>965.0</td>\n",
       "      <td>NaN</td>\n",
       "      <td>NaN</td>\n",
       "      <td>NaN</td>\n",
       "    </tr>\n",
       "    <tr>\n",
       "      <th>1</th>\n",
       "      <td>6818f9461ec8f4553059c40c</td>\n",
       "      <td>Joseph</td>\n",
       "      <td>Ricard</td>\n",
       "      <td>joey@klizos.com</td>\n",
       "      <td>$2b$12$AVyPehV2O5S6mPDcq10DJelhTUERQXHS7T4Wj.i...</td>\n",
       "      <td>2025-05-05 17:45:42.541</td>\n",
       "      <td>2025-05-29 13:51:08.435</td>\n",
       "      <td>19546040324</td>\n",
       "      <td>NaN</td>\n",
       "      <td>active</td>\n",
       "      <td>...</td>\n",
       "      <td>manual_google</td>\n",
       "      <td>['manual', 'google']</td>\n",
       "      <td>110863197786455303728</td>\n",
       "      <td>google</td>\n",
       "      <td>NaN</td>\n",
       "      <td>1098932.0</td>\n",
       "      <td>346911.0</td>\n",
       "      <td>NaN</td>\n",
       "      <td>NaN</td>\n",
       "      <td>NaN</td>\n",
       "    </tr>\n",
       "  </tbody>\n",
       "</table>\n",
       "<p>2 rows × 23 columns</p>\n",
       "</div>"
      ],
      "text/plain": [
       "                        _id  firstname  lastname                 email  \\\n",
       "0  6818f8b61ec8f4553059c408  Subhadeep  Banerjee  subhadeep@klizos.com   \n",
       "1  6818f9461ec8f4553059c40c     Joseph    Ricard       joey@klizos.com   \n",
       "\n",
       "                                            password               created_at  \\\n",
       "0  $2b$12$LLaZuBdx5PILWNBn4O4t7OrS58VlQHHW0x69TeF...  2025-05-05 17:43:18.484   \n",
       "1  $2b$12$AVyPehV2O5S6mPDcq10DJelhTUERQXHS7T4Wj.i...  2025-05-05 17:45:42.541   \n",
       "\n",
       "                updated_at        phone                job_role  status  ...  \\\n",
       "0  2025-06-10 16:54:25.485          NaN  Lead Software Engineer  active  ...   \n",
       "1  2025-05-29 13:51:08.435  19546040324                     NaN  active  ...   \n",
       "\n",
       "   account_state          auth_methods              google_id social_mode  \\\n",
       "0  manual_google  ['manual', 'google']  106786127312041139932      google   \n",
       "1  manual_google  ['manual', 'google']  110863197786455303728      google   \n",
       "\n",
       "                                     profile_pic_url  \\\n",
       "0  https://talentsync-production.s3.us-east-2.ama...   \n",
       "1                                                NaN   \n",
       "\n",
       "  token_usage.gpt-4o-mini.input_token token_usage.gpt-4o-mini.output_token  \\\n",
       "0                              1667.0                                965.0   \n",
       "1                           1098932.0                             346911.0   \n",
       "\n",
       "  deleted  expireAt  linkedin_id  \n",
       "0     NaN       NaN          NaN  \n",
       "1     NaN       NaN          NaN  \n",
       "\n",
       "[2 rows x 23 columns]"
      ]
     },
     "execution_count": 3,
     "metadata": {},
     "output_type": "execute_result"
    }
   ],
   "source": [
    "df_users = pd.read_csv(\"../production_data/raw_data_dump/users.csv\")\n",
    "df_users.head(2)\n"
   ]
  },
  {
   "cell_type": "code",
   "execution_count": 4,
   "id": "bd1e16fe",
   "metadata": {},
   "outputs": [
    {
     "data": {
      "text/plain": [
       "Index(['_id', 'firstname', 'lastname', 'email', 'password', 'created_at',\n",
       "       'updated_at', 'phone', 'job_role', 'status', 'role', 'company_id',\n",
       "       'social', 'account_state', 'auth_methods', 'google_id', 'social_mode',\n",
       "       'profile_pic_url', 'token_usage.gpt-4o-mini.input_token',\n",
       "       'token_usage.gpt-4o-mini.output_token', 'deleted', 'expireAt',\n",
       "       'linkedin_id'],\n",
       "      dtype='object')"
      ]
     },
     "execution_count": 4,
     "metadata": {},
     "output_type": "execute_result"
    }
   ],
   "source": [
    "df_users.columns\n"
   ]
  },
  {
   "cell_type": "code",
   "execution_count": null,
   "id": "dbdd9c67",
   "metadata": {},
   "outputs": [],
   "source": []
  }
 ],
 "metadata": {
  "kernelspec": {
   "display_name": "base",
   "language": "python",
   "name": "python3"
  },
  "language_info": {
   "codemirror_mode": {
    "name": "ipython",
    "version": 3
   },
   "file_extension": ".py",
   "mimetype": "text/x-python",
   "name": "python",
   "nbconvert_exporter": "python",
   "pygments_lexer": "ipython3",
   "version": "3.12.7"
  }
 },
 "nbformat": 4,
 "nbformat_minor": 5
}
