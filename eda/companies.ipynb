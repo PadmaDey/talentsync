{
 "cells": [
  {
   "cell_type": "code",
   "execution_count": 1,
   "id": "63aa82e5",
   "metadata": {},
   "outputs": [],
   "source": [
    "import pandas as pd\n"
   ]
  },
  {
   "cell_type": "code",
   "execution_count": 2,
   "id": "e154da2c",
   "metadata": {},
   "outputs": [
    {
     "data": {
      "text/html": [
       "<div>\n",
       "<style scoped>\n",
       "    .dataframe tbody tr th:only-of-type {\n",
       "        vertical-align: middle;\n",
       "    }\n",
       "\n",
       "    .dataframe tbody tr th {\n",
       "        vertical-align: top;\n",
       "    }\n",
       "\n",
       "    .dataframe thead th {\n",
       "        text-align: right;\n",
       "    }\n",
       "</style>\n",
       "<table border=\"1\" class=\"dataframe\">\n",
       "  <thead>\n",
       "    <tr style=\"text-align: right;\">\n",
       "      <th></th>\n",
       "      <th>_id</th>\n",
       "      <th>name</th>\n",
       "      <th>organization_size</th>\n",
       "      <th>company_type</th>\n",
       "      <th>created_at</th>\n",
       "      <th>updated_at</th>\n",
       "      <th>is_deleted</th>\n",
       "    </tr>\n",
       "  </thead>\n",
       "  <tbody>\n",
       "    <tr>\n",
       "      <th>0</th>\n",
       "      <td>681c861b1cf44d32fe03095e</td>\n",
       "      <td>Klizo Solutions</td>\n",
       "      <td>11-50</td>\n",
       "      <td>corporation</td>\n",
       "      <td>2025-05-08 10:23:23.615</td>\n",
       "      <td>2025-05-08 10:23:23.615</td>\n",
       "      <td>False</td>\n",
       "    </tr>\n",
       "    <tr>\n",
       "      <th>1</th>\n",
       "      <td>681c86b51cf44d32fe030963</td>\n",
       "      <td>Vietnam Australia International School</td>\n",
       "      <td>200+</td>\n",
       "      <td>corporation</td>\n",
       "      <td>2025-05-08 10:25:57.981</td>\n",
       "      <td>2025-05-08 10:25:57.981</td>\n",
       "      <td>False</td>\n",
       "    </tr>\n",
       "  </tbody>\n",
       "</table>\n",
       "</div>"
      ],
      "text/plain": [
       "                        _id                                    name  \\\n",
       "0  681c861b1cf44d32fe03095e                         Klizo Solutions   \n",
       "1  681c86b51cf44d32fe030963  Vietnam Australia International School   \n",
       "\n",
       "  organization_size company_type               created_at  \\\n",
       "0             11-50  corporation  2025-05-08 10:23:23.615   \n",
       "1              200+  corporation  2025-05-08 10:25:57.981   \n",
       "\n",
       "                updated_at  is_deleted  \n",
       "0  2025-05-08 10:23:23.615       False  \n",
       "1  2025-05-08 10:25:57.981       False  "
      ]
     },
     "execution_count": 2,
     "metadata": {},
     "output_type": "execute_result"
    }
   ],
   "source": [
    "df_companies = pd.read_csv(\"../production_data/raw_data_dump/companies.csv\")\n",
    "df_companies.head(2)\n"
   ]
  },
  {
   "cell_type": "code",
   "execution_count": 3,
   "id": "d5d33794",
   "metadata": {},
   "outputs": [
    {
     "data": {
      "text/plain": [
       "Index(['_id', 'name', 'organization_size', 'company_type', 'created_at',\n",
       "       'updated_at', 'is_deleted'],\n",
       "      dtype='object')"
      ]
     },
     "execution_count": 3,
     "metadata": {},
     "output_type": "execute_result"
    }
   ],
   "source": [
    "df_companies.columns\n"
   ]
  },
  {
   "cell_type": "code",
   "execution_count": null,
   "id": "f2b05e34",
   "metadata": {},
   "outputs": [],
   "source": []
  }
 ],
 "metadata": {
  "kernelspec": {
   "display_name": "base",
   "language": "python",
   "name": "python3"
  },
  "language_info": {
   "codemirror_mode": {
    "name": "ipython",
    "version": 3
   },
   "file_extension": ".py",
   "mimetype": "text/x-python",
   "name": "python",
   "nbconvert_exporter": "python",
   "pygments_lexer": "ipython3",
   "version": "3.12.7"
  }
 },
 "nbformat": 4,
 "nbformat_minor": 5
}
