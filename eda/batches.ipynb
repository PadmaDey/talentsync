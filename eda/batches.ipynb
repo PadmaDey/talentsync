{
 "cells": [
  {
   "cell_type": "code",
   "execution_count": 2,
   "id": "d7945de6",
   "metadata": {},
   "outputs": [],
   "source": [
    "import pandas as pd\n"
   ]
  },
  {
   "cell_type": "code",
   "execution_count": 8,
   "id": "cdd250a5",
   "metadata": {},
   "outputs": [
    {
     "data": {
      "text/html": [
       "<div>\n",
       "<style scoped>\n",
       "    .dataframe tbody tr th:only-of-type {\n",
       "        vertical-align: middle;\n",
       "    }\n",
       "\n",
       "    .dataframe tbody tr th {\n",
       "        vertical-align: top;\n",
       "    }\n",
       "\n",
       "    .dataframe thead th {\n",
       "        text-align: right;\n",
       "    }\n",
       "</style>\n",
       "<table border=\"1\" class=\"dataframe\">\n",
       "  <thead>\n",
       "    <tr style=\"text-align: right;\">\n",
       "      <th></th>\n",
       "      <th>_id</th>\n",
       "      <th>uploaded_by</th>\n",
       "      <th>company_id</th>\n",
       "      <th>batch_id</th>\n",
       "      <th>batch_name</th>\n",
       "      <th>upload_count</th>\n",
       "      <th>job_id</th>\n",
       "      <th>status</th>\n",
       "      <th>start_time</th>\n",
       "      <th>end_time</th>\n",
       "      <th>type</th>\n",
       "    </tr>\n",
       "  </thead>\n",
       "  <tbody>\n",
       "    <tr>\n",
       "      <th>0</th>\n",
       "      <td>6822eb6f6342bdaa117239be</td>\n",
       "      <td>6822e2f56342bdaa117239b8</td>\n",
       "      <td>6822e3346342bdaa117239ba</td>\n",
       "      <td>b'm\\x18]v\\xf2&gt;Rv\\x867C\\x03\\xf9I\\xb7\\xa8'</td>\n",
       "      <td>Batch - SIS 1</td>\n",
       "      <td>10.0</td>\n",
       "      <td>6822eaf56342bdaa117239bd</td>\n",
       "      <td>completed</td>\n",
       "      <td>2025-05-13 06:49:19.226</td>\n",
       "      <td>2025-05-13 06:52:00.161</td>\n",
       "      <td>NaN</td>\n",
       "    </tr>\n",
       "    <tr>\n",
       "      <th>1</th>\n",
       "      <td>6822f3e46342bdaa117239c7</td>\n",
       "      <td>6822e2f56342bdaa117239b8</td>\n",
       "      <td>6822e3346342bdaa117239ba</td>\n",
       "      <td>b'\\xc9\\xe1\\x1e\\x13W\\x95Ud\\x89\\x00\\xdf\\xd2\\x01\\...</td>\n",
       "      <td>Batch - 2</td>\n",
       "      <td>1.0</td>\n",
       "      <td>6822eaf56342bdaa117239bd</td>\n",
       "      <td>completed</td>\n",
       "      <td>2025-05-13 07:25:24.299</td>\n",
       "      <td>2025-05-13 07:25:43.542</td>\n",
       "      <td>NaN</td>\n",
       "    </tr>\n",
       "  </tbody>\n",
       "</table>\n",
       "</div>"
      ],
      "text/plain": [
       "                        _id               uploaded_by  \\\n",
       "0  6822eb6f6342bdaa117239be  6822e2f56342bdaa117239b8   \n",
       "1  6822f3e46342bdaa117239c7  6822e2f56342bdaa117239b8   \n",
       "\n",
       "                 company_id  \\\n",
       "0  6822e3346342bdaa117239ba   \n",
       "1  6822e3346342bdaa117239ba   \n",
       "\n",
       "                                            batch_id     batch_name  \\\n",
       "0           b'm\\x18]v\\xf2>Rv\\x867C\\x03\\xf9I\\xb7\\xa8'  Batch - SIS 1   \n",
       "1  b'\\xc9\\xe1\\x1e\\x13W\\x95Ud\\x89\\x00\\xdf\\xd2\\x01\\...      Batch - 2   \n",
       "\n",
       "   upload_count                    job_id     status               start_time  \\\n",
       "0          10.0  6822eaf56342bdaa117239bd  completed  2025-05-13 06:49:19.226   \n",
       "1           1.0  6822eaf56342bdaa117239bd  completed  2025-05-13 07:25:24.299   \n",
       "\n",
       "                  end_time type  \n",
       "0  2025-05-13 06:52:00.161  NaN  \n",
       "1  2025-05-13 07:25:43.542  NaN  "
      ]
     },
     "execution_count": 8,
     "metadata": {},
     "output_type": "execute_result"
    }
   ],
   "source": [
    "df_batches = pd.read_csv(\"../production_data/raw_data_dump/batches.csv\")\n",
    "df_batches.head(2)\n"
   ]
  },
  {
   "cell_type": "code",
   "execution_count": 9,
   "id": "86a3c07d",
   "metadata": {},
   "outputs": [
    {
     "data": {
      "text/plain": [
       "Index(['_id', 'uploaded_by', 'company_id', 'batch_id', 'batch_name',\n",
       "       'upload_count', 'job_id', 'status', 'start_time', 'end_time', 'type'],\n",
       "      dtype='object')"
      ]
     },
     "execution_count": 9,
     "metadata": {},
     "output_type": "execute_result"
    }
   ],
   "source": [
    "df_batches.columns\n"
   ]
  },
  {
   "cell_type": "code",
   "execution_count": null,
   "id": "25771691",
   "metadata": {},
   "outputs": [],
   "source": []
  }
 ],
 "metadata": {
  "kernelspec": {
   "display_name": "base",
   "language": "python",
   "name": "python3"
  },
  "language_info": {
   "codemirror_mode": {
    "name": "ipython",
    "version": 3
   },
   "file_extension": ".py",
   "mimetype": "text/x-python",
   "name": "python",
   "nbconvert_exporter": "python",
   "pygments_lexer": "ipython3",
   "version": "3.12.7"
  }
 },
 "nbformat": 4,
 "nbformat_minor": 5
}
